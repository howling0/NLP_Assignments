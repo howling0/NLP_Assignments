{
 "cells": [
  {
   "cell_type": "markdown",
   "metadata": {},
   "source": [
    "## Assignment-03 First Step of Machine Learning: Model and Evaluation"
   ]
  },
  {
   "cell_type": "markdown",
   "metadata": {},
   "source": [
    "同学们，今天我们的学习了基本的机器学习概念，相比你已经对机器学习的这些方法有一个基本的认识了。值得说明的是，机器学习不仅仅是一系列方法，更重要的是一种思维体系，即：依据以往的、现有的数据，构建某种方法来解决未见过的问题。而且决策树，贝叶斯只是实现这个目标的一个方法，包括之后的神经网络。很有可能有一天，神经网络也会被淘汰，但是重要的是我们要理解机器学习的目标，就是尽可能的自动化解决未知的问题。"
   ]
  },
  {
   "cell_type": "markdown",
   "metadata": {},
   "source": [
    "![](https://timgsa.baidu.com/timg?image&quality=80&size=b9999_10000&sec=1571556399207&di=4a97dc15ad08dd49d3748d1edf6109b3&imgtype=0&src=http%3A%2F%2Fc.hiphotos.baidu.com%2Fzhidao%2Fwh%3D450%2C600%2Fsign%3Dae742c6aedcd7b89e93932873a146e91%2F5d6034a85edf8db1b16050c40223dd54574e74c7.jpg)"
   ]
  },
  {
   "cell_type": "markdown",
   "metadata": {},
   "source": [
    "## Part-1 Programming Review 编程回顾"
   ]
  },
  {
   "cell_type": "markdown",
   "metadata": {},
   "source": [
    "#### 1. Re-code the Linear-Regression Model using scikit-learning(10 points)"
   ]
  },
  {
   "cell_type": "markdown",
   "metadata": {},
   "source": [
    "<评阅点>： \n",
    "> + 是否完成线性回归模型 (4')\n",
    "+ 能够进行预测新数据(3')\n",
    "+ 能够进行可视化操作(3')"
   ]
  },
  {
   "cell_type": "markdown",
   "metadata": {},
   "source": [
    "##### 导入所需工具包"
   ]
  },
  {
   "cell_type": "code",
   "execution_count": 1,
   "metadata": {},
   "outputs": [],
   "source": [
    "import numpy as np\n",
    "import pandas as pd\n",
    "\n",
    "import random\n",
    "\n",
    "import matplotlib.pyplot as plt\n",
    "\n",
    "from sklearn.linear_model import LinearRegression\n",
    "\n",
    "%matplotlib inline"
   ]
  },
  {
   "cell_type": "markdown",
   "metadata": {},
   "source": [
    "##### 随机生成数据"
   ]
  },
  {
   "cell_type": "code",
   "execution_count": 2,
   "metadata": {},
   "outputs": [],
   "source": [
    "def generate_random_data(shape=(20,2)):\n",
    "    '''\n",
    "    生成随机数据\n",
    "    '''\n",
    "    return np.random.random(shape)"
   ]
  },
  {
   "cell_type": "code",
   "execution_count": 3,
   "metadata": {},
   "outputs": [],
   "source": [
    "def generate_regression_labels(X, range_=10, oscillate=5):\n",
    "    '''\n",
    "    生成回归标签\n",
    "    ------------\n",
    "    X: 数据\n",
    "    range_: w和b的随机范围\n",
    "    oscillate: 随机震荡范围\n",
    "    '''\n",
    "    # 获取单行数据的shape\n",
    "    shape = X[0].shape\n",
    "    # 随机生成 w 和 b\n",
    "    w = np.random.random(shape) * range_\n",
    "    b = np.random.random(1) * range_\n",
    "    # 计算 y 值\n",
    "    y = np.dot(X, w) + b\n",
    "    # 向 y 中加入随机震荡\n",
    "    y = [y_i + random.randint(-oscillate, oscillate) for y_i in y]\n",
    "    # 转为nparray\n",
    "    y = np.array(y)\n",
    "    # 返回标签列表 y，以及参数 w 和 b\n",
    "    return y, w, b"
   ]
  },
  {
   "cell_type": "code",
   "execution_count": 4,
   "metadata": {},
   "outputs": [],
   "source": [
    "def generate_classification_labels(X, b = 2):\n",
    "    '''\n",
    "    生成分类标签\n",
    "    ------------\n",
    "    X: 数据\n",
    "    b: 类别数目\n",
    "    '''\n",
    "    return [random.randint(0,b-1) for x_i in X]"
   ]
  },
  {
   "cell_type": "markdown",
   "metadata": {},
   "source": [
    "生成数据"
   ]
  },
  {
   "cell_type": "code",
   "execution_count": 369,
   "metadata": {},
   "outputs": [],
   "source": [
    "X = generate_random_data((30,1))"
   ]
  },
  {
   "cell_type": "markdown",
   "metadata": {},
   "source": [
    "生成回归标签"
   ]
  },
  {
   "cell_type": "code",
   "execution_count": 370,
   "metadata": {},
   "outputs": [],
   "source": [
    "y_r, w, b = generate_regression_labels(X, range_=10, oscillate=3)"
   ]
  },
  {
   "cell_type": "code",
   "execution_count": 371,
   "metadata": {},
   "outputs": [
    {
     "data": {
      "text/plain": [
       "array([ 5.01858513,  9.27677138,  6.64025586,  8.76637192,  8.5366664 ,\n",
       "        9.55738689,  4.91813031,  5.00517201,  6.19681649,  9.86067981,\n",
       "        7.38788226,  6.58967584,  7.56561088,  4.19636794,  9.93876668,\n",
       "        3.87937662,  9.2833685 ,  7.91465236, 10.28239254, 10.39598494,\n",
       "       10.25839162,  7.22234477,  8.60860106,  4.28409386,  5.3588084 ,\n",
       "        9.17678926,  9.54962441,  9.09963566, 10.37667393,  7.47189926])"
      ]
     },
     "execution_count": 371,
     "metadata": {},
     "output_type": "execute_result"
    }
   ],
   "source": [
    "y_r"
   ]
  },
  {
   "cell_type": "code",
   "execution_count": 372,
   "metadata": {},
   "outputs": [
    {
     "data": {
      "text/plain": [
       "(array([1.02789403]), array([6.4319623]))"
      ]
     },
     "execution_count": 372,
     "metadata": {},
     "output_type": "execute_result"
    }
   ],
   "source": [
    "w, b"
   ]
  },
  {
   "cell_type": "code",
   "execution_count": 383,
   "metadata": {},
   "outputs": [
    {
     "data": {
      "text/plain": [
       "<matplotlib.collections.PathCollection at 0x11b08a5898>"
      ]
     },
     "execution_count": 383,
     "metadata": {},
     "output_type": "execute_result"
    },
    {
     "data": {
      "image/png": "[encoded data removed]",
      "text/plain": [
       "<Figure size 432x288 with 1 Axes>"
      ]
     },
     "metadata": {
      "needs_background": "light"
     },
     "output_type": "display_data"
    }
   ],
   "source": [
    "plt.scatter(X.reshape(-1),y_r)"
   ]
  },
  {
   "cell_type": "markdown",
   "metadata": {},
   "source": [
    "生成分类标签"
   ]
  },
  {
   "cell_type": "code",
   "execution_count": 47,
   "metadata": {},
   "outputs": [],
   "source": [
    "y_c = generate_classification_labels(X, 3)"
   ]
  },
  {
   "cell_type": "code",
   "execution_count": 48,
   "metadata": {},
   "outputs": [
    {
     "data": {
      "text/plain": [
       "[2, 0, 2, 0, 1, 0, 1, 1, 0, 1, 1, 0, 2, 2, 2, 1, 2, 2, 1, 2]"
      ]
     },
     "execution_count": 48,
     "metadata": {},
     "output_type": "execute_result"
    }
   ],
   "source": [
    "y_c"
   ]
  },
  {
   "cell_type": "markdown",
   "metadata": {},
   "source": [
    "##### 回归模型"
   ]
  },
  {
   "cell_type": "code",
   "execution_count": 522,
   "metadata": {},
   "outputs": [],
   "source": [
    "class lr_model:\n",
    "    '''\n",
    "    线性回归模型\n",
    "    '''\n",
    "    def __init__(self, X = None, y = None):\n",
    "        '''\n",
    "        初始化模型，可以直接传入数据和标签进行训练\n",
    "        '''\n",
    "        self.lr = LinearRegression()\n",
    "        self.trained = False\n",
    "        if X and y:\n",
    "            self.fit(X, y)\n",
    "    \n",
    "    def fit(self, X, y):\n",
    "        '''\n",
    "        模型训练\n",
    "        '''\n",
    "        self.lr.fit(X, y)\n",
    "        # 记录数据\n",
    "        self.dataset = (X, y)\n",
    "        # 变为已训练状态\n",
    "        self.trained = True\n",
    "        \n",
    "    def get_params(self):\n",
    "        '''\n",
    "        获取训练所得的最佳参数\n",
    "        '''\n",
    "        if self.trained:\n",
    "            return self.lr.coef_, self.lr.intercept_\n",
    "        else:\n",
    "            print(\"Not trained yet\")\n",
    "        \n",
    "    def score(self):\n",
    "        '''\n",
    "        获取模型打分\n",
    "        '''\n",
    "        return self.lr.score(self.dataset[0], self.dataset[1])\n",
    "    \n",
    "    def predict(self, X):\n",
    "        '''\n",
    "        预测\n",
    "        '''\n",
    "        if self.trained:\n",
    "            return self.lr.predict(X)\n",
    "        else:\n",
    "            print(\"Not trained yet\")\n",
    "            \n",
    "    def plot(self, plot_line=False, test_x=None, test_y=None):\n",
    "        '''\n",
    "        绘图\n",
    "        ----\n",
    "        ###只支持一维数据###\n",
    "        '''\n",
    "        X, y = self.dataset\n",
    "        if self.trained:\n",
    "            plt.scatter(X, y)\n",
    "            # 传入测试数据，在图上画出黄色测试数据点\n",
    "            if test_x is not None and test_y is not None:\n",
    "                plt.scatter(test_x, test_y, c='yellow')\n",
    "            # 是否画出回归线\n",
    "            if plot_line:\n",
    "                plt.plot(X.reshape(-1), self.predict(X), color='red')\n",
    "        else:\n",
    "            print(\"Not trained yet\")"
   ]
  },
  {
   "cell_type": "code",
   "execution_count": 531,
   "metadata": {},
   "outputs": [],
   "source": [
    "# 实例化模型\n",
    "lr = lr_model()"
   ]
  },
  {
   "cell_type": "code",
   "execution_count": 532,
   "metadata": {},
   "outputs": [],
   "source": [
    "# 生成训练数据\n",
    "X = generate_random_data((50,1))"
   ]
  },
  {
   "cell_type": "code",
   "execution_count": 533,
   "metadata": {},
   "outputs": [],
   "source": [
    "# 生成标签\n",
    "y, w, b = generate_regression_labels(X, range_=15, oscillate=4)"
   ]
  },
  {
   "cell_type": "code",
   "execution_count": 534,
   "metadata": {},
   "outputs": [],
   "source": [
    "# 分出测试数据\n",
    "train_x = X[:40]\n",
    "train_y = y[:40]\n",
    "test_x = X[40:]\n",
    "test_y = y[40:]"
   ]
  },
  {
   "cell_type": "code",
   "execution_count": 535,
   "metadata": {},
   "outputs": [],
   "source": [
    "# 训练模型\n",
    "lr.fit(train_x, train_y)"
   ]
  },
  {
   "cell_type": "code",
   "execution_count": 536,
   "metadata": {},
   "outputs": [
    {
     "data": {
      "text/plain": [
       "(array([17.81099405, 12.16113706, 12.54944088,  7.76609445, 10.27412152,\n",
       "        17.76928403,  6.48221304,  9.4738971 ,  8.94369661, 10.11706977,\n",
       "        10.21881082, 10.10709191,  6.89651792,  9.42187157,  8.85244021,\n",
       "        10.44378404,  9.0249608 , 16.51015322, 16.52498556, 11.01891577,\n",
       "        13.1470464 , 13.49442159, 15.95906808, 17.95858508, 17.16981127,\n",
       "        17.29776582, 17.7361918 , 10.34980076, 10.39349418,  8.91351341,\n",
       "        12.24390687, 16.70869716, 17.86670921, 16.86060466, 17.01500288,\n",
       "         8.21396499, 10.18473211, 10.50790762, 10.09221383, 10.38829172]),\n",
       " array([14.76794497, 13.9031245 ,  8.30620234,  3.34086108, 10.94431255,\n",
       "        16.72464798,  7.00813106,  8.11364151, 10.56326817,  7.78128536,\n",
       "         6.88689741,  7.77092786,  6.43819925, 13.05963654,  8.46853968,\n",
       "        14.12043032,  8.64762427, 20.41761027, 15.43300694, 14.71744443,\n",
       "        16.92654531, 11.2871373 , 16.84555767, 16.92115148, 19.10236673,\n",
       "        14.23518964, 18.69029667,  7.02287121,  8.06822705, 11.53193657,\n",
       "        10.9890435 , 16.62370833, 17.82577995, 16.78139555, 18.94166825,\n",
       "         6.80577201, 11.85152209, 13.18699364, 12.7554837 , 11.06282665]))"
      ]
     },
     "execution_count": 536,
     "metadata": {},
     "output_type": "execute_result"
    }
   ],
   "source": [
    "# 查看预测值与标签\n",
    "lr.predict(train_x), train_y"
   ]
  },
  {
   "cell_type": "code",
   "execution_count": 537,
   "metadata": {},
   "outputs": [
    {
     "data": {
      "text/plain": [
       "((array([12.46862787]), 5.4988146484585805),\n",
       " array([12.9430292]),\n",
       " array([4.98731673]))"
      ]
     },
     "execution_count": 537,
     "metadata": {},
     "output_type": "execute_result"
    }
   ],
   "source": [
    "# 查看训练参数和生成标签用的参数\n",
    "lr.get_params(), w, b"
   ]
  },
  {
   "cell_type": "code",
   "execution_count": 538,
   "metadata": {},
   "outputs": [
    {
     "data": {
      "text/plain": [
       "0.7053559817928664"
      ]
     },
     "execution_count": 538,
     "metadata": {},
     "output_type": "execute_result"
    }
   ],
   "source": [
    "# 查看模型得分\n",
    "lr.score()"
   ]
  },
  {
   "cell_type": "code",
   "execution_count": 539,
   "metadata": {},
   "outputs": [
    {
     "data": {
      "image/png": "[encoded data removed]",
      "text/plain": [
       "<Figure size 432x288 with 1 Axes>"
      ]
     },
     "metadata": {
      "needs_background": "light"
     },
     "output_type": "display_data"
    }
   ],
   "source": [
    "# 绘制图形\n",
    "lr.plot(plot_line=True)"
   ]
  },
  {
   "cell_type": "code",
   "execution_count": 561,
   "metadata": {},
   "outputs": [],
   "source": [
    "# 对测试数据进行预测\n",
    "y_hat = lr.predict(test_x)"
   ]
  },
  {
   "cell_type": "code",
   "execution_count": 562,
   "metadata": {},
   "outputs": [
    {
     "data": {
      "text/plain": [
       "(array([ 7.10469086, 15.52363957,  8.20856197, 17.40955948,  8.64784081,\n",
       "         7.38159031, 17.59068392, 15.14204513, 14.37174536,  8.61395668]),\n",
       " array([ 7.65429267, 14.39356214, 11.80016342, 19.35123678,  8.25615577,\n",
       "         9.94172748, 18.53925256, 11.99744895, 10.19784113,  5.22098242]))"
      ]
     },
     "execution_count": 562,
     "metadata": {},
     "output_type": "execute_result"
    }
   ],
   "source": [
    "y_hat, test_y"
   ]
  },
  {
   "cell_type": "code",
   "execution_count": 543,
   "metadata": {},
   "outputs": [
    {
     "data": {
      "image/png": "[encoded data removed]",
      "text/plain": [
       "<Figure size 432x288 with 1 Axes>"
      ]
     },
     "metadata": {
      "needs_background": "light"
     },
     "output_type": "display_data"
    }
   ],
   "source": [
    "# 查看测试数据和训练数据分布差异\n",
    "lr.plot(plot_line=True, test_x=test_x, test_y=test_y)"
   ]
  },
  {
   "cell_type": "code",
   "execution_count": 547,
   "metadata": {},
   "outputs": [
    {
     "data": {
      "text/plain": [
       "[<matplotlib.lines.Line2D at 0x11b44614a8>]"
      ]
     },
     "execution_count": 547,
     "metadata": {},
     "output_type": "execute_result"
    },
    {
     "data": {
      "image/png": "[encoded data removed]",
      "text/plain": [
       "<Figure size 432x288 with 1 Axes>"
      ]
     },
     "metadata": {
      "needs_background": "light"
     },
     "output_type": "display_data"
    }
   ],
   "source": [
    "# 查看测试数据和预测结果差异\n",
    "plt.scatter(test_x, y_hat, c='purple')\n",
    "plt.scatter(test_x, test_y)\n",
    "plt.plot(train_x.reshape(-1), lr.predict(train_x), color='red')"
   ]
  },
  {
   "cell_type": "markdown",
   "metadata": {},
   "source": [
    "#### 2. Complete the unfinished KNN Model using pure python to solve the previous Line-Regression problem. (8 points)"
   ]
  },
  {
   "cell_type": "markdown",
   "metadata": {},
   "source": [
    "<评阅点>:\n",
    "> + 是否完成了KNN模型 (4')\n",
    "+ 是否能够预测新的数据 (4')"
   ]
  },
  {
   "cell_type": "code",
   "execution_count": 548,
   "metadata": {},
   "outputs": [],
   "source": [
    "from scipy.spatial.distance import cosine"
   ]
  },
  {
   "cell_type": "code",
   "execution_count": 555,
   "metadata": {},
   "outputs": [],
   "source": [
    "class knn_model:\n",
    "    '''\n",
    "    KNN 模型\n",
    "    '''\n",
    "    def __init__(self, X, y):\n",
    "        '''\n",
    "        初始化模型，保存训练数据\n",
    "        '''\n",
    "        self.dataset = [(x_i, y_i) for x_i, y_i in zip(X, y)]\n",
    "        \n",
    "    def distance(self, x1, x2, method):\n",
    "        '''\n",
    "        根据method参数使用对应方法计算距离\n",
    "        默认L1距离\n",
    "        '''\n",
    "        if method == 'cosine':\n",
    "            distance = cosine(x1, x2)\n",
    "        elif method == 'L2':\n",
    "            distance = np.sqrt(np.sum([pow(x, 2) for x in (x1 - x2)]))\n",
    "        else:\n",
    "            distance = np.abs(x1 - x2)\n",
    "            if len(distance) > 1:\n",
    "                distance = sum(distance)\n",
    "        return distance\n",
    "    \n",
    "    def predict(self, x, k=5, dist_method='L1'):\n",
    "        '''\n",
    "        预测\n",
    "        '''\n",
    "        most_similars = sorted(self.dataset, key=lambda xi: self.distance(xi[0], x, dist_method))[:k]\n",
    "        y_hats = [_y for x, _y in most_similars]\n",
    "        return np.mean(y_hats)"
   ]
  },
  {
   "cell_type": "code",
   "execution_count": 556,
   "metadata": {},
   "outputs": [],
   "source": [
    "# 实例化模型\n",
    "knn = knn_model(train_x, train_y)"
   ]
  },
  {
   "cell_type": "code",
   "execution_count": 564,
   "metadata": {},
   "outputs": [],
   "source": [
    "# 对测试数据进行预测\n",
    "y_hat_knn = [knn.predict(x_i) for x_i in test_x]"
   ]
  },
  {
   "cell_type": "code",
   "execution_count": 565,
   "metadata": {},
   "outputs": [
    {
     "data": {
      "text/plain": [
       "([6.412300615825352,\n",
       "  17.220255752655923,\n",
       "  8.142075500347707,\n",
       "  17.538833853937383,\n",
       "  9.203428138183195,\n",
       "  6.412300615825352,\n",
       "  16.44877184293278,\n",
       "  16.12140410344715,\n",
       "  12.870897224238377,\n",
       "  9.203428138183193],\n",
       " array([ 7.65429267, 14.39356214, 11.80016342, 19.35123678,  8.25615577,\n",
       "         9.94172748, 18.53925256, 11.99744895, 10.19784113,  5.22098242]))"
      ]
     },
     "execution_count": 565,
     "metadata": {},
     "output_type": "execute_result"
    }
   ],
   "source": [
    "# 查看预测结果与标签差异\n",
    "y_hat_knn, test_y"
   ]
  },
  {
   "cell_type": "code",
   "execution_count": 567,
   "metadata": {},
   "outputs": [
    {
     "data": {
      "text/plain": [
       "<matplotlib.collections.PathCollection at 0x11b45bb2e8>"
      ]
     },
     "execution_count": 567,
     "metadata": {},
     "output_type": "execute_result"
    },
    {
     "data": {
      "image/png": "[encoded data removed]",
      "text/plain": [
       "<Figure size 432x288 with 1 Axes>"
      ]
     },
     "metadata": {
      "needs_background": "light"
     },
     "output_type": "display_data"
    }
   ],
   "source": [
    "# 查看训练数据和测试数据预测结果的分布\n",
    "plt.scatter(test_x, y_hat_knn, c='yellow')\n",
    "plt.scatter(train_x, train_y)"
   ]
  },
  {
   "cell_type": "code",
   "execution_count": 566,
   "metadata": {},
   "outputs": [
    {
     "data": {
      "text/plain": [
       "[<matplotlib.lines.Line2D at 0x11b4582400>]"
      ]
     },
     "execution_count": 566,
     "metadata": {},
     "output_type": "execute_result"
    },
    {
     "data": {
      "image/png": "[encoded data removed]",
      "text/plain": [
       "<Figure size 432x288 with 1 Axes>"
      ]
     },
     "metadata": {
      "needs_background": "light"
     },
     "output_type": "display_data"
    }
   ],
   "source": [
    "# 查看和线性回归预测结果的差异\n",
    "plt.scatter(test_x, y_hat, c='purple') # 线性回归预测结果\n",
    "plt.scatter(test_x, y_hat_knn, c='yellow') # knn预测结果\n",
    "plt.scatter(test_x, test_y) # 真实标签\n",
    "plt.plot(train_x.reshape(-1), lr.predict(train_x), color='red') # 回归线"
   ]
  },
  {
   "cell_type": "markdown",
   "metadata": {},
   "source": [
    "#### 3. Re-code the Decision Tree, which could sort the features by salience. (12 points)"
   ]
  },
  {
   "cell_type": "markdown",
   "metadata": {},
   "source": [
    "<评阅点>\n",
    "> + 是否实现了信息熵 (1' )\n",
    "+ 是否实现了最优先特征点的选择(5')\n",
    "+ 是否实现了持续的特征选则(6')"
   ]
  },
  {
   "cell_type": "code",
   "execution_count": 29,
   "metadata": {},
   "outputs": [],
   "source": [
    "from collections import Counter\n",
    "import pdb"
   ]
  },
  {
   "cell_type": "code",
   "execution_count": 6,
   "metadata": {},
   "outputs": [],
   "source": [
    "class Node:\n",
    "    '''\n",
    "    决策树节点类\n",
    "    '''\n",
    "    def __init__(self, attr, val, result=None):\n",
    "        '''\n",
    "        初始化节点，记录划分点属性和值，以及节点分类结果\n",
    "        '''\n",
    "        self.attr = attr\n",
    "        self.val = val\n",
    "        self.result = result\n",
    "        self.left = None\n",
    "        self.right = None\n",
    "    \n",
    "    def __str__(self):\n",
    "        return \"attr:'{}',val:'{}',result:'{}',has-left:{},has-right:{}\".format(self.attr, self.val, self.result, self.left != None, self.right != None)"
   ]
  },
  {
   "cell_type": "code",
   "execution_count": 240,
   "metadata": {},
   "outputs": [],
   "source": [
    "class decision_tree_model:\n",
    "    '''\n",
    "    决策树模型，默认左侧分支为True\n",
    "    '''\n",
    "    def __init__(self, data, target):\n",
    "        '''\n",
    "        初始化模型\n",
    "        '''\n",
    "        self.data = data\n",
    "        self.target = target\n",
    "        self.attrs = set(data.columns.tolist()) - {target}\n",
    "        self.tree = self.build_tree(data)\n",
    "    \n",
    "    def entropy(self, elements):\n",
    "        '''\n",
    "        计算熵值\n",
    "        '''\n",
    "        counter = Counter(elements)\n",
    "        probs = [counter[c] / len(elements) for c in set(elements)]\n",
    "        return - sum(p * np.log(p) for p in probs)\n",
    "    \n",
    "    def find_optimal_spliter(self, data):\n",
    "        '''\n",
    "        寻找最佳切分点\n",
    "        '''\n",
    "        spliter = None\n",
    "        min_entropy = float('inf')\n",
    "        for attr in self.attrs:\n",
    "            values = set(data[attr])\n",
    "            for val in values:\n",
    "                subset_1 = data[data[attr] == val][self.target]\n",
    "                subset_2 = data[data[attr] != val][self.target]\n",
    "                \n",
    "                entropy_1 = self.entropy(subset_1)\n",
    "                entropy_2 = self.entropy(subset_2)\n",
    "                \n",
    "                entropy_total = entropy_1 + entropy_2\n",
    "                \n",
    "                ###########这里不确定是不是需要做处理##############\n",
    "                # 处理[M:0,M:0,F:0,F:1]不会以gender再划分一次的问题\n",
    "                # 因为[0,0,0,1] 比 [0,0] [0,1]的熵值小，所以会少分一次\n",
    "                if len(subset_1) == len(data) or len(subset_2) == len(data):\n",
    "                    entropy_total += 100\n",
    "                \n",
    "                if entropy_total <= min_entropy:\n",
    "                    spliter = (attr, val)\n",
    "                    min_entropy = entropy_total\n",
    "                    \n",
    "        return spliter\n",
    "    \n",
    "    def build_tree(self, data):\n",
    "        '''\n",
    "        递归建立决策树\n",
    "        '''\n",
    "        # 分支无数据，返回空\n",
    "        if data.empty:\n",
    "            return None\n",
    "        # 分支数据已不需要分割，返回结果节点\n",
    "        if len(set(data[self.target])) < 2:\n",
    "            return Node(\"\",\"\",data.iloc[0][self.target])\n",
    "        # 找到切分点\n",
    "        spliter = self.find_optimal_spliter(data)\n",
    "        # 建立当前节点\n",
    "        attr = spliter[0]\n",
    "        val = spliter[1]\n",
    "        node = Node(attr, val)\n",
    "        # 切分数据\n",
    "        left_set = data[data[attr] == val]\n",
    "        right_set = data[data[attr] != val]\n",
    "        # 如果没有切分，即无法再分割，投票决定节点类别\n",
    "        if left_set.empty or right_set.empty:\n",
    "            c = Counter(data[self.target])\n",
    "            node.result = c.most_common()[0][0]\n",
    "            return node\n",
    "        # 对左右分支递归建树\n",
    "        node.left = self.build_tree(left_set)\n",
    "        node.right = self.build_tree(right_set)\n",
    "        # 返回当前节点\n",
    "        return node"
   ]
  },
  {
   "cell_type": "markdown",
   "metadata": {},
   "source": [
    "测试"
   ]
  },
  {
   "cell_type": "code",
   "execution_count": 241,
   "metadata": {},
   "outputs": [],
   "source": [
    "# 模拟数据\n",
    "mock_data = {\n",
    "    'gender':['F', 'F', 'F', 'F', 'M', 'M', 'M'],\n",
    "    'income': ['+10', '-10', '+10', '+10', '+10', '+10', '-10'],\n",
    "    'family_number': [1, 1, 2, 1, 1, 1, 2],\n",
    "    'bought': [1, 1, 1, 0, 0, 0, 1],\n",
    "}"
   ]
  },
  {
   "cell_type": "code",
   "execution_count": 242,
   "metadata": {},
   "outputs": [],
   "source": [
    "# 转为DataFrame\n",
    "dataset = pd.DataFrame.from_dict(mock_data)"
   ]
  },
  {
   "cell_type": "code",
   "execution_count": 243,
   "metadata": {
    "scrolled": false
   },
   "outputs": [],
   "source": [
    "# 实例化模型\n",
    "dt = decision_tree_model(dataset, 'bought')"
   ]
  },
  {
   "cell_type": "code",
   "execution_count": 244,
   "metadata": {},
   "outputs": [
    {
     "data": {
      "text/html": [
       "<div>\n",
       "<style scoped>\n",
       "    .dataframe tbody tr th:only-of-type {\n",
       "        vertical-align: middle;\n",
       "    }\n",
       "\n",
       "    .dataframe tbody tr th {\n",
       "        vertical-align: top;\n",
       "    }\n",
       "\n",
       "    .dataframe thead th {\n",
       "        text-align: right;\n",
       "    }\n",
       "</style>\n",
       "<table border=\"1\" class=\"dataframe\">\n",
       "  <thead>\n",
       "    <tr style=\"text-align: right;\">\n",
       "      <th></th>\n",
       "      <th>gender</th>\n",
       "      <th>income</th>\n",
       "      <th>family_number</th>\n",
       "      <th>bought</th>\n",
       "    </tr>\n",
       "  </thead>\n",
       "  <tbody>\n",
       "    <tr>\n",
       "      <th>0</th>\n",
       "      <td>F</td>\n",
       "      <td>+10</td>\n",
       "      <td>1</td>\n",
       "      <td>1</td>\n",
       "    </tr>\n",
       "    <tr>\n",
       "      <th>1</th>\n",
       "      <td>F</td>\n",
       "      <td>-10</td>\n",
       "      <td>1</td>\n",
       "      <td>1</td>\n",
       "    </tr>\n",
       "    <tr>\n",
       "      <th>2</th>\n",
       "      <td>F</td>\n",
       "      <td>+10</td>\n",
       "      <td>2</td>\n",
       "      <td>1</td>\n",
       "    </tr>\n",
       "    <tr>\n",
       "      <th>3</th>\n",
       "      <td>F</td>\n",
       "      <td>+10</td>\n",
       "      <td>1</td>\n",
       "      <td>0</td>\n",
       "    </tr>\n",
       "    <tr>\n",
       "      <th>4</th>\n",
       "      <td>M</td>\n",
       "      <td>+10</td>\n",
       "      <td>1</td>\n",
       "      <td>0</td>\n",
       "    </tr>\n",
       "    <tr>\n",
       "      <th>5</th>\n",
       "      <td>M</td>\n",
       "      <td>+10</td>\n",
       "      <td>1</td>\n",
       "      <td>0</td>\n",
       "    </tr>\n",
       "    <tr>\n",
       "      <th>6</th>\n",
       "      <td>M</td>\n",
       "      <td>-10</td>\n",
       "      <td>2</td>\n",
       "      <td>1</td>\n",
       "    </tr>\n",
       "  </tbody>\n",
       "</table>\n",
       "</div>"
      ],
      "text/plain": [
       "  gender income  family_number  bought\n",
       "0      F    +10              1       1\n",
       "1      F    -10              1       1\n",
       "2      F    +10              2       1\n",
       "3      F    +10              1       0\n",
       "4      M    +10              1       0\n",
       "5      M    +10              1       0\n",
       "6      M    -10              2       1"
      ]
     },
     "execution_count": 244,
     "metadata": {},
     "output_type": "execute_result"
    }
   ],
   "source": [
    "dataset"
   ]
  },
  {
   "cell_type": "markdown",
   "metadata": {},
   "source": [
    "检查树分支"
   ]
  },
  {
   "cell_type": "code",
   "execution_count": 245,
   "metadata": {},
   "outputs": [
    {
     "name": "stdout",
     "output_type": "stream",
     "text": [
      "attr:'income',val:'+10',result:'None',has-left:True,has-right:True\n"
     ]
    }
   ],
   "source": [
    "# 根节点\n",
    "print(dt.tree)"
   ]
  },
  {
   "cell_type": "code",
   "execution_count": 246,
   "metadata": {},
   "outputs": [
    {
     "name": "stdout",
     "output_type": "stream",
     "text": [
      "attr:'family_number',val:'2',result:'None',has-left:True,has-right:True\n"
     ]
    }
   ],
   "source": [
    "## 根节点的左侧节点有子节点，继续划分，划分依据为family_number是否等于 2\n",
    "print(dt.tree.left)"
   ]
  },
  {
   "cell_type": "code",
   "execution_count": 247,
   "metadata": {},
   "outputs": [
    {
     "name": "stdout",
     "output_type": "stream",
     "text": [
      "attr:'',val:'',result:'1',has-left:False,has-right:False\n"
     ]
    }
   ],
   "source": [
    "## 根节点的右侧节点有result属性，且没有划分点信息，表示是叶节点，income != +10 时，bought会预测为1\n",
    "print(dt.tree.right)"
   ]
  },
  {
   "cell_type": "code",
   "execution_count": 248,
   "metadata": {},
   "outputs": [
    {
     "name": "stdout",
     "output_type": "stream",
     "text": [
      "attr:'',val:'',result:'1',has-left:False,has-right:False\n"
     ]
    }
   ],
   "source": [
    "### family_number = 2 且 income = +10，bought预测为1\n",
    "print(dt.tree.left.left)"
   ]
  },
  {
   "cell_type": "code",
   "execution_count": 249,
   "metadata": {},
   "outputs": [
    {
     "name": "stdout",
     "output_type": "stream",
     "text": [
      "attr:'gender',val:'M',result:'None',has-left:True,has-right:True\n"
     ]
    }
   ],
   "source": [
    "### 划分依据为 gender是否等于 M\n",
    "print(dt.tree.left.right)"
   ]
  },
  {
   "cell_type": "code",
   "execution_count": 250,
   "metadata": {},
   "outputs": [
    {
     "name": "stdout",
     "output_type": "stream",
     "text": [
      "attr:'',val:'',result:'0',has-left:False,has-right:False\n"
     ]
    }
   ],
   "source": [
    "#### family_number = 2，income = +10 且 gender = M 时，bought预测为0\n",
    "print(dt.tree.left.right.left)"
   ]
  },
  {
   "cell_type": "code",
   "execution_count": 251,
   "metadata": {},
   "outputs": [
    {
     "name": "stdout",
     "output_type": "stream",
     "text": [
      "attr:'income',val:'+10',result:'1',has-left:False,has-right:False\n"
     ]
    }
   ],
   "source": [
    "#### 有result，且有划分点，表示该节点无法继续划分，投票得出分类为1\n",
    "print(dt.tree.left.right.right)"
   ]
  },
  {
   "cell_type": "markdown",
   "metadata": {},
   "source": [
    "#### 4. Finish the K-Means using 2-D matplotlib (8 points)"
   ]
  },
  {
   "cell_type": "markdown",
   "metadata": {},
   "source": [
    "<评阅点>\n",
    "> + 是否完成了KMeans模型，基于scikit-learning (3')\n",
    "+ 是否完成了可视化任务（5'）"
   ]
  },
  {
   "cell_type": "code",
   "execution_count": 100,
   "metadata": {},
   "outputs": [],
   "source": [
    "from sklearn.cluster import KMeans\n",
    "from collections import defaultdict"
   ]
  },
  {
   "cell_type": "code",
   "execution_count": 124,
   "metadata": {},
   "outputs": [],
   "source": [
    "class k_means_model:\n",
    "    '''\n",
    "    KMeans模型\n",
    "    '''\n",
    "    def __init__(self, k=6, max_iter=500):\n",
    "        '''\n",
    "        初始化模型\n",
    "        '''\n",
    "        self.kmeans = KMeans(n_clusters=k, max_iter=max_iter)\n",
    "    \n",
    "    def generate_data(self, n=100):\n",
    "        '''\n",
    "        随机生成二维数据\n",
    "        '''\n",
    "        X1 = [random.randint(0, 100) for _ in range(n)]\n",
    "        X2 = [random.randint(0, 100) for _ in range(n)]\n",
    "        # 转换为dataframe\n",
    "        self.training_data = pd.DataFrame(data={\"X1\":X1,\"X2\":X2})\n",
    "        self.plot_data()\n",
    "        \n",
    "    def plot_data(self):\n",
    "        '''\n",
    "        打印数据\n",
    "        '''\n",
    "        plt.scatter(self.training_data['X1'],self.training_data['X2'])\n",
    "        \n",
    "    def plot_result(self):\n",
    "        '''\n",
    "        绘制聚类结果\n",
    "        '''\n",
    "        centers = defaultdict(list)\n",
    "        for label, location in zip(self.kmeans.labels_, self.training_data.iterrows()):\n",
    "            centers[label].append(list(location[1]))\n",
    "            \n",
    "        color = ['red', 'green', 'grey', 'black', 'yellow', 'orange']\n",
    "\n",
    "        for i, c in enumerate(centers):\n",
    "            for location in centers[c]:\n",
    "                plt.scatter(*location, c=color[i])\n",
    "\n",
    "        for center in self.kmeans.cluster_centers_:\n",
    "            plt.scatter(*center, s=100)\n",
    "        \n",
    "    def fit(self):\n",
    "        '''\n",
    "        训练模型\n",
    "        '''\n",
    "        self.kmeans.fit(self.training_data)\n",
    "        \n",
    "    def get_centers(self):\n",
    "        '''\n",
    "        获取聚类中心点\n",
    "        '''\n",
    "        return self.kmeans.cluster_centers_\n",
    "    \n",
    "    def get_labels(self):\n",
    "        '''\n",
    "        获取训练数据聚类结果\n",
    "        '''\n",
    "        return self.kmeans.labels_"
   ]
  },
  {
   "cell_type": "code",
   "execution_count": 125,
   "metadata": {},
   "outputs": [],
   "source": [
    "# 实例化模型\n",
    "kmeans = k_means_model()"
   ]
  },
  {
   "cell_type": "code",
   "execution_count": 126,
   "metadata": {},
   "outputs": [
    {
     "data": {
      "image/png": "[encoded data removed]",
      "text/plain": [
       "<Figure size 432x288 with 1 Axes>"
      ]
     },
     "metadata": {
      "needs_background": "light"
     },
     "output_type": "display_data"
    }
   ],
   "source": [
    "# 随机生成数据\n",
    "kmeans.generate_data(200)"
   ]
  },
  {
   "cell_type": "code",
   "execution_count": 127,
   "metadata": {},
   "outputs": [],
   "source": [
    "# 训练模型\n",
    "kmeans.fit()"
   ]
  },
  {
   "cell_type": "code",
   "execution_count": 128,
   "metadata": {},
   "outputs": [
    {
     "data": {
      "image/png": "[encoded data removed]",
      "text/plain": [
       "<Figure size 432x288 with 1 Axes>"
      ]
     },
     "metadata": {
      "needs_background": "light"
     },
     "output_type": "display_data"
    }
   ],
   "source": [
    "# 画出聚类结果\n",
    "kmeans.plot_result()"
   ]
  },
  {
   "cell_type": "markdown",
   "metadata": {},
   "source": [
    "## Part-2 Question and Answer 问答"
   ]
  },
  {
   "cell_type": "markdown",
   "metadata": {},
   "source": [
    "#### 1. What's the *model*? why  all the models are wrong, but some are useful? (5 points) "
   ]
  },
  {
   "cell_type": "markdown",
   "metadata": {},
   "source": [
    "Ans:A model is a function which describes the problem solution mathematically. All models are wrong because there's always some random factors in the actual problems, therefore no function can perfectly model all data patterns in the problem, but the models can always give a relatively close answer and a higher accuracy than random guessing, hence some of them can be extremely useful."
   ]
  },
  {
   "cell_type": "markdown",
   "metadata": {},
   "source": [
    "<评阅点>\n",
    "> + 对模型的理解是否正确,对模型的抽象性是否正确(5')"
   ]
  },
  {
   "cell_type": "markdown",
   "metadata": {},
   "source": [
    "#### 2. What's the underfitting and overfitting? List the reasons that could make model overfitting or underfitting. (10 points)"
   ]
  },
  {
   "cell_type": "markdown",
   "metadata": {},
   "source": [
    "Ans:Underfitting means that the model lacks training and has a higher bias, whereas overfitting indicates the model tried too hard to fit the training data with higher variance(worse generalization capability).   \n",
    "A low training iteration number or a small learning rate always leads to underfitting, and overfitting often happens when the model is too complicated and fits every training data points perfectly."
   ]
  },
  {
   "cell_type": "markdown",
   "metadata": {},
   "source": [
    "<评阅点>\n",
    "> + 对过拟合和欠拟合的理解是否正确 (3')\n",
    "+ 对欠拟合产生的原因是否理解正确(2')\n",
    "+ 对过拟合产生的原因是否理解正确(5')"
   ]
  },
  {
   "cell_type": "markdown",
   "metadata": {},
   "source": [
    "#### 3. What's the precision, recall, AUC, F1, F2score. What are they mainly target on? (12')"
   ]
  },
  {
   "cell_type": "markdown",
   "metadata": {},
   "source": [
    "Ans:All of these terms refer to machine learning model evaluation methods based on confusion matrix, their main goal is to evaluate the current model and help it to find the best model structure or optimal hyper parameters.  \n",
    "P: positive , N: negative  \n",
    "T: true , F: false  \n",
    "$Precision=\\frac{TP}{TP+FP}$, it mainly focus on ensuring the data marked positive is actually positive;  \n",
    "$Recul=\\frac{TP}{TP+FN}$, it focus on the opposite side of precision, which is that how many positive data are marked as positive; \n",
    "\n",
    "P: precision, R: recall  \n",
    "$F-Score=(1+\\beta^2)\\frac{PR}{\\beta^2 P+R}$, it considers both precision and recall, and uses $\\beta$ to control the tradeoff between them. When $\\beta$ equals 1, it is called F1 score or the harmonic mean of P and R, where P and R has the same weight, P will become more important when $\\beta$ is less than 1 and vice versa. When $\\beta$ equals 2, it is F2 score, and the importance of R is twice of P.  \n",
    "AUC also includes both P and R, it calculates the area under the ROC curve, ROC curve is drawn with $FPR=\\frac{FP}{FP+TN}$ as the x-axis and $TPR=\\frac{TP}{TP+FN}$ as the y-axis."
   ]
  },
  {
   "cell_type": "markdown",
   "metadata": {},
   "source": [
    "<评阅点>\n",
    "> + 对precision, recall, AUC, F1, F2 理解是否正确(6‘)\n",
    "+ 对precision, recall, AUC, F1, F2的使用侧重点是否理解正确 (6’)"
   ]
  },
  {
   "cell_type": "markdown",
   "metadata": {},
   "source": [
    "#### 4. Based on our course and yourself mind, what's the machine learning?  (8')"
   ]
  },
  {
   "cell_type": "markdown",
   "metadata": {},
   "source": [
    "Ans:Machine learning can model problems based on the existing data and predict the result of newly generated data, and when the data changed, the model can work with only a little change on its parameters or structure; whereas the traditional analytical programing needs more data analysation and code changes."
   ]
  },
  {
   "cell_type": "markdown",
   "metadata": {},
   "source": [
    "<评阅点> 开放式问题，是否能说出来机器学习这种思维方式和传统的分析式编程的区别（8'）"
   ]
  },
  {
   "cell_type": "markdown",
   "metadata": {},
   "source": [
    "#### 5. \"正确定义了机器学习模型的评价标准(evaluation)， 问题基本上就已经解决一半\". 这句话是否正确？你是怎么看待的？ (8‘)"
   ]
  },
  {
   "cell_type": "markdown",
   "metadata": {},
   "source": [
    "Ans:Different evaluations has different focuses, a wrong evaluation method may lead the model to the wrong direction."
   ]
  },
  {
   "cell_type": "markdown",
   "metadata": {},
   "source": [
    "<评阅点> 开放式问题，主要看能理解评价指标对机器学习模型的重要性."
   ]
  },
  {
   "cell_type": "markdown",
   "metadata": {},
   "source": [
    "## Part-03 Programming Practice 编程练习"
   ]
  },
  {
   "cell_type": "markdown",
   "metadata": {},
   "source": [
    "1. In our course and previous practice, we complete some importance components of Decision Tree. In this problem, you need to build a **completed** Decision Tree Model. You show finish a `predicate()` function, which accepts three parameters **<gender, income, family_number>**, and outputs the predicated 'bought': 1 or 0.  (20 points)"
   ]
  },
  {
   "cell_type": "code",
   "execution_count": 258,
   "metadata": {},
   "outputs": [],
   "source": [
    "class decision_tree_model:\n",
    "    '''\n",
    "    决策树模型，默认左侧分支为True\n",
    "    '''\n",
    "    def __init__(self, data, target):\n",
    "        '''\n",
    "        初始化模型\n",
    "        '''\n",
    "        self.data = data\n",
    "        self.target = target\n",
    "        self.attrs = set(data.columns.tolist()) - {target}\n",
    "        self.tree = self.build_tree(data)\n",
    "    \n",
    "    def entropy(self, elements):\n",
    "        '''\n",
    "        计算熵值\n",
    "        '''\n",
    "        counter = Counter(elements)\n",
    "        probs = [counter[c] / len(elements) for c in set(elements)]\n",
    "        return - sum(p * np.log(p) for p in probs)\n",
    "    \n",
    "    def find_optimal_spliter(self, data):\n",
    "        '''\n",
    "        寻找最佳切分点\n",
    "        '''\n",
    "        spliter = None\n",
    "        min_entropy = float('inf')\n",
    "        for attr in self.attrs:\n",
    "            values = set(data[attr])\n",
    "            for val in values:\n",
    "                subset_1 = data[data[attr] == val][self.target]\n",
    "                subset_2 = data[data[attr] != val][self.target]\n",
    "                \n",
    "                entropy_1 = self.entropy(subset_1)\n",
    "                entropy_2 = self.entropy(subset_2)\n",
    "                \n",
    "                entropy_total = entropy_1 + entropy_2\n",
    "                \n",
    "                ###########这里不确定是不是需要做处理##############\n",
    "                # 处理[M:0,M:0,F:0,F:1]不会以gender再划分一次的问题\n",
    "                # 因为[0,0,0,1] 比 [0,0] [0,1]的熵值小，所以会少分一次\n",
    "                if len(subset_1) == len(data) or len(subset_2) == len(data):\n",
    "                    entropy_total += 100\n",
    "                \n",
    "                if entropy_total <= min_entropy:\n",
    "                    spliter = (attr, val)\n",
    "                    min_entropy = entropy_total\n",
    "                    \n",
    "        return spliter\n",
    "    \n",
    "    def build_tree(self, data):\n",
    "        '''\n",
    "        递归建立决策树\n",
    "        '''\n",
    "        # 分支无数据，返回空\n",
    "        if data.empty:\n",
    "            return None\n",
    "        # 分支数据已不需要分割，返回结果节点\n",
    "        if len(set(data[self.target])) < 2:\n",
    "            return Node(\"\",\"\",data.iloc[0][self.target])\n",
    "        # 找到切分点\n",
    "        spliter = self.find_optimal_spliter(data)\n",
    "        # 建立当前节点\n",
    "        attr = spliter[0]\n",
    "        val = spliter[1]\n",
    "        node = Node(attr, val)\n",
    "        # 切分数据\n",
    "        left_set = data[data[attr] == val]\n",
    "        right_set = data[data[attr] != val]\n",
    "        # 如果没有切分，即无法再分割，投票决定节点类别\n",
    "        if left_set.empty or right_set.empty:\n",
    "            c = Counter(data[self.target])\n",
    "            node.result = c.most_common()[0][0]\n",
    "            return node\n",
    "        # 对左右分支递归建树\n",
    "        node.left = self.build_tree(left_set)\n",
    "        node.right = self.build_tree(right_set)\n",
    "        # 返回当前节点\n",
    "        return node\n",
    "    \n",
    "    ### 以下为新增部分 ###\n",
    "    def predicate(self, gender, income, family_number):\n",
    "        '''\n",
    "        预测入口\n",
    "        '''\n",
    "        return self.predict(self.tree, gender, income, family_number)\n",
    "    \n",
    "    def predict(self, node, gender, income, family_number):\n",
    "        '''\n",
    "        寻找对应的分组节点\n",
    "        '''\n",
    "        # pdb.set_trace()\n",
    "        # 找到了有预测结果的节点，直接返回\n",
    "        if node.result != None:\n",
    "            print(\"返回预测结果\")\n",
    "            return node.result\n",
    "        # 取出节点信息\n",
    "        attr = node.attr\n",
    "        val = node.val\n",
    "        # 是否与节点信息匹配\n",
    "        matched = False\n",
    "        if attr == 'gender':\n",
    "            matched = val == gender\n",
    "        elif attr == 'income':\n",
    "            matched = val == income\n",
    "        else:\n",
    "            matched = val == family_number\n",
    "        # 判断分支\n",
    "        if matched:\n",
    "            if node.left:\n",
    "                print(\"{}={},走左侧分支\".format(attr,val))\n",
    "                return self.predict(node.left, gender, income, family_number)\n",
    "            else:\n",
    "                return None\n",
    "        elif node.right:\n",
    "            print(\"{}!={},走右侧分支\".format(attr,val))\n",
    "            return self.predict(node.right, gender, income, family_number)\n",
    "        else:\n",
    "            return None"
   ]
  },
  {
   "cell_type": "code",
   "execution_count": 259,
   "metadata": {},
   "outputs": [],
   "source": [
    "# 模拟数据\n",
    "mock_data = {\n",
    "    'gender':['F', 'F', 'F', 'F', 'M', 'M', 'M'],\n",
    "    'income': ['+10', '-10', '+10', '+10', '+10', '+10', '-10'],\n",
    "    'family_number': [1, 1, 2, 1, 1, 1, 2],\n",
    "    'bought': [1, 1, 1, 0, 0, 0, 1],\n",
    "}\n",
    "\n",
    "# 转为DataFrame\n",
    "dataset = pd.DataFrame.from_dict(mock_data)"
   ]
  },
  {
   "cell_type": "code",
   "execution_count": 260,
   "metadata": {},
   "outputs": [],
   "source": [
    "# 实例化模型\n",
    "dt = decision_tree_model(dataset, 'bought')"
   ]
  },
  {
   "cell_type": "markdown",
   "metadata": {},
   "source": [
    "测试"
   ]
  },
  {
   "cell_type": "code",
   "execution_count": 261,
   "metadata": {},
   "outputs": [],
   "source": [
    "#树结构如下：\n",
    "#                   income = +10?  \n",
    "#               True/           \\False\n",
    "#     family_number = 2?       result-1\n",
    "#  True/            \\False\n",
    "# result-1      gender = M?\n",
    "#           True/       \\False\n",
    "#          result-0    non-split-1"
   ]
  },
  {
   "cell_type": "code",
   "execution_count": 262,
   "metadata": {},
   "outputs": [
    {
     "name": "stdout",
     "output_type": "stream",
     "text": [
      "income!=+10,走右侧分支\n",
      "返回预测结果\n"
     ]
    },
    {
     "data": {
      "text/plain": [
       "1"
      ]
     },
     "execution_count": 262,
     "metadata": {},
     "output_type": "execute_result"
    }
   ],
   "source": [
    "dt.predicate('F','-10',1)"
   ]
  },
  {
   "cell_type": "code",
   "execution_count": 263,
   "metadata": {},
   "outputs": [
    {
     "name": "stdout",
     "output_type": "stream",
     "text": [
      "income=+10,走左侧分支\n",
      "family_number!=2,走右侧分支\n",
      "gender!=M,走右侧分支\n",
      "返回预测结果\n"
     ]
    },
    {
     "data": {
      "text/plain": [
       "1"
      ]
     },
     "execution_count": 263,
     "metadata": {},
     "output_type": "execute_result"
    }
   ],
   "source": [
    "dt.predicate('F','+10',1)"
   ]
  },
  {
   "cell_type": "code",
   "execution_count": 264,
   "metadata": {},
   "outputs": [
    {
     "name": "stdout",
     "output_type": "stream",
     "text": [
      "income=+10,走左侧分支\n",
      "family_number=2,走左侧分支\n",
      "返回预测结果\n"
     ]
    },
    {
     "data": {
      "text/plain": [
       "1"
      ]
     },
     "execution_count": 264,
     "metadata": {},
     "output_type": "execute_result"
    }
   ],
   "source": [
    "dt.predicate('F','+10',2)"
   ]
  },
  {
   "cell_type": "code",
   "execution_count": 265,
   "metadata": {},
   "outputs": [
    {
     "name": "stdout",
     "output_type": "stream",
     "text": [
      "income=+10,走左侧分支\n",
      "family_number!=2,走右侧分支\n",
      "gender=M,走左侧分支\n",
      "返回预测结果\n"
     ]
    },
    {
     "data": {
      "text/plain": [
       "0"
      ]
     },
     "execution_count": 265,
     "metadata": {},
     "output_type": "execute_result"
    }
   ],
   "source": [
    "dt.predicate('M','+10',1)"
   ]
  },
  {
   "cell_type": "markdown",
   "metadata": {},
   "source": [
    "测试不在数据集中的数据"
   ]
  },
  {
   "cell_type": "code",
   "execution_count": 266,
   "metadata": {},
   "outputs": [
    {
     "name": "stdout",
     "output_type": "stream",
     "text": [
      "income!=+10,走右侧分支\n",
      "返回预测结果\n"
     ]
    },
    {
     "data": {
      "text/plain": [
       "1"
      ]
     },
     "execution_count": 266,
     "metadata": {},
     "output_type": "execute_result"
    }
   ],
   "source": [
    "dt.predicate('F','-10',2)"
   ]
  },
  {
   "cell_type": "code",
   "execution_count": 267,
   "metadata": {},
   "outputs": [
    {
     "name": "stdout",
     "output_type": "stream",
     "text": [
      "income=+10,走左侧分支\n",
      "family_number=2,走左侧分支\n",
      "返回预测结果\n"
     ]
    },
    {
     "data": {
      "text/plain": [
       "1"
      ]
     },
     "execution_count": 267,
     "metadata": {},
     "output_type": "execute_result"
    }
   ],
   "source": [
    "dt.predicate('M','+10',2)"
   ]
  },
  {
   "cell_type": "code",
   "execution_count": 268,
   "metadata": {},
   "outputs": [
    {
     "name": "stdout",
     "output_type": "stream",
     "text": [
      "income!=+10,走右侧分支\n",
      "返回预测结果\n"
     ]
    },
    {
     "data": {
      "text/plain": [
       "1"
      ]
     },
     "execution_count": 268,
     "metadata": {},
     "output_type": "execute_result"
    }
   ],
   "source": [
    "dt.predicate('M','-10',1)"
   ]
  },
  {
   "cell_type": "markdown",
   "metadata": {},
   "source": [
    "<评阅点>\n",
    "> + 是否将之前的决策树模型的部分进行合并组装， predicate函数能够顺利运行(8')\n",
    "+ 是够能够输入未曾见过的X变量，例如gender, income, family_number 分别是： <M, -10, 1>, 模型能够预测出结果 (12')"
   ]
  },
  {
   "cell_type": "markdown",
   "metadata": {},
   "source": [
    "2. 将上一节课(第二节课)的线性回归问题中的Loss函数改成\"绝对值\"，并且改变其偏导的求值方式，观察其结果的变化。(19 point)"
   ]
  },
  {
   "cell_type": "code",
   "execution_count": 172,
   "metadata": {},
   "outputs": [],
   "source": [
    "from sklearn.datasets import load_boston\n",
    "import random"
   ]
  },
  {
   "cell_type": "code",
   "execution_count": 312,
   "metadata": {},
   "outputs": [],
   "source": [
    "class lr_model:\n",
    "    '''\n",
    "    线性回归模型\n",
    "    '''\n",
    "    def __init__(self):\n",
    "        '''\n",
    "        初始化模型\n",
    "        '''\n",
    "        dataset = load_boston()\n",
    "        X, self.y = dataset['data'],dataset['target']\n",
    "        # 取出第5列，即 RM 列\n",
    "        self.X_rm = X[:,5]\n",
    "        self.k = random.random() * 2 - 1  # -1 1\n",
    "        self.b = random.random() * 2 - 1  # -1 1\n",
    "        plt.scatter(self.X_rm,self.y)\n",
    "        \n",
    "    def fit(self, learning_rate=1e-2, iteration_num=500):\n",
    "        '''\n",
    "        模型训练\n",
    "        '''\n",
    "        losses = []\n",
    "        k = self.k\n",
    "        b = self.b\n",
    "        for i in range(iteration_num):\n",
    "            # 对每行数据计算对应的 y_hat\n",
    "            price_use_current_parameters = [self.predict(x, k, b) for x in self.X_rm]\n",
    "\n",
    "            # 计算损失\n",
    "            current_loss = self.loss(self.y, price_use_current_parameters)\n",
    "            losses.append(current_loss)\n",
    "            if i % 10 == 0:\n",
    "                print(\"Iteration {}, the loss is {}, parameters k is {} and b is {}\".format(i,current_loss,k,b))\n",
    "\n",
    "            # 计算梯度\n",
    "            k_gradient = self.partial_derivative_k(self.X_rm, self.y, price_use_current_parameters)\n",
    "            b_gradient = self.partial_derivative_b(self.y, price_use_current_parameters)\n",
    "\n",
    "            # 更新参数（向负梯度方向走一步，步长为 learning_rate）\n",
    "            k = k + (-1 * k_gradient) * learning_rate\n",
    "            b = b + (-1 * b_gradient) * learning_rate\n",
    "            \n",
    "        # 记录模型参数\n",
    "        self.k = k\n",
    "        self.b = b\n",
    "        # 画出loss变化\n",
    "        plt.plot(list(range(iteration_num)),losses)\n",
    "        print(\"训练完成\")\n",
    "        \n",
    "    def loss(self, y, y_hat):\n",
    "        '''\n",
    "        MAE loss\n",
    "        '''\n",
    "        return sum(abs(y_i - y_hat_i) for y_i, y_hat_i in zip(list(y),list(y_hat)))/len(list(y))\n",
    "    \n",
    "    def partial_derivative_k(self, x, y, y_hat):\n",
    "        n = len(y)\n",
    "        gradient = 0\n",
    "        for x_i, y_i, y_hat_i in zip(list(x), list(y), list(y_hat)):\n",
    "            # 绝对值求导\n",
    "            sign = 1\n",
    "            if y_i - y_hat_i < 0:\n",
    "                sign = -1\n",
    "            gradient += sign * -x_i\n",
    "        return 1/n * gradient\n",
    "\n",
    "    def partial_derivative_b(self, y, y_hat):\n",
    "        n = len(y)\n",
    "        gradient = 0\n",
    "        for y_i, y_hat_i in zip(list(y), list(y_hat)):\n",
    "            # 绝对值求导\n",
    "            sign = 1\n",
    "            if y_i - y_hat_i < 0:\n",
    "                sign = -1\n",
    "            gradient += sign\n",
    "        return 1/n * gradient\n",
    "    \n",
    "    def predict(self, X, k, b):\n",
    "        '''\n",
    "        预测\n",
    "        '''\n",
    "        return k * X + b\n",
    "            \n",
    "    def plot(self):\n",
    "        '''\n",
    "        绘图\n",
    "        '''\n",
    "        price_use_best_parameters = [self.predict(x, self.k, self.b) for x in self.X_rm]\n",
    "        plt.scatter(self.X_rm, self.y)\n",
    "        plt.scatter(self.X_rm, price_use_best_parameters)"
   ]
  },
  {
   "cell_type": "code",
   "execution_count": 313,
   "metadata": {},
   "outputs": [
    {
     "data": {
      "image/png": "[encoded data removed]",
      "text/plain": [
       "<Figure size 432x288 with 1 Axes>"
      ]
     },
     "metadata": {
      "needs_background": "light"
     },
     "output_type": "display_data"
    }
   ],
   "source": [
    "lr = lr_model()"
   ]
  },
  {
   "cell_type": "code",
   "execution_count": 314,
   "metadata": {
    "scrolled": false
   },
   "outputs": [
    {
     "name": "stdout",
     "output_type": "stream",
     "text": [
      "Iteration 0, the loss is 21.05619685636966, parameters k is 0.10930766835316974 and b is 0.7896507364074521\n",
      "Iteration 10, the loss is 17.206533918101204, parameters k is 0.7377711070883483 and b is 0.689650736407452\n",
      "Iteration 20, the loss is 13.518742050798195, parameters k is 1.3536810280369656 and b is 0.591745598067531\n",
      "Iteration 30, the loss is 10.377693788886662, parameters k is 1.9225684588670058 and b is 0.5017851237592308\n",
      "Iteration 40, the loss is 8.163893289283937, parameters k is 2.4007362849539637 and b is 0.4268444122967803\n",
      "Iteration 50, the loss is 6.781490413760064, parameters k is 2.7788334786298536 and b is 0.3683463885813652\n",
      "Iteration 60, the loss is 5.941585351591651, parameters k is 3.073029051752383 and b is 0.32411713956950755\n",
      "Iteration 70, the loss is 5.579954378432641, parameters k is 3.2654650596575214 and b is 0.29692346368017947\n",
      "Iteration 80, the loss is 5.460607051418521, parameters k is 3.375097549776099 and b is 0.2835637798857131\n",
      "Iteration 90, the loss is 5.439124545632914, parameters k is 3.4209459687484305 and b is 0.28059935300824274\n",
      "Iteration 100, the loss is 5.433482481851996, parameters k is 3.4448762059025806 and b is 0.28127128976713595\n",
      "Iteration 110, the loss is 5.43232220976051, parameters k is 3.4557755339658214 and b is 0.2840776138778079\n",
      "Iteration 120, the loss is 5.432251500667173, parameters k is 3.4602594470093 and b is 0.2879511316643692\n",
      "Iteration 130, the loss is 5.432412311255917, parameters k is 3.4619394865349933 and b is 0.2922989577513259\n",
      "Iteration 140, the loss is 5.432576780035894, parameters k is 3.4636195260606866 and b is 0.29664678383828263\n",
      "Iteration 150, the loss is 5.432796276493809, parameters k is 3.4628798027405288 and b is 0.30138986684223507\n",
      "Iteration 160, the loss is 5.433015772951731, parameters k is 3.462140079420371 and b is 0.3061329498461875\n",
      "Iteration 170, the loss is 5.4332352694096615, parameters k is 3.461400356100213 and b is 0.3108760328501399\n",
      "Iteration 180, the loss is 5.433454765867574, parameters k is 3.4606606327800553 and b is 0.31561911585409236\n",
      "Iteration 190, the loss is 5.433674262325495, parameters k is 3.4599209094598975 and b is 0.3203621988580448\n",
      "Iteration 200, the loss is 5.43389375878341, parameters k is 3.4591811861397397 and b is 0.3251052818619972\n",
      "Iteration 210, the loss is 5.434113255241334, parameters k is 3.458441462819582 and b is 0.32984836486594965\n",
      "Iteration 220, the loss is 5.434332751699256, parameters k is 3.457701739499424 and b is 0.3345914478699021\n",
      "Iteration 230, the loss is 5.434552248157178, parameters k is 3.4569620161792662 and b is 0.3393345308738545\n",
      "Iteration 240, the loss is 5.434771744615099, parameters k is 3.4562222928591084 and b is 0.34407761387780694\n",
      "Iteration 250, the loss is 5.434991241073019, parameters k is 3.4554825695389506 and b is 0.3488206968817594\n",
      "Iteration 260, the loss is 5.435210737530935, parameters k is 3.454742846218793 and b is 0.3535637798857118\n",
      "Iteration 270, the loss is 5.435430233988859, parameters k is 3.454003122898635 and b is 0.35830686288966423\n",
      "Iteration 280, the loss is 5.435649730446781, parameters k is 3.453263399578477 and b is 0.36304994589361667\n",
      "Iteration 290, the loss is 5.435869226904698, parameters k is 3.4525236762583194 and b is 0.3677930288975691\n",
      "Iteration 300, the loss is 5.436088723362624, parameters k is 3.4517839529381615 and b is 0.3725361119015215\n",
      "Iteration 310, the loss is 5.436308219820538, parameters k is 3.4510442296180037 and b is 0.37727919490547396\n",
      "Iteration 320, the loss is 5.436527716278452, parameters k is 3.450304506297846 and b is 0.3820222779094264\n",
      "Iteration 330, the loss is 5.43674721273638, parameters k is 3.449564782977688 and b is 0.3867653609133788\n",
      "Iteration 340, the loss is 5.436966709194297, parameters k is 3.4488250596575303 and b is 0.39150844391733125\n",
      "Iteration 350, the loss is 5.4371862056522176, parameters k is 3.4480853363373725 and b is 0.3962515269212837\n",
      "Iteration 360, the loss is 5.437405702110137, parameters k is 3.4473456130172146 and b is 0.4009946099252361\n",
      "Iteration 370, the loss is 5.437625198568055, parameters k is 3.446605889697057 and b is 0.40573769292918854\n",
      "Iteration 380, the loss is 5.437844695025971, parameters k is 3.445866166376899 and b is 0.410480775933141\n",
      "Iteration 390, the loss is 5.438064191483894, parameters k is 3.445126443056741 and b is 0.4152238589370934\n",
      "Iteration 400, the loss is 5.438283687941813, parameters k is 3.4443867197365834 and b is 0.41996694194104583\n",
      "Iteration 410, the loss is 5.438503184399734, parameters k is 3.4436469964164256 and b is 0.42471002494499827\n",
      "Iteration 420, the loss is 5.438722680857652, parameters k is 3.4429072730962678 and b is 0.4294531079489507\n",
      "Iteration 430, the loss is 5.438942177315573, parameters k is 3.44216754977611 and b is 0.4341961909529031\n",
      "Iteration 440, the loss is 5.439161673773494, parameters k is 3.441427826455952 and b is 0.43893927395685556\n",
      "Iteration 450, the loss is 5.439381374596504, parameters k is 3.4404622928591144 and b is 0.4437218826525076\n",
      "Iteration 460, the loss is 5.439600871054424, parameters k is 3.4397225695389566 and b is 0.44846496565646005\n",
      "Iteration 470, the loss is 5.439820571877437, parameters k is 3.438757035942119 and b is 0.4532475743521121\n",
      "Iteration 480, the loss is 5.440040068335352, parameters k is 3.438017312621961 and b is 0.45799065735606453\n",
      "Iteration 490, the loss is 5.440259564793273, parameters k is 3.4372775893018033 and b is 0.46273374036001697\n",
      "训练完成\n"
     ]
    },
    {
     "data": {
      "image/png": "[encoded data removed]",
      "text/plain": [
       "<Figure size 432x288 with 1 Axes>"
      ]
     },
     "metadata": {
      "needs_background": "light"
     },
     "output_type": "display_data"
    }
   ],
   "source": [
    "lr.fit()"
   ]
  },
  {
   "cell_type": "code",
   "execution_count": 302,
   "metadata": {},
   "outputs": [
    {
     "data": {
      "image/png": "[encoded data removed]",
      "text/plain": [
       "<Figure size 432x288 with 1 Axes>"
      ]
     },
     "metadata": {
      "needs_background": "light"
     },
     "output_type": "display_data"
    }
   ],
   "source": [
    "lr.plot()"
   ]
  },
  {
   "cell_type": "markdown",
   "metadata": {},
   "source": [
    "<评阅点>\n",
    "+ 是否将Loss改成了“绝对值”(3')\n",
    "+ 是否完成了偏导的重新定义(5')\n",
    "+ 新的模型Loss是否能够收敛 (11’)"
   ]
  },
  {
   "cell_type": "markdown",
   "metadata": {},
   "source": []
  }
 ],
 "metadata": {
  "kernelspec": {
   "display_name": "Python 3",
   "language": "python",
   "name": "python3"
  },
  "language_info": {
   "codemirror_mode": {
    "name": "ipython",
    "version": 3
   },
   "file_extension": ".py",
   "mimetype": "text/x-python",
   "name": "python",
   "nbconvert_exporter": "python",
   "pygments_lexer": "ipython3",
   "version": "3.7.3"
  },
  "toc": {
   "base_numbering": 1,
   "nav_menu": {},
   "number_sections": false,
   "sideBar": true,
   "skip_h1_title": false,
   "title_cell": "Table of Contents",
   "title_sidebar": "Contents",
   "toc_cell": false,
   "toc_position": {},
   "toc_section_display": true,
   "toc_window_display": false
  }
 },
 "nbformat": 4,
 "nbformat_minor": 2
}
