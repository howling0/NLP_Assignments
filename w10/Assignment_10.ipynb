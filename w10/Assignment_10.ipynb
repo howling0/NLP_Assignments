{
 "cells": [
  {
   "cell_type": "markdown",
   "metadata": {},
   "source": [
    "# Assignment 10"
   ]
  },
  {
   "cell_type": "markdown",
   "metadata": {},
   "source": [
    "### 1.复习上课内容"
   ]
  },
  {
   "cell_type": "markdown",
   "metadata": {},
   "source": [
    "### 2. 回答一下理论题目"
   ]
  },
  {
   "cell_type": "markdown",
   "metadata": {},
   "source": [
    "#### 1. What is independent assumption in Naive bayes ?"
   ]
  },
  {
   "cell_type": "markdown",
   "metadata": {},
   "source": [
    "In order to reduce the complexity of computation, Naive bayes assumes that all features are independent, which means the probability $P(x_1,x_2,x_3,...,x_n|y)$ can be calculated as $\\prod_{i=1}^{n}P(x_{i}|y)$, and these $P(x_i|y)$ are easier to obtain from the dataset."
   ]
  },
  {
   "cell_type": "markdown",
   "metadata": {},
   "source": [
    "#### 2. What is MAP(maximum a posterior) and ML(maximum likelihood) ?"
   ]
  },
  {
   "cell_type": "markdown",
   "metadata": {},
   "source": [
    "Both of MAP and ML are used to estimate the best parameters for the model, they can be calculated as follows:  \n",
    "$$\\hat{\\theta}_{MAP} = {\\underset{\\theta}{\\arg\\max}} P(\\theta|X) = {\\underset{\\theta}{\\arg\\max}} {\\frac{P(X|\\theta)P(\\theta)}{P(X)}}={\\underset{\\theta}{\\arg\\max}}{P(X|\\theta)P(\\theta)}$$\n",
    "$$\\hat{\\theta}_{MLE} = {\\underset{\\theta}{\\arg\\max}}P(X|\\theta) = P(x_1,x_2,...,x_n|\\theta) = \\prod_{i=1}^{n}P(x_{i}|\\theta)$$  \n",
    "As the MAP's denominator only relates to the data $X$, the difference between them is that MAP added an extra prior($P(\\theta)$) to the estimation."
   ]
  },
  {
   "cell_type": "markdown",
   "metadata": {},
   "source": [
    "#### 3. What is support vector in SVM?"
   ]
  },
  {
   "cell_type": "markdown",
   "metadata": {},
   "source": [
    "Support vectors refer to the data points on the hyperplane which is located nearest to the decision boundary, those points are the ones which actually affect the model."
   ]
  },
  {
   "cell_type": "markdown",
   "metadata": {},
   "source": [
    "#### 4. What is the intuition behind SVM ?"
   ]
  },
  {
   "cell_type": "markdown",
   "metadata": {},
   "source": [
    "The intuition behind SVM is to use **kernel tricks** to map the data to a linearly separable form, and find the best decision boundary with the **max margins** via solving the **constrained optimization problem**."
   ]
  },
  {
   "cell_type": "markdown",
   "metadata": {},
   "source": [
    "#### 5. Shortly describ what 'random' means in random forest ?"
   ]
  },
  {
   "cell_type": "markdown",
   "metadata": {},
   "source": [
    "In random forest, each tree will be built based on randomly sampled data using bootstrap method, with a randomly chose feature subset, therefore the trees will not be operating the same process."
   ]
  },
  {
   "cell_type": "markdown",
   "metadata": {},
   "source": [
    "#### 6. What criterion does XGBoost use to find the best split point in a tree ?"
   ]
  },
  {
   "cell_type": "markdown",
   "metadata": {},
   "source": [
    "XGBoost uses the function $Obj = -\\frac{1}{2}\\sum_{t=1}^T\\frac{G_t}{H_t + \\lambda}+\\gamma T$ as the metric to find the best tree structure, and the criterion to find the best split point is $Gain = \\frac{G_L^2}{H_L+\\lambda}+\\frac{G_R^2}{H_R+\\lambda}-\\frac{G_L^2+G_R^2}{H_L+H_R+\\lambda}-\\gamma$, where $G$ and $H$ stands for Gradient and Hessian, $T$ stands for the number of the leaf nodes, and $L$ and $R$ stands for the left part and right part of the split point."
   ]
  },
  {
   "cell_type": "markdown",
   "metadata": {},
   "source": [
    "### 3. Practial part"
   ]
  },
  {
   "cell_type": "markdown",
   "metadata": {},
   "source": [
    "##### Problem description: In this part you are going to build a classifier to detect if a piece of news is published by the Xinhua news agency (新华社）."
   ]
  },
  {
   "cell_type": "markdown",
   "metadata": {},
   "source": [
    "#### Hints:"
   ]
  },
  {
   "cell_type": "markdown",
   "metadata": {},
   "source": [
    "###### 1. Firstly, you have to come up with a way to represent the news. (Vectorize the sentence, you can find different ways to do so online)  "
   ]
  },
  {
   "cell_type": "markdown",
   "metadata": {},
   "source": [
    "###### 2. Secondly,  pick a machine learning algorithm that you think is suitable for this task"
   ]
  },
  {
   "cell_type": "markdown",
   "metadata": {},
   "source": [
    "### 导入工具包"
   ]
  },
  {
   "cell_type": "code",
   "execution_count": 78,
   "metadata": {},
   "outputs": [],
   "source": [
    "import numpy as np\n",
    "import pandas as pd\n",
    "from joblib import Parallel,delayed # 多进程处理\n",
    "import time\n",
    "import jieba\n",
    "import re\n",
    "\n",
    "from gensim.models import FastText # 词向量\n",
    "from gensim.models import doc2vec # 生成文本向量\n",
    "\n",
    "# from tensorflow.keras.layers import Embedding, Dense, Input, Bidirectional, GRU\n",
    "# from tensorflow.keras import Model\n",
    "\n",
    "from sklearn.svm import SVC\n",
    "from sklearn.ensemble import RandomForestClassifier\n",
    "# from xgboost import XGBClassifier\n",
    "from xgboost.sklearn import XGBClassifier\n",
    "\n",
    "from sklearn.metrics import roc_curve, auc\n",
    "from sklearn.model_selection import train_test_split\n",
    "from sklearn.model_selection import GridSearchCV\n",
    "\n",
    "import matplotlib.pyplot as plt\n",
    "%matplotlib inline"
   ]
  },
  {
   "cell_type": "markdown",
   "metadata": {},
   "source": [
    "### 读入数据"
   ]
  },
  {
   "cell_type": "code",
   "execution_count": 312,
   "metadata": {},
   "outputs": [],
   "source": [
    "data = pd.read_csv(\"新华社数据.csv\", encoding=\"gb18030\")"
   ]
  },
  {
   "cell_type": "code",
   "execution_count": 313,
   "metadata": {},
   "outputs": [
    {
     "data": {
      "text/html": [
       "<div>\n",
       "<style scoped>\n",
       "    .dataframe tbody tr th:only-of-type {\n",
       "        vertical-align: middle;\n",
       "    }\n",
       "\n",
       "    .dataframe tbody tr th {\n",
       "        vertical-align: top;\n",
       "    }\n",
       "\n",
       "    .dataframe thead th {\n",
       "        text-align: right;\n",
       "    }\n",
       "</style>\n",
       "<table border=\"1\" class=\"dataframe\">\n",
       "  <thead>\n",
       "    <tr style=\"text-align: right;\">\n",
       "      <th></th>\n",
       "      <th>id</th>\n",
       "      <th>author</th>\n",
       "      <th>source</th>\n",
       "      <th>content</th>\n",
       "      <th>feature</th>\n",
       "      <th>title</th>\n",
       "      <th>url</th>\n",
       "    </tr>\n",
       "  </thead>\n",
       "  <tbody>\n",
       "    <tr>\n",
       "      <th>0</th>\n",
       "      <td>89617</td>\n",
       "      <td>NaN</td>\n",
       "      <td>快科技@http://www.kkj.cn/</td>\n",
       "      <td>此外，自本周（6月12日）起，除小米手机6等15款机型外，其余机型已暂停更新发布（含开发版/...</td>\n",
       "      <td>{\"type\":\"科技\",\"site\":\"cnbeta\",\"commentNum\":\"37\"...</td>\n",
       "      <td>小米MIUI 9首批机型曝光：共计15款</td>\n",
       "      <td>http://www.cnbeta.com/articles/tech/623597.htm</td>\n",
       "    </tr>\n",
       "    <tr>\n",
       "      <th>1</th>\n",
       "      <td>89616</td>\n",
       "      <td>NaN</td>\n",
       "      <td>快科技@http://www.kkj.cn/</td>\n",
       "      <td>骁龙835作为唯一通过Windows 10桌面平台认证的ARM处理器，高通强调，不会因为只考...</td>\n",
       "      <td>{\"type\":\"科技\",\"site\":\"cnbeta\",\"commentNum\":\"15\"...</td>\n",
       "      <td>骁龙835在Windows 10上的性能表现有望改善</td>\n",
       "      <td>http://www.cnbeta.com/articles/tech/623599.htm</td>\n",
       "    </tr>\n",
       "    <tr>\n",
       "      <th>2</th>\n",
       "      <td>89615</td>\n",
       "      <td>NaN</td>\n",
       "      <td>快科技@http://www.kkj.cn/</td>\n",
       "      <td>此前的一加3T搭载的是3400mAh电池，DashCharge快充规格为5V/4A。\\r\\n...</td>\n",
       "      <td>{\"type\":\"科技\",\"site\":\"cnbeta\",\"commentNum\":\"18\"...</td>\n",
       "      <td>一加手机5细节曝光：3300mAh、充半小时用1天</td>\n",
       "      <td>http://www.cnbeta.com/articles/tech/623601.htm</td>\n",
       "    </tr>\n",
       "    <tr>\n",
       "      <th>3</th>\n",
       "      <td>89614</td>\n",
       "      <td>NaN</td>\n",
       "      <td>新华社</td>\n",
       "      <td>这是6月18日在葡萄牙中部大佩德罗冈地区拍摄的被森林大火烧毁的汽车。新华社记者张立云摄\\r\\n</td>\n",
       "      <td>{\"type\":\"国际新闻\",\"site\":\"环球\",\"commentNum\":\"0\",\"j...</td>\n",
       "      <td>葡森林火灾造成至少62人死亡 政府宣布进入紧急状态（组图）</td>\n",
       "      <td>http://world.huanqiu.com/hot/2017-06/10866126....</td>\n",
       "    </tr>\n",
       "    <tr>\n",
       "      <th>4</th>\n",
       "      <td>89613</td>\n",
       "      <td>胡淑丽_MN7479</td>\n",
       "      <td>深圳大件事</td>\n",
       "      <td>（原标题：44岁女子跑深圳约会网友被拒，暴雨中裸身奔走……）\\r\\n@深圳交警微博称：昨日清...</td>\n",
       "      <td>{\"type\":\"新闻\",\"site\":\"网易热门\",\"commentNum\":\"978\",...</td>\n",
       "      <td>44岁女子约网友被拒暴雨中裸奔 交警为其披衣相随</td>\n",
       "      <td>http://news.163.com/17/0618/00/CN617P3Q0001875...</td>\n",
       "    </tr>\n",
       "  </tbody>\n",
       "</table>\n",
       "</div>"
      ],
      "text/plain": [
       "      id      author                  source  \\\n",
       "0  89617         NaN  快科技@http://www.kkj.cn/   \n",
       "1  89616         NaN  快科技@http://www.kkj.cn/   \n",
       "2  89615         NaN  快科技@http://www.kkj.cn/   \n",
       "3  89614         NaN                     新华社   \n",
       "4  89613  胡淑丽_MN7479                   深圳大件事   \n",
       "\n",
       "                                             content  \\\n",
       "0  此外，自本周（6月12日）起，除小米手机6等15款机型外，其余机型已暂停更新发布（含开发版/...   \n",
       "1  骁龙835作为唯一通过Windows 10桌面平台认证的ARM处理器，高通强调，不会因为只考...   \n",
       "2  此前的一加3T搭载的是3400mAh电池，DashCharge快充规格为5V/4A。\\r\\n...   \n",
       "3    这是6月18日在葡萄牙中部大佩德罗冈地区拍摄的被森林大火烧毁的汽车。新华社记者张立云摄\\r\\n   \n",
       "4  （原标题：44岁女子跑深圳约会网友被拒，暴雨中裸身奔走……）\\r\\n@深圳交警微博称：昨日清...   \n",
       "\n",
       "                                             feature  \\\n",
       "0  {\"type\":\"科技\",\"site\":\"cnbeta\",\"commentNum\":\"37\"...   \n",
       "1  {\"type\":\"科技\",\"site\":\"cnbeta\",\"commentNum\":\"15\"...   \n",
       "2  {\"type\":\"科技\",\"site\":\"cnbeta\",\"commentNum\":\"18\"...   \n",
       "3  {\"type\":\"国际新闻\",\"site\":\"环球\",\"commentNum\":\"0\",\"j...   \n",
       "4  {\"type\":\"新闻\",\"site\":\"网易热门\",\"commentNum\":\"978\",...   \n",
       "\n",
       "                           title  \\\n",
       "0           小米MIUI 9首批机型曝光：共计15款   \n",
       "1     骁龙835在Windows 10上的性能表现有望改善   \n",
       "2      一加手机5细节曝光：3300mAh、充半小时用1天   \n",
       "3  葡森林火灾造成至少62人死亡 政府宣布进入紧急状态（组图）   \n",
       "4       44岁女子约网友被拒暴雨中裸奔 交警为其披衣相随   \n",
       "\n",
       "                                                 url  \n",
       "0     http://www.cnbeta.com/articles/tech/623597.htm  \n",
       "1     http://www.cnbeta.com/articles/tech/623599.htm  \n",
       "2     http://www.cnbeta.com/articles/tech/623601.htm  \n",
       "3  http://world.huanqiu.com/hot/2017-06/10866126....  \n",
       "4  http://news.163.com/17/0618/00/CN617P3Q0001875...  "
      ]
     },
     "execution_count": 313,
     "metadata": {},
     "output_type": "execute_result"
    }
   ],
   "source": [
    "data.head()"
   ]
  },
  {
   "cell_type": "code",
   "execution_count": 314,
   "metadata": {},
   "outputs": [
    {
     "data": {
      "text/plain": [
       "id                                                     89592\n",
       "author                                                   NaN\n",
       "source                                                   新华网\n",
       "content    当地时间2017年6月17日，土耳其马尼萨省，在土耳其第1步兵训练大队司令部军营，590名土...\n",
       "feature    {\"type\":\"国际新闻\",\"site\":\"环球\",\"commentNum\":\"0\",\"j...\n",
       "title                            土耳其近590名士兵疑食物中毒 被送往医院救治（组图）\n",
       "url        http://world.huanqiu.com/hot/2017-06/10866176....\n",
       "Name: 25, dtype: object"
      ]
     },
     "execution_count": 314,
     "metadata": {},
     "output_type": "execute_result"
    }
   ],
   "source": [
    "data.iloc[25]"
   ]
  },
  {
   "cell_type": "code",
   "execution_count": 315,
   "metadata": {},
   "outputs": [
    {
     "data": {
      "text/plain": [
       "'当地时间2017年6月17日，土耳其马尼萨省，在土耳其第1步兵训练大队司令部军营，590名土耳其士兵疑是食物中毒，在晚饭后出现恶心和呕吐症状，被紧急送往医院救治。土耳其警方随后逮捕了19名相关人员，其中包括为军营提供食物的餐饮公司负责人。\\r\\n来源：新华网\\r\\n'"
      ]
     },
     "execution_count": 315,
     "metadata": {},
     "output_type": "execute_result"
    }
   ],
   "source": [
    "data.iloc[25].content"
   ]
  },
  {
   "cell_type": "code",
   "execution_count": 316,
   "metadata": {},
   "outputs": [
    {
     "data": {
      "text/plain": [
       "'{\"type\":\"国际新闻\",\"site\":\"环球\",\"commentNum\":\"0\",\"joinNum\":\"0\",\"clickNum\":\"0\",\"shareNum\":\"0\",\"url\":\"http://world.huanqiu.com/hot/2017-06/10866176.html\",\"site_sign\":\"huanqiu\",\"label\":\"\",\"summary\":\"土耳其近590名士兵疑食物中毒 被送往医院救治（组图）：当地时间2017年6月17日，土耳其马尼萨省，在土耳其第1步兵训练大队司令部军营，590名土耳其士兵疑是食物中毒，在晚饭后出现恶心和呕吐症状，被紧急送往医院救治。当地时间2017年6月17日，土耳其马尼萨省，在土耳其第1步兵训练大队司令部军营，590名土耳其士兵疑是食物中毒，在晚饭后出现恶心和呕吐症状，被紧急送往医院救治。\",\"is_hot\":\"0\",\"imgUrls\":\"\"}'"
      ]
     },
     "execution_count": 316,
     "metadata": {},
     "output_type": "execute_result"
    }
   ],
   "source": [
    "# feature中是一些其他属性\n",
    "data.iloc[25].feature"
   ]
  },
  {
   "cell_type": "markdown",
   "metadata": {},
   "source": [
    "### 数据预处理"
   ]
  },
  {
   "cell_type": "markdown",
   "metadata": {},
   "source": [
    "移除明显无用的属性"
   ]
  },
  {
   "cell_type": "code",
   "execution_count": 317,
   "metadata": {},
   "outputs": [],
   "source": [
    "data.drop(['author', 'url'], axis=1, inplace=True)"
   ]
  },
  {
   "cell_type": "markdown",
   "metadata": {},
   "source": [
    "检查空值"
   ]
  },
  {
   "cell_type": "code",
   "execution_count": 318,
   "metadata": {},
   "outputs": [
    {
     "name": "stdout",
     "output_type": "stream",
     "text": [
      "<class 'pandas.core.frame.DataFrame'>\n",
      "RangeIndex: 89611 entries, 0 to 89610\n",
      "Data columns (total 5 columns):\n",
      " #   Column   Non-Null Count  Dtype \n",
      "---  ------   --------------  ----- \n",
      " 0   id       89611 non-null  int64 \n",
      " 1   source   89609 non-null  object\n",
      " 2   content  87054 non-null  object\n",
      " 3   feature  89611 non-null  object\n",
      " 4   title    89577 non-null  object\n",
      "dtypes: int64(1), object(4)\n",
      "memory usage: 3.4+ MB\n"
     ]
    }
   ],
   "source": [
    "data.info()"
   ]
  },
  {
   "cell_type": "code",
   "execution_count": 319,
   "metadata": {},
   "outputs": [
    {
     "data": {
      "text/plain": [
       "2557"
      ]
     },
     "execution_count": 319,
     "metadata": {},
     "output_type": "execute_result"
    }
   ],
   "source": [
    "data['content'].isna().sum()"
   ]
  },
  {
   "cell_type": "code",
   "execution_count": 320,
   "metadata": {},
   "outputs": [
    {
     "data": {
      "text/plain": [
       "2"
      ]
     },
     "execution_count": 320,
     "metadata": {},
     "output_type": "execute_result"
    }
   ],
   "source": [
    "data['source'].isna().sum()"
   ]
  },
  {
   "cell_type": "markdown",
   "metadata": {},
   "source": [
    "除了id和feature列，其他特征均有空值，其中比较重要的content有2557条为空，source有两条为空。"
   ]
  },
  {
   "cell_type": "code",
   "execution_count": 321,
   "metadata": {},
   "outputs": [
    {
     "data": {
      "text/html": [
       "<div>\n",
       "<style scoped>\n",
       "    .dataframe tbody tr th:only-of-type {\n",
       "        vertical-align: middle;\n",
       "    }\n",
       "\n",
       "    .dataframe tbody tr th {\n",
       "        vertical-align: top;\n",
       "    }\n",
       "\n",
       "    .dataframe thead th {\n",
       "        text-align: right;\n",
       "    }\n",
       "</style>\n",
       "<table border=\"1\" class=\"dataframe\">\n",
       "  <thead>\n",
       "    <tr style=\"text-align: right;\">\n",
       "      <th></th>\n",
       "      <th>source</th>\n",
       "      <th>content</th>\n",
       "      <th>feature</th>\n",
       "      <th>title</th>\n",
       "    </tr>\n",
       "  </thead>\n",
       "  <tbody>\n",
       "    <tr>\n",
       "      <th>count</th>\n",
       "      <td>89609</td>\n",
       "      <td>87054</td>\n",
       "      <td>89611</td>\n",
       "      <td>89577</td>\n",
       "    </tr>\n",
       "    <tr>\n",
       "      <th>unique</th>\n",
       "      <td>974</td>\n",
       "      <td>74917</td>\n",
       "      <td>89184</td>\n",
       "      <td>85253</td>\n",
       "    </tr>\n",
       "    <tr>\n",
       "      <th>top</th>\n",
       "      <td>新华社</td>\n",
       "      <td>\\n\\n</td>\n",
       "      <td>{\"commentNum\":\"2\",\"forwardNum\":\"7\",\"playNum\":\"...</td>\n",
       "      <td>国际重要稿件预告</td>\n",
       "    </tr>\n",
       "    <tr>\n",
       "      <th>freq</th>\n",
       "      <td>78661</td>\n",
       "      <td>177</td>\n",
       "      <td>3</td>\n",
       "      <td>219</td>\n",
       "    </tr>\n",
       "  </tbody>\n",
       "</table>\n",
       "</div>"
      ],
      "text/plain": [
       "       source content                                            feature  \\\n",
       "count   89609   87054                                              89611   \n",
       "unique    974   74917                                              89184   \n",
       "top       新华社    \\n\\n  {\"commentNum\":\"2\",\"forwardNum\":\"7\",\"playNum\":\"...   \n",
       "freq    78661     177                                                  3   \n",
       "\n",
       "           title  \n",
       "count      89577  \n",
       "unique     85253  \n",
       "top     国际重要稿件预告  \n",
       "freq         219  "
      ]
     },
     "execution_count": 321,
     "metadata": {},
     "output_type": "execute_result"
    }
   ],
   "source": [
    "# 查看object类型的特征统计\n",
    "data.describe(include='O')"
   ]
  },
  {
   "cell_type": "code",
   "execution_count": 322,
   "metadata": {},
   "outputs": [
    {
     "data": {
      "text/html": [
       "<div>\n",
       "<style scoped>\n",
       "    .dataframe tbody tr th:only-of-type {\n",
       "        vertical-align: middle;\n",
       "    }\n",
       "\n",
       "    .dataframe tbody tr th {\n",
       "        vertical-align: top;\n",
       "    }\n",
       "\n",
       "    .dataframe thead th {\n",
       "        text-align: right;\n",
       "    }\n",
       "</style>\n",
       "<table border=\"1\" class=\"dataframe\">\n",
       "  <thead>\n",
       "    <tr style=\"text-align: right;\">\n",
       "      <th></th>\n",
       "      <th>id</th>\n",
       "      <th>source</th>\n",
       "      <th>content</th>\n",
       "      <th>feature</th>\n",
       "      <th>title</th>\n",
       "    </tr>\n",
       "  </thead>\n",
       "  <tbody>\n",
       "    <tr>\n",
       "      <th>11315</th>\n",
       "      <td>78297</td>\n",
       "      <td>新华社</td>\n",
       "      <td>\\n\\n</td>\n",
       "      <td>{\"type\":\"其它\",\"site\":\"新华社\",\"url\":\"http://home.x...</td>\n",
       "      <td>广州青岛调控加码：不动产证满两年方可交易</td>\n",
       "    </tr>\n",
       "    <tr>\n",
       "      <th>12294</th>\n",
       "      <td>77318</td>\n",
       "      <td>新华社</td>\n",
       "      <td>\\n\\n</td>\n",
       "      <td>{\"type\":\"其它\",\"site\":\"新华社\",\"url\":\"http://home.x...</td>\n",
       "      <td>河北雄安新区来了！你想知道的都在这里</td>\n",
       "    </tr>\n",
       "    <tr>\n",
       "      <th>15615</th>\n",
       "      <td>73997</td>\n",
       "      <td>新华社</td>\n",
       "      <td>\\n\\n</td>\n",
       "      <td>{\"type\":\"其它\",\"site\":\"新华社\",\"url\":\"http://home.x...</td>\n",
       "      <td>中国实业转型升级竞逐全球的新“联想”</td>\n",
       "    </tr>\n",
       "    <tr>\n",
       "      <th>15880</th>\n",
       "      <td>73732</td>\n",
       "      <td>新华社</td>\n",
       "      <td>\\n\\n</td>\n",
       "      <td>{\"type\":\"其它\",\"site\":\"新华社\",\"url\":\"http://home.x...</td>\n",
       "      <td>前有深圳、浦东，今天的雄安新区潜力有多大</td>\n",
       "    </tr>\n",
       "    <tr>\n",
       "      <th>20022</th>\n",
       "      <td>69590</td>\n",
       "      <td>新华社</td>\n",
       "      <td>\\n\\n</td>\n",
       "      <td>{\"type\":\"其它\",\"site\":\"新华社\",\"url\":\"http://home.x...</td>\n",
       "      <td>图解丨“垃圾分类”时代来了 你知道怎么分吗？</td>\n",
       "    </tr>\n",
       "  </tbody>\n",
       "</table>\n",
       "</div>"
      ],
      "text/plain": [
       "          id source content  \\\n",
       "11315  78297    新华社    \\n\\n   \n",
       "12294  77318    新华社    \\n\\n   \n",
       "15615  73997    新华社    \\n\\n   \n",
       "15880  73732    新华社    \\n\\n   \n",
       "20022  69590    新华社    \\n\\n   \n",
       "\n",
       "                                                 feature  \\\n",
       "11315  {\"type\":\"其它\",\"site\":\"新华社\",\"url\":\"http://home.x...   \n",
       "12294  {\"type\":\"其它\",\"site\":\"新华社\",\"url\":\"http://home.x...   \n",
       "15615  {\"type\":\"其它\",\"site\":\"新华社\",\"url\":\"http://home.x...   \n",
       "15880  {\"type\":\"其它\",\"site\":\"新华社\",\"url\":\"http://home.x...   \n",
       "20022  {\"type\":\"其它\",\"site\":\"新华社\",\"url\":\"http://home.x...   \n",
       "\n",
       "                        title  \n",
       "11315    广州青岛调控加码：不动产证满两年方可交易  \n",
       "12294      河北雄安新区来了！你想知道的都在这里  \n",
       "15615      中国实业转型升级竞逐全球的新“联想”  \n",
       "15880    前有深圳、浦东，今天的雄安新区潜力有多大  \n",
       "20022  图解丨“垃圾分类”时代来了 你知道怎么分吗？  "
      ]
     },
     "execution_count": 322,
     "metadata": {},
     "output_type": "execute_result"
    }
   ],
   "source": [
    "data[data['content'] == '\\\\n\\\\n'].head()"
   ]
  },
  {
   "cell_type": "code",
   "execution_count": 323,
   "metadata": {},
   "outputs": [
    {
     "data": {
      "text/plain": [
       "'{\"type\":\"其它\",\"site\":\"新华社\",\"url\":\"http://home.xinhua-news.com/gdsdetailxhsnew/2198960-?pageflag=init&imageOrVedioTypeGdsId=\",\"site_sign\":\"xinhua\",\"keywords\":\"-\",\"summary\":\"\",\"rich_label\":\"[]\",\"all_type\":\"新媒体,新媒体专线\\\\r\\\\n\",\"issuing_department\":\"\",\"id\":\"2198960\",\"no\":\"200012017060601198251\",\"word_count\":\"0\",\"related_areas\":\"\",\"reported_area\":\"\",\"imgUrls\":\"noImage\"}'"
      ]
     },
     "execution_count": 323,
     "metadata": {},
     "output_type": "execute_result"
    }
   ],
   "source": [
    "data[data['content'] == '\\\\n\\\\n'].iloc[-1]['feature']"
   ]
  },
  {
   "cell_type": "markdown",
   "metadata": {},
   "source": [
    "数据不均衡，89611条数据中，有78661条是新华社发布的，需要进行下采样或者调整类别权重，避免全部预测为正例还能获得很高的分数。  \n",
    "有177条数据的content为\\n\\n，对应的feature中summary也基本为空，使用title进行替换。"
   ]
  },
  {
   "cell_type": "code",
   "execution_count": 324,
   "metadata": {},
   "outputs": [],
   "source": [
    "def replace_content_with_title(row):\n",
    "    row.content = row.title\n",
    "    return row"
   ]
  },
  {
   "cell_type": "code",
   "execution_count": 325,
   "metadata": {},
   "outputs": [],
   "source": [
    "data[data['content'] == '\\\\n\\\\n'] = data[data['content'] == '\\\\n\\\\n'].apply(replace_content_with_title, axis=1)"
   ]
  },
  {
   "cell_type": "markdown",
   "metadata": {},
   "source": [
    "处理空值"
   ]
  },
  {
   "cell_type": "code",
   "execution_count": 326,
   "metadata": {},
   "outputs": [
    {
     "data": {
      "text/html": [
       "<div>\n",
       "<style scoped>\n",
       "    .dataframe tbody tr th:only-of-type {\n",
       "        vertical-align: middle;\n",
       "    }\n",
       "\n",
       "    .dataframe tbody tr th {\n",
       "        vertical-align: top;\n",
       "    }\n",
       "\n",
       "    .dataframe thead th {\n",
       "        text-align: right;\n",
       "    }\n",
       "</style>\n",
       "<table border=\"1\" class=\"dataframe\">\n",
       "  <thead>\n",
       "    <tr style=\"text-align: right;\">\n",
       "      <th></th>\n",
       "      <th>id</th>\n",
       "      <th>source</th>\n",
       "      <th>content</th>\n",
       "      <th>feature</th>\n",
       "      <th>title</th>\n",
       "    </tr>\n",
       "  </thead>\n",
       "  <tbody>\n",
       "    <tr>\n",
       "      <th>4960</th>\n",
       "      <td>84657</td>\n",
       "      <td>NaN</td>\n",
       "      <td>投服中心四问万盛股份\\r\\n　　□本报记者 周松林 徐金忠 官平\\r\\n　　6月21日，在...</td>\n",
       "      <td>{\"type\":\"公司\",\"site\":\"中证网\",\"commentNum\":\"0\",\"jo...</td>\n",
       "      <td>收购匠芯知本拟双主业运行</td>\n",
       "    </tr>\n",
       "    <tr>\n",
       "      <th>9997</th>\n",
       "      <td>79620</td>\n",
       "      <td>NaN</td>\n",
       "      <td>????搜狐传媒讯，作为一档非选秀节目，新一季《中国梦想秀》将于4月5日开播，有关赛制和梦想...</td>\n",
       "      <td>{\"type\":\"新闻\",\"site\":\"百度\",\"commentNum\":\"0\",\"joi...</td>\n",
       "      <td>中国梦想秀助梦团-雨轩范文网</td>\n",
       "    </tr>\n",
       "  </tbody>\n",
       "</table>\n",
       "</div>"
      ],
      "text/plain": [
       "         id source                                            content  \\\n",
       "4960  84657    NaN  　投服中心四问万盛股份\\r\\n　　□本报记者 周松林 徐金忠 官平\\r\\n　　6月21日，在...   \n",
       "9997  79620    NaN  ????搜狐传媒讯，作为一档非选秀节目，新一季《中国梦想秀》将于4月5日开播，有关赛制和梦想...   \n",
       "\n",
       "                                                feature           title  \n",
       "4960  {\"type\":\"公司\",\"site\":\"中证网\",\"commentNum\":\"0\",\"jo...    收购匠芯知本拟双主业运行  \n",
       "9997  {\"type\":\"新闻\",\"site\":\"百度\",\"commentNum\":\"0\",\"joi...  中国梦想秀助梦团-雨轩范文网  "
      ]
     },
     "execution_count": 326,
     "metadata": {},
     "output_type": "execute_result"
    }
   ],
   "source": [
    "data[data['source'].isna()]"
   ]
  },
  {
   "cell_type": "markdown",
   "metadata": {},
   "source": [
    "从feature中可以看出source为空的数据来源为中证网和百度，直接当做负类处理即可。  "
   ]
  },
  {
   "cell_type": "code",
   "execution_count": 327,
   "metadata": {},
   "outputs": [
    {
     "data": {
      "text/html": [
       "<div>\n",
       "<style scoped>\n",
       "    .dataframe tbody tr th:only-of-type {\n",
       "        vertical-align: middle;\n",
       "    }\n",
       "\n",
       "    .dataframe tbody tr th {\n",
       "        vertical-align: top;\n",
       "    }\n",
       "\n",
       "    .dataframe thead th {\n",
       "        text-align: right;\n",
       "    }\n",
       "</style>\n",
       "<table border=\"1\" class=\"dataframe\">\n",
       "  <thead>\n",
       "    <tr style=\"text-align: right;\">\n",
       "      <th></th>\n",
       "      <th>id</th>\n",
       "      <th>source</th>\n",
       "      <th>content</th>\n",
       "      <th>feature</th>\n",
       "      <th>title</th>\n",
       "    </tr>\n",
       "  </thead>\n",
       "  <tbody>\n",
       "    <tr>\n",
       "      <th>100</th>\n",
       "      <td>89517</td>\n",
       "      <td>中国证券报?中证网</td>\n",
       "      <td>NaN</td>\n",
       "      <td>{\"type\":\"公司\",\"site\":\"中证网\",\"commentNum\":\"0\",\"jo...</td>\n",
       "      <td>天和防务股东未来6个月内计划减持不超过480万股公司股份</td>\n",
       "    </tr>\n",
       "    <tr>\n",
       "      <th>103</th>\n",
       "      <td>89514</td>\n",
       "      <td>中国证券报?中证网</td>\n",
       "      <td>NaN</td>\n",
       "      <td>{\"type\":\"公司\",\"site\":\"中证网\",\"commentNum\":\"0\",\"jo...</td>\n",
       "      <td>晶盛机电调整限制性股票回购价格</td>\n",
       "    </tr>\n",
       "    <tr>\n",
       "      <th>997</th>\n",
       "      <td>88620</td>\n",
       "      <td>央广网</td>\n",
       "      <td>NaN</td>\n",
       "      <td>{\"type\":\"时事要闻\",\"site\":\"参考消息\",\"commentNum\":\"0\",...</td>\n",
       "      <td>[主播不在家]第二季：主播陈亮体验垃圾清运</td>\n",
       "    </tr>\n",
       "    <tr>\n",
       "      <th>1273</th>\n",
       "      <td>88344</td>\n",
       "      <td>央广网</td>\n",
       "      <td>NaN</td>\n",
       "      <td>{\"type\":\"IT业界\",\"site\":\"参考消息\",\"commentNum\":\"0\",...</td>\n",
       "      <td>LKK洛可可：想象力经济时代或已到来</td>\n",
       "    </tr>\n",
       "    <tr>\n",
       "      <th>1282</th>\n",
       "      <td>88335</td>\n",
       "      <td>央广网</td>\n",
       "      <td>NaN</td>\n",
       "      <td>{\"type\":\"IT业界\",\"site\":\"参考消息\",\"commentNum\":\"0\",...</td>\n",
       "      <td>CES2017：京东发布两款叮咚智能音箱新品 开放Alpha平台</td>\n",
       "    </tr>\n",
       "  </tbody>\n",
       "</table>\n",
       "</div>"
      ],
      "text/plain": [
       "         id     source content  \\\n",
       "100   89517  中国证券报?中证网     NaN   \n",
       "103   89514  中国证券报?中证网     NaN   \n",
       "997   88620        央广网     NaN   \n",
       "1273  88344        央广网     NaN   \n",
       "1282  88335        央广网     NaN   \n",
       "\n",
       "                                                feature  \\\n",
       "100   {\"type\":\"公司\",\"site\":\"中证网\",\"commentNum\":\"0\",\"jo...   \n",
       "103   {\"type\":\"公司\",\"site\":\"中证网\",\"commentNum\":\"0\",\"jo...   \n",
       "997   {\"type\":\"时事要闻\",\"site\":\"参考消息\",\"commentNum\":\"0\",...   \n",
       "1273  {\"type\":\"IT业界\",\"site\":\"参考消息\",\"commentNum\":\"0\",...   \n",
       "1282  {\"type\":\"IT业界\",\"site\":\"参考消息\",\"commentNum\":\"0\",...   \n",
       "\n",
       "                                 title  \n",
       "100       天和防务股东未来6个月内计划减持不超过480万股公司股份  \n",
       "103                    晶盛机电调整限制性股票回购价格  \n",
       "997              [主播不在家]第二季：主播陈亮体验垃圾清运  \n",
       "1273                LKK洛可可：想象力经济时代或已到来  \n",
       "1282  CES2017：京东发布两款叮咚智能音箱新品 开放Alpha平台  "
      ]
     },
     "execution_count": 327,
     "metadata": {},
     "output_type": "execute_result"
    }
   ],
   "source": [
    "data[data['content'].isna()].head()"
   ]
  },
  {
   "cell_type": "code",
   "execution_count": 328,
   "metadata": {},
   "outputs": [
    {
     "data": {
      "text/plain": [
       "array(['中国证券报?中证网', '央广网', '中国台湾网', '海南日报第016版', '海南日报第015版', '海南日报第013版',\n",
       "       '海南日报第012版', '海南日报第011版', '海南日报第010版', '郑州日报第11版', '海南日报第009版',\n",
       "       '海南日报第005版', '海南日报第004版', '南方日报第01版', '海南日报第002版', '中国新闻网',\n",
       "       '海南日报第001版', '郑州日报第01版', '长江日报第24版', '长江日报第23版', '海南日报第018版',\n",
       "       '海南日报第017版', '海南日报第014版', '郑州日报第03版', '微博', '知乎'], dtype=object)"
      ]
     },
     "execution_count": 328,
     "metadata": {},
     "output_type": "execute_result"
    }
   ],
   "source": [
    "data[data['content'].isna()].source.unique()"
   ]
  },
  {
   "cell_type": "markdown",
   "metadata": {},
   "source": [
    "可以看到内容为空的记录来源基本都是非新华社，如果全部移除会造成负类数据更为稀少，这里直接使用title进行替换。"
   ]
  },
  {
   "cell_type": "code",
   "execution_count": 329,
   "metadata": {},
   "outputs": [],
   "source": [
    "data[data['content'].isna()] = data[data['content'].isna()].apply(replace_content_with_title, axis=1)"
   ]
  },
  {
   "cell_type": "markdown",
   "metadata": {},
   "source": [
    "再次检查空值"
   ]
  },
  {
   "cell_type": "code",
   "execution_count": 330,
   "metadata": {},
   "outputs": [
    {
     "data": {
      "text/html": [
       "<div>\n",
       "<style scoped>\n",
       "    .dataframe tbody tr th:only-of-type {\n",
       "        vertical-align: middle;\n",
       "    }\n",
       "\n",
       "    .dataframe tbody tr th {\n",
       "        vertical-align: top;\n",
       "    }\n",
       "\n",
       "    .dataframe thead th {\n",
       "        text-align: right;\n",
       "    }\n",
       "</style>\n",
       "<table border=\"1\" class=\"dataframe\">\n",
       "  <thead>\n",
       "    <tr style=\"text-align: right;\">\n",
       "      <th></th>\n",
       "      <th>id</th>\n",
       "      <th>source</th>\n",
       "      <th>content</th>\n",
       "      <th>feature</th>\n",
       "      <th>title</th>\n",
       "    </tr>\n",
       "  </thead>\n",
       "  <tbody>\n",
       "    <tr>\n",
       "      <th>8165</th>\n",
       "      <td>81452</td>\n",
       "      <td>微博</td>\n",
       "      <td>NaN</td>\n",
       "      <td>{\"commentNum\":\"0\",\"forwardNum\":\"1\",\"playNum\":\"...</td>\n",
       "      <td>NaN</td>\n",
       "    </tr>\n",
       "    <tr>\n",
       "      <th>8223</th>\n",
       "      <td>81394</td>\n",
       "      <td>微博</td>\n",
       "      <td>NaN</td>\n",
       "      <td>{\"commentNum\":\"0\",\"forwardNum\":\"1\",\"playNum\":\"...</td>\n",
       "      <td>NaN</td>\n",
       "    </tr>\n",
       "    <tr>\n",
       "      <th>8236</th>\n",
       "      <td>81381</td>\n",
       "      <td>微博</td>\n",
       "      <td>NaN</td>\n",
       "      <td>{\"commentNum\":\"5\",\"forwardNum\":\"0\",\"playNum\":\"...</td>\n",
       "      <td>NaN</td>\n",
       "    </tr>\n",
       "    <tr>\n",
       "      <th>8358</th>\n",
       "      <td>81259</td>\n",
       "      <td>微博</td>\n",
       "      <td>NaN</td>\n",
       "      <td>{\"commentNum\":\"0\",\"forwardNum\":\"0\",\"playNum\":\"...</td>\n",
       "      <td>NaN</td>\n",
       "    </tr>\n",
       "    <tr>\n",
       "      <th>8476</th>\n",
       "      <td>81141</td>\n",
       "      <td>微博</td>\n",
       "      <td>NaN</td>\n",
       "      <td>{\"commentNum\":\"1\",\"forwardNum\":\"39\",\"playNum\":...</td>\n",
       "      <td>NaN</td>\n",
       "    </tr>\n",
       "  </tbody>\n",
       "</table>\n",
       "</div>"
      ],
      "text/plain": [
       "         id source content                                            feature  \\\n",
       "8165  81452     微博     NaN  {\"commentNum\":\"0\",\"forwardNum\":\"1\",\"playNum\":\"...   \n",
       "8223  81394     微博     NaN  {\"commentNum\":\"0\",\"forwardNum\":\"1\",\"playNum\":\"...   \n",
       "8236  81381     微博     NaN  {\"commentNum\":\"5\",\"forwardNum\":\"0\",\"playNum\":\"...   \n",
       "8358  81259     微博     NaN  {\"commentNum\":\"0\",\"forwardNum\":\"0\",\"playNum\":\"...   \n",
       "8476  81141     微博     NaN  {\"commentNum\":\"1\",\"forwardNum\":\"39\",\"playNum\":...   \n",
       "\n",
       "     title  \n",
       "8165   NaN  \n",
       "8223   NaN  \n",
       "8236   NaN  \n",
       "8358   NaN  \n",
       "8476   NaN  "
      ]
     },
     "execution_count": 330,
     "metadata": {},
     "output_type": "execute_result"
    }
   ],
   "source": [
    "data[data['content'].isna()].head()"
   ]
  },
  {
   "cell_type": "code",
   "execution_count": 331,
   "metadata": {},
   "outputs": [
    {
     "data": {
      "text/plain": [
       "array(['微博'], dtype=object)"
      ]
     },
     "execution_count": 331,
     "metadata": {},
     "output_type": "execute_result"
    }
   ],
   "source": [
    "data[data['content'].isna()]['source'].unique()"
   ]
  },
  {
   "cell_type": "code",
   "execution_count": 332,
   "metadata": {},
   "outputs": [
    {
     "data": {
      "text/plain": [
       "'{\"commentNum\":\"0\",\"forwardNum\":\"0\",\"playNum\":\"0\",\"mid\":\"4116740957172892\",\"type\":\"图文\",\"favoriteNum\":\"0\",\"likeNum\":\"3\"}'"
      ]
     },
     "execution_count": 332,
     "metadata": {},
     "output_type": "execute_result"
    }
   ],
   "source": [
    "data[data['content'].isna()].iloc[3]['feature']"
   ]
  },
  {
   "cell_type": "markdown",
   "metadata": {},
   "source": [
    "content和title都为空的情况都来自微博，并且feature中的type为图文，对训练没有意义，直接移除"
   ]
  },
  {
   "cell_type": "code",
   "execution_count": 333,
   "metadata": {},
   "outputs": [],
   "source": [
    "data.drop(data[data['content'].isna()].index, inplace=True)"
   ]
  },
  {
   "cell_type": "code",
   "execution_count": 334,
   "metadata": {},
   "outputs": [
    {
     "data": {
      "text/plain": [
       "89577"
      ]
     },
     "execution_count": 334,
     "metadata": {},
     "output_type": "execute_result"
    }
   ],
   "source": [
    "len(data)"
   ]
  },
  {
   "cell_type": "markdown",
   "metadata": {},
   "source": [
    "本次需要使用的内容为source和content两列，取出对应内容"
   ]
  },
  {
   "cell_type": "code",
   "execution_count": 335,
   "metadata": {},
   "outputs": [],
   "source": [
    "data = data[['source','content']]"
   ]
  },
  {
   "cell_type": "markdown",
   "metadata": {},
   "source": [
    "### 生成标签"
   ]
  },
  {
   "cell_type": "code",
   "execution_count": 336,
   "metadata": {},
   "outputs": [],
   "source": [
    "def generate_label(source, include_website=False):\n",
    "    if not source:\n",
    "        return 0\n",
    "    if include_website and re.search('新华[社|网]', str(source)):\n",
    "        return 1\n",
    "    elif re.search('新华社', str(source)):\n",
    "        return 1\n",
    "    else:\n",
    "        return 0"
   ]
  },
  {
   "cell_type": "code",
   "execution_count": 337,
   "metadata": {
    "scrolled": true
   },
   "outputs": [],
   "source": [
    "data.source = data.source.apply(generate_label)"
   ]
  },
  {
   "cell_type": "code",
   "execution_count": 338,
   "metadata": {},
   "outputs": [],
   "source": [
    "data.columns = ['label', 'content']"
   ]
  },
  {
   "cell_type": "code",
   "execution_count": 339,
   "metadata": {},
   "outputs": [
    {
     "data": {
      "text/html": [
       "<div>\n",
       "<style scoped>\n",
       "    .dataframe tbody tr th:only-of-type {\n",
       "        vertical-align: middle;\n",
       "    }\n",
       "\n",
       "    .dataframe tbody tr th {\n",
       "        vertical-align: top;\n",
       "    }\n",
       "\n",
       "    .dataframe thead th {\n",
       "        text-align: right;\n",
       "    }\n",
       "</style>\n",
       "<table border=\"1\" class=\"dataframe\">\n",
       "  <thead>\n",
       "    <tr style=\"text-align: right;\">\n",
       "      <th></th>\n",
       "      <th>label</th>\n",
       "      <th>content</th>\n",
       "    </tr>\n",
       "  </thead>\n",
       "  <tbody>\n",
       "    <tr>\n",
       "      <th>0</th>\n",
       "      <td>0</td>\n",
       "      <td>此外，自本周（6月12日）起，除小米手机6等15款机型外，其余机型已暂停更新发布（含开发版/...</td>\n",
       "    </tr>\n",
       "    <tr>\n",
       "      <th>1</th>\n",
       "      <td>0</td>\n",
       "      <td>骁龙835作为唯一通过Windows 10桌面平台认证的ARM处理器，高通强调，不会因为只考...</td>\n",
       "    </tr>\n",
       "    <tr>\n",
       "      <th>2</th>\n",
       "      <td>0</td>\n",
       "      <td>此前的一加3T搭载的是3400mAh电池，DashCharge快充规格为5V/4A。\\r\\n...</td>\n",
       "    </tr>\n",
       "    <tr>\n",
       "      <th>3</th>\n",
       "      <td>1</td>\n",
       "      <td>这是6月18日在葡萄牙中部大佩德罗冈地区拍摄的被森林大火烧毁的汽车。新华社记者张立云摄\\r\\n</td>\n",
       "    </tr>\n",
       "    <tr>\n",
       "      <th>4</th>\n",
       "      <td>0</td>\n",
       "      <td>（原标题：44岁女子跑深圳约会网友被拒，暴雨中裸身奔走……）\\r\\n@深圳交警微博称：昨日清...</td>\n",
       "    </tr>\n",
       "  </tbody>\n",
       "</table>\n",
       "</div>"
      ],
      "text/plain": [
       "   label                                            content\n",
       "0      0  此外，自本周（6月12日）起，除小米手机6等15款机型外，其余机型已暂停更新发布（含开发版/...\n",
       "1      0  骁龙835作为唯一通过Windows 10桌面平台认证的ARM处理器，高通强调，不会因为只考...\n",
       "2      0  此前的一加3T搭载的是3400mAh电池，DashCharge快充规格为5V/4A。\\r\\n...\n",
       "3      1    这是6月18日在葡萄牙中部大佩德罗冈地区拍摄的被森林大火烧毁的汽车。新华社记者张立云摄\\r\\n\n",
       "4      0  （原标题：44岁女子跑深圳约会网友被拒，暴雨中裸身奔走……）\\r\\n@深圳交警微博称：昨日清..."
      ]
     },
     "execution_count": 339,
     "metadata": {},
     "output_type": "execute_result"
    }
   ],
   "source": [
    "data.head()"
   ]
  },
  {
   "cell_type": "markdown",
   "metadata": {},
   "source": [
    "### 处理文本内容"
   ]
  },
  {
   "cell_type": "code",
   "execution_count": 340,
   "metadata": {},
   "outputs": [],
   "source": [
    "# 读取停止词\n",
    "with open(\"./stopwords.txt\", encoding=\"utf-8-sig\") as f:\n",
    "    stopwords = [line.strip() for line in f.readlines()]"
   ]
  },
  {
   "cell_type": "markdown",
   "metadata": {},
   "source": [
    "多进程运行分词函数"
   ]
  },
  {
   "cell_type": "code",
   "execution_count": 341,
   "metadata": {},
   "outputs": [],
   "source": [
    "def cut_it(content, stopwords=None):\n",
    "    words = jieba.lcut(content)\n",
    "    # 过滤停用词\n",
    "    if stopwords:\n",
    "        print(\"here\")\n",
    "        filter_words = [word for word in words if word not in stopwords]\n",
    "    else:\n",
    "        filter_words = words\n",
    "    return \" \".join(filter_words)"
   ]
  },
  {
   "cell_type": "code",
   "execution_count": 342,
   "metadata": {},
   "outputs": [],
   "source": [
    "def clean(data, stopwords):\n",
    "    data['content'] = data['content'].apply(cut_it, stopwords=stopwords)\n",
    "    return data\n",
    "\n",
    "def parallel_apply(data, func, stopwords):\n",
    "    groups = data.groupby(data.index)\n",
    "    results = Parallel(n_jobs=4)(delayed(func)(group, stopwords) for n, group in groups)\n",
    "    return pd.concat(results)"
   ]
  },
  {
   "cell_type": "markdown",
   "metadata": {},
   "source": [
    "考虑到有些常用词语或口语化的词语可能可以使新闻和娱乐的区分更为明确，没有对停用词进行处理"
   ]
  },
  {
   "cell_type": "code",
   "execution_count": 343,
   "metadata": {
    "scrolled": true
   },
   "outputs": [
    {
     "name": "stdout",
     "output_type": "stream",
     "text": [
      "892.6828997135162\n"
     ]
    }
   ],
   "source": [
    "s = time.time()\n",
    "data = parallel_apply(data, clean, stopwords=None)\n",
    "e = time.time()\n",
    "diff = e - s\n",
    "print(\"%.2f seconds cost for word cutting\" % diff)"
   ]
  },
  {
   "cell_type": "code",
   "execution_count": 344,
   "metadata": {},
   "outputs": [
    {
     "data": {
      "text/html": [
       "<div>\n",
       "<style scoped>\n",
       "    .dataframe tbody tr th:only-of-type {\n",
       "        vertical-align: middle;\n",
       "    }\n",
       "\n",
       "    .dataframe tbody tr th {\n",
       "        vertical-align: top;\n",
       "    }\n",
       "\n",
       "    .dataframe thead th {\n",
       "        text-align: right;\n",
       "    }\n",
       "</style>\n",
       "<table border=\"1\" class=\"dataframe\">\n",
       "  <thead>\n",
       "    <tr style=\"text-align: right;\">\n",
       "      <th></th>\n",
       "      <th>label</th>\n",
       "      <th>content</th>\n",
       "    </tr>\n",
       "  </thead>\n",
       "  <tbody>\n",
       "    <tr>\n",
       "      <th>0</th>\n",
       "      <td>0</td>\n",
       "      <td>此外 ， 自 本周 （ 6 月 12 日 ） 起 ， 除 小米 手机 6 等 15 款 机型...</td>\n",
       "    </tr>\n",
       "    <tr>\n",
       "      <th>1</th>\n",
       "      <td>0</td>\n",
       "      <td>骁龙 835 作为 唯一 通过 Windows   10 桌面 平台 认证 的 ARM 处理...</td>\n",
       "    </tr>\n",
       "    <tr>\n",
       "      <th>2</th>\n",
       "      <td>0</td>\n",
       "      <td>此前 的 一加 3T 搭载 的 是 3400mAh 电池 ， DashCharge 快充 规...</td>\n",
       "    </tr>\n",
       "    <tr>\n",
       "      <th>3</th>\n",
       "      <td>1</td>\n",
       "      <td>这是 6 月 18 日 在 葡萄牙 中部 大 佩德罗 冈 地区 拍摄 的 被 森林 大火 烧...</td>\n",
       "    </tr>\n",
       "    <tr>\n",
       "      <th>4</th>\n",
       "      <td>0</td>\n",
       "      <td>（ 原 标题 ： 44 岁 女子 跑 深圳 约会 网友 被 拒 ， 暴雨 中 裸身 奔走 …...</td>\n",
       "    </tr>\n",
       "  </tbody>\n",
       "</table>\n",
       "</div>"
      ],
      "text/plain": [
       "   label                                            content\n",
       "0      0  此外 ， 自 本周 （ 6 月 12 日 ） 起 ， 除 小米 手机 6 等 15 款 机型...\n",
       "1      0  骁龙 835 作为 唯一 通过 Windows   10 桌面 平台 认证 的 ARM 处理...\n",
       "2      0  此前 的 一加 3T 搭载 的 是 3400mAh 电池 ， DashCharge 快充 规...\n",
       "3      1  这是 6 月 18 日 在 葡萄牙 中部 大 佩德罗 冈 地区 拍摄 的 被 森林 大火 烧...\n",
       "4      0  （ 原 标题 ： 44 岁 女子 跑 深圳 约会 网友 被 拒 ， 暴雨 中 裸身 奔走 …..."
      ]
     },
     "execution_count": 344,
     "metadata": {},
     "output_type": "execute_result"
    }
   ],
   "source": [
    "data.head()"
   ]
  },
  {
   "cell_type": "markdown",
   "metadata": {},
   "source": [
    "保存分词后的数据"
   ]
  },
  {
   "cell_type": "code",
   "execution_count": 16,
   "metadata": {},
   "outputs": [],
   "source": [
    "data.to_csv(\"processed_data.csv\", index=False)"
   ]
  },
  {
   "cell_type": "markdown",
   "metadata": {},
   "source": [
    "### 使用doc2vec生成句子向量"
   ]
  },
  {
   "cell_type": "markdown",
   "metadata": {},
   "source": [
    "使用TaggedDocument准备符合doc2vec所需格式的输入"
   ]
  },
  {
   "cell_type": "code",
   "execution_count": 382,
   "metadata": {},
   "outputs": [],
   "source": [
    "def tag_documents(data):\n",
    "    return [doc2vec.TaggedDocument(text.split(\" \"), [i]) for i, text in enumerate(data)]"
   ]
  },
  {
   "cell_type": "code",
   "execution_count": 350,
   "metadata": {},
   "outputs": [],
   "source": [
    "documents = tag_documents(data['content'])"
   ]
  },
  {
   "cell_type": "markdown",
   "metadata": {},
   "source": [
    "训练模型，生成向量"
   ]
  },
  {
   "cell_type": "code",
   "execution_count": 373,
   "metadata": {},
   "outputs": [],
   "source": [
    "def train_doc2vec(train_data, vector_size=100, epochs=10):\n",
    "    s = time.time()\n",
    "    model = doc2vec.Doc2Vec(train_data, min_count=1, vector_size=vector_size, sample=1e-3, negative=5, workers=4)\n",
    "    m = time.time()\n",
    "    print(\"model built in %.2f seconds...\" % (m-s))\n",
    "    model.train(train_data, total_examples=model.corpus_count, epochs=epochs)\n",
    "    e = time.time()\n",
    "    print(\"model trained in %.2f seconds...\" % (e-m))\n",
    "    print(\"Total time cost: %.2f seconds\" % (e-s))\n",
    "    return model"
   ]
  },
  {
   "cell_type": "code",
   "execution_count": 374,
   "metadata": {
    "scrolled": false
   },
   "outputs": [
    {
     "name": "stdout",
     "output_type": "stream",
     "text": [
      "model built in 780.11 seconds...\n",
      "model trained in 998.70 seconds...\n",
      "Total time cost: 1778.81 seconds\n"
     ]
    }
   ],
   "source": [
    "d2v_model = train_doc2vec(documents)"
   ]
  },
  {
   "cell_type": "markdown",
   "metadata": {},
   "source": [
    "100条数据运行13秒，1000条数据运行71秒，10000条数据运行390秒，全部数据1778秒"
   ]
  },
  {
   "cell_type": "markdown",
   "metadata": {},
   "source": [
    "测试词向量和句子向量"
   ]
  },
  {
   "cell_type": "code",
   "execution_count": 377,
   "metadata": {},
   "outputs": [
    {
     "name": "stderr",
     "output_type": "stream",
     "text": [
      "E:\\ProgramData\\lib\\site-packages\\ipykernel_launcher.py:1: DeprecationWarning: Call to deprecated `most_similar` (Method will be removed in 4.0.0, use self.wv.most_similar() instead).\n",
      "  \"\"\"Entry point for launching an IPython kernel.\n"
     ]
    },
    {
     "data": {
      "text/plain": [
       "[('与此同时', 0.8007556796073914),\n",
       " ('同时', 0.7219498753547668),\n",
       " ('除此之外', 0.7020956873893738),\n",
       " ('另外', 0.6954978704452515),\n",
       " ('不仅如此', 0.6863111257553101),\n",
       " ('据悉', 0.6562355756759644),\n",
       " ('据介绍', 0.6291040778160095),\n",
       " ('不过', 0.5885369777679443),\n",
       " ('近年来', 0.5840718746185303),\n",
       " ('例如', 0.5708256363868713)]"
      ]
     },
     "execution_count": 377,
     "metadata": {},
     "output_type": "execute_result"
    }
   ],
   "source": [
    "d2v_model.most_similar(\"此外\")"
   ]
  },
  {
   "cell_type": "code",
   "execution_count": 386,
   "metadata": {},
   "outputs": [
    {
     "name": "stderr",
     "output_type": "stream",
     "text": [
      "E:\\ProgramData\\lib\\site-packages\\ipykernel_launcher.py:1: DeprecationWarning: Call to deprecated `most_similar` (Method will be removed in 4.0.0, use self.wv.most_similar() instead).\n",
      "  \"\"\"Entry point for launching an IPython kernel.\n"
     ]
    },
    {
     "data": {
      "text/plain": [
       "[('下周', 0.6071938276290894),\n",
       " ('近期', 0.5483295917510986),\n",
       " ('接下来', 0.5221979022026062),\n",
       " ('周一', 0.503481388092041),\n",
       " ('今年', 0.49860355257987976),\n",
       " ('本轮', 0.49837443232536316),\n",
       " ('当天', 0.49752697348594666),\n",
       " ('本月', 0.49176257848739624),\n",
       " ('周五', 0.49065977334976196),\n",
       " ('明年', 0.4871312975883484)]"
      ]
     },
     "execution_count": 386,
     "metadata": {},
     "output_type": "execute_result"
    }
   ],
   "source": [
    "d2v_model.most_similar(\"本周\")"
   ]
  },
  {
   "cell_type": "code",
   "execution_count": 388,
   "metadata": {},
   "outputs": [
    {
     "data": {
      "text/plain": [
       "array([-0.03013344,  0.0311793 ,  0.07500315,  0.03532163, -0.01435754,\n",
       "        0.02375523, -0.06187371,  0.16740592, -0.02543208, -0.00388691,\n",
       "       -0.03813968,  0.05223802, -0.01682386,  0.02309733, -0.05332732,\n",
       "       -0.09471044,  0.00539344, -0.03102777,  0.01740274,  0.07647291,\n",
       "        0.01871366, -0.05412707,  0.01386418, -0.11117151, -0.01180055,\n",
       "        0.05680007,  0.00641289,  0.09814149,  0.01581566, -0.06954715,\n",
       "        0.02853889,  0.03546312,  0.00155082, -0.12295484,  0.03212266,\n",
       "       -0.01781205,  0.13651372,  0.09579171,  0.04545794, -0.02027204,\n",
       "       -0.05683808,  0.01273442, -0.02390513,  0.03401305,  0.011106  ,\n",
       "       -0.16088212, -0.06613839,  0.15077539,  0.10235438,  0.0348312 ,\n",
       "       -0.03138751, -0.03970571, -0.01169431, -0.0136871 ,  0.0479325 ,\n",
       "        0.052931  ,  0.17103706,  0.03305549, -0.01771477, -0.03399232,\n",
       "       -0.0714764 ,  0.03364879,  0.04305898,  0.03807432, -0.00266477,\n",
       "       -0.04170706, -0.02112675,  0.06557299,  0.06001058,  0.11030748,\n",
       "       -0.0576526 , -0.0270584 ,  0.05285459,  0.01176239, -0.10898633,\n",
       "        0.07211129, -0.07111538, -0.03380246,  0.0329249 , -0.04328373,\n",
       "       -0.03021211, -0.07065133, -0.06528573, -0.0312065 , -0.08581575,\n",
       "       -0.02715272, -0.07447755,  0.08288883,  0.0445965 , -0.05292079,\n",
       "        0.01434149,  0.01445717, -0.01907536,  0.0571008 ,  0.00151026,\n",
       "       -0.135912  ,  0.01652461, -0.01644925,  0.00913646,  0.05100786],\n",
       "      dtype=float32)"
      ]
     },
     "execution_count": 388,
     "metadata": {},
     "output_type": "execute_result"
    }
   ],
   "source": [
    "d2v_model.infer_vector(\"测试 句子 向量 的 结果。\".split(\" \"))"
   ]
  },
  {
   "cell_type": "markdown",
   "metadata": {},
   "source": [
    "保存模型以备后用。"
   ]
  },
  {
   "cell_type": "code",
   "execution_count": 396,
   "metadata": {},
   "outputs": [],
   "source": [
    "d2v_model.save(\"doc2vec_model\")"
   ]
  },
  {
   "cell_type": "markdown",
   "metadata": {},
   "source": [
    "读取模型"
   ]
  },
  {
   "cell_type": "code",
   "execution_count": 9,
   "metadata": {},
   "outputs": [],
   "source": [
    "def load_doc2vec(path=\"doc2vec_model\"):\n",
    "    model = doc2vec.Doc2Vec.load(path)\n",
    "    # 如果之后不需要继续训练，可以使用delete_temporary_training_data删除训练相关内容，减少空间占用。\n",
    "    model.delete_temporary_training_data(keep_doctags_vectors=True, keep_inference=True)\n",
    "    return model"
   ]
  },
  {
   "cell_type": "markdown",
   "metadata": {},
   "source": [
    "### 使用GRU生成句子向量"
   ]
  },
  {
   "cell_type": "markdown",
   "metadata": {},
   "source": [
    "训练词向量"
   ]
  },
  {
   "cell_type": "code",
   "execution_count": 415,
   "metadata": {},
   "outputs": [],
   "source": [
    "contents = [content.split(\" \") for content in data['content']]"
   ]
  },
  {
   "cell_type": "code",
   "execution_count": 422,
   "metadata": {
    "scrolled": true
   },
   "outputs": [
    {
     "name": "stdout",
     "output_type": "stream",
     "text": [
      "model trained in 872.60 seconds...\n"
     ]
    }
   ],
   "source": [
    "s = time.time()\n",
    "# w2v_model = word2vec.Word2Vec(contents, size=100, window=5, min_count=1, workers=4)\n",
    "wv_model = FastText(contents, size=100, window=5, min_count=1, iter=10, workers=4)\n",
    "e = time.time()\n",
    "print(\"model trained in %.2f seconds...\" %(e-s))"
   ]
  },
  {
   "cell_type": "code",
   "execution_count": 424,
   "metadata": {
    "scrolled": true
   },
   "outputs": [
    {
     "name": "stderr",
     "output_type": "stream",
     "text": [
      "E:\\ProgramData\\lib\\site-packages\\ipykernel_launcher.py:1: DeprecationWarning: Call to deprecated `most_similar` (Method will be removed in 4.0.0, use self.wv.most_similar() instead).\n",
      "  \"\"\"Entry point for launching an IPython kernel.\n"
     ]
    },
    {
     "data": {
      "text/plain": [
       "[('本周一', 0.7760252356529236),\n",
       " ('于本周', 0.7161431312561035),\n",
       " ('上周二', 0.6255700588226318),\n",
       " ('上周三', 0.6222138404846191),\n",
       " ('下周一', 0.6162354946136475),\n",
       " ('上周', 0.5951880216598511),\n",
       " ('上周四', 0.5885258316993713),\n",
       " ('周一', 0.5829751491546631),\n",
       " ('本月底', 0.5820356011390686),\n",
       " ('本月', 0.5717788934707642)]"
      ]
     },
     "execution_count": 424,
     "metadata": {},
     "output_type": "execute_result"
    }
   ],
   "source": [
    "wv_model.most_similar(\"本周\")"
   ]
  },
  {
   "cell_type": "markdown",
   "metadata": {},
   "source": [
    "保存词向量"
   ]
  },
  {
   "cell_type": "code",
   "execution_count": 425,
   "metadata": {},
   "outputs": [],
   "source": [
    "wv_model.save(\"fasttext_model\")"
   ]
  },
  {
   "cell_type": "markdown",
   "metadata": {},
   "source": [
    "构建网络"
   ]
  },
  {
   "cell_type": "code",
   "execution_count": null,
   "metadata": {},
   "outputs": [],
   "source": [
    "# TODO 使用双向GRU进行分类训练，提取GRU最后分类前一层的输出，作为输入传入其他模型\n",
    "# layer_index=7 # the index of the layer you want to observe\n",
    "# intermediate_layer_model=Model(inputs=model.input, outputs=model.get_layer(index=layer_index).output)\n",
    "# intermediate_output = intermediate_layer_model.predict(x)# 承接训练集\n",
    "# print(intermediate_output.shape)\n",
    "\n",
    "# intermediate_output1 = intermediate_layer_model.predict(x_test3)# 测试集\n",
    "# print(intermediate_output1.shape)\n",
    "\n",
    "# svc(intermediate_output, y0,intermediate_output1, y0_test3) # 接上SVM"
   ]
  },
  {
   "cell_type": "markdown",
   "metadata": {},
   "source": [
    "### 建立模型，进行分类"
   ]
  },
  {
   "cell_type": "code",
   "execution_count": 79,
   "metadata": {},
   "outputs": [],
   "source": [
    "class Classifier:\n",
    "    def __init__(self, model, embed_method=\"doc2vec\"):\n",
    "        self.model = model\n",
    "        if embed_method == \"doc2vec\":\n",
    "            self.embed_model = load_doc2vec()\n",
    "        else:\n",
    "            pass\n",
    "    \n",
    "    def infer_vectors(self, X):\n",
    "        return [self.embed_model.infer_vector(x.split(' ')) for x in X]\n",
    "    \n",
    "    def train(self, X, y, **args):\n",
    "        self.model.fit(X, y, **args)\n",
    "    \n",
    "    def predict(self, X, get_prob=False):\n",
    "        if get_prob:\n",
    "            return self.model.predict_proba(np.array(X))[:,-1]\n",
    "        else:\n",
    "            return self.model.predict(X)\n",
    "        \n",
    "    def evaluate(self, X, y):\n",
    "        return self.model.score(X, y)\n",
    "    \n",
    "    def draw_roc_curve(self, X, y):\n",
    "        y_pred = self.predict(X, get_prob=True)\n",
    "        fpr, tpr, thresholds = roc_curve(y_test, y_pred)\n",
    "        fig, ax = plt.subplots()\n",
    "        ax.plot(fpr, tpr)\n",
    "        ax.plot([0, 1], [0, 1], transform=ax.transAxes, ls=\"--\", c=\".3\")\n",
    "        plt.xlim([0.0, 1.0])\n",
    "        plt.ylim([0.0, 1.0])\n",
    "        plt.title('ROC curve')\n",
    "        plt.xlabel('False Positive Rate')\n",
    "        plt.ylabel('True Positive Rate')\n",
    "        plt.grid(True)\n",
    "        return auc(fpr, tpr)"
   ]
  },
  {
   "cell_type": "markdown",
   "metadata": {},
   "source": [
    "准备数据，划分数据集"
   ]
  },
  {
   "cell_type": "code",
   "execution_count": 4,
   "metadata": {},
   "outputs": [],
   "source": [
    "data = pd.read_csv(\"processed_data.csv\")"
   ]
  },
  {
   "cell_type": "code",
   "execution_count": 5,
   "metadata": {},
   "outputs": [],
   "source": [
    "X_train, X_test, y_train, y_test = train_test_split(data['content'], data['label'], test_size=0.2, random_state=16)"
   ]
  },
  {
   "cell_type": "markdown",
   "metadata": {},
   "source": [
    "使用SVC建立模型，通过class_weight加大负样本的权重，设置probability=True以使用predict_proba函数（会降低训练速度）"
   ]
  },
  {
   "cell_type": "code",
   "execution_count": 7,
   "metadata": {},
   "outputs": [],
   "source": [
    "svc = SVC(class_weight={0:0.8, 1:0.2}, probability=True)"
   ]
  },
  {
   "cell_type": "code",
   "execution_count": 10,
   "metadata": {},
   "outputs": [],
   "source": [
    "classifier = Classifier(svc)"
   ]
  },
  {
   "cell_type": "markdown",
   "metadata": {},
   "source": [
    "转化数据"
   ]
  },
  {
   "cell_type": "code",
   "execution_count": 11,
   "metadata": {},
   "outputs": [],
   "source": [
    "X_train_vectors = classifier.infer_vectors(X_train)"
   ]
  },
  {
   "cell_type": "code",
   "execution_count": 12,
   "metadata": {},
   "outputs": [],
   "source": [
    "X_test_vectors = classifier.infer_vectors(X_test)"
   ]
  },
  {
   "cell_type": "markdown",
   "metadata": {},
   "source": [
    "模型训练"
   ]
  },
  {
   "cell_type": "code",
   "execution_count": 35,
   "metadata": {},
   "outputs": [
    {
     "name": "stderr",
     "output_type": "stream",
     "text": [
      "E:\\ProgramData\\lib\\site-packages\\sklearn\\svm\\base.py:196: FutureWarning: The default value of gamma will change from 'auto' to 'scale' in version 0.22 to account better for unscaled features. Set gamma explicitly to 'auto' or 'scale' to avoid this warning.\n",
      "  \"avoid this warning.\", FutureWarning)\n"
     ]
    }
   ],
   "source": [
    "classifier.train(X_train_vectors, y_train)"
   ]
  },
  {
   "cell_type": "markdown",
   "metadata": {},
   "source": [
    "模型评估"
   ]
  },
  {
   "cell_type": "code",
   "execution_count": 36,
   "metadata": {},
   "outputs": [
    {
     "data": {
      "text/plain": [
       "0.9638715619374555"
      ]
     },
     "execution_count": 36,
     "metadata": {},
     "output_type": "execute_result"
    }
   ],
   "source": [
    "classifier.evaluate(X_train_vectors, y_train)"
   ]
  },
  {
   "cell_type": "code",
   "execution_count": 37,
   "metadata": {},
   "outputs": [
    {
     "data": {
      "text/plain": [
       "0.9622125474436258"
      ]
     },
     "execution_count": 37,
     "metadata": {},
     "output_type": "execute_result"
    }
   ],
   "source": [
    "classifier.evaluate(X_test_vectors, y_test)"
   ]
  },
  {
   "cell_type": "code",
   "execution_count": 59,
   "metadata": {},
   "outputs": [
    {
     "data": {
      "text/plain": [
       "0.980723626711204"
      ]
     },
     "execution_count": 59,
     "metadata": {},
     "output_type": "execute_result"
    },
    {
     "data": {
      "image/png": "[encoded data removed]",
      "text/plain": [
       "<Figure size 432x288 with 1 Axes>"
      ]
     },
     "metadata": {
      "needs_background": "light"
     },
     "output_type": "display_data"
    }
   ],
   "source": [
    "classifier.draw_roc_curve(X_test_vectors, y_test)"
   ]
  },
  {
   "cell_type": "markdown",
   "metadata": {},
   "source": [
    "测试集上效果不错，auc达到了0.9807"
   ]
  },
  {
   "cell_type": "markdown",
   "metadata": {},
   "source": [
    "### Congratulations! You have completed all assignments in this week. The question below is optional. If you still have time, why don't try it out."
   ]
  },
  {
   "cell_type": "markdown",
   "metadata": {},
   "source": [
    "## Option:"
   ]
  },
  {
   "cell_type": "markdown",
   "metadata": {},
   "source": [
    "#### Try differnt machine learning algorithms with different combinations of parameters in the practical part, and compare their performances (Better use some visualization techiniques)."
   ]
  },
  {
   "cell_type": "markdown",
   "metadata": {},
   "source": [
    "尝试对SVM，Random Forest，和Xgboost使用grid search和cv进行不同参数的尝试。  \n",
    "数据量较大，为了提高速度，对训练数据进行下采样。保留全部负样本和相同数目的正样本。"
   ]
  },
  {
   "cell_type": "code",
   "execution_count": 13,
   "metadata": {},
   "outputs": [],
   "source": [
    "# 负样本的index\n",
    "neg_index = np.argwhere(np.array(y_train)==0)"
   ]
  },
  {
   "cell_type": "code",
   "execution_count": 14,
   "metadata": {},
   "outputs": [],
   "source": [
    "# 取出所有负样本\n",
    "X_train_vectors = np.array(X_train_vectors)\n",
    "sub_X_train_neg = X_train_vectors[neg_index]"
   ]
  },
  {
   "cell_type": "code",
   "execution_count": 15,
   "metadata": {},
   "outputs": [],
   "source": [
    "# 取出相同数目的正样本\n",
    "pos_index = np.argwhere(np.array(y_train)==1)\n",
    "sub_X_train_pos = X_train_vectors[pos_index][:len(sub_X_train_neg)]"
   ]
  },
  {
   "cell_type": "code",
   "execution_count": 16,
   "metadata": {},
   "outputs": [],
   "source": [
    "# 拼接正负样本，获取采样结果\n",
    "sub_X_train = np.concatenate([sub_X_train_neg, sub_X_train_pos])"
   ]
  },
  {
   "cell_type": "code",
   "execution_count": 17,
   "metadata": {},
   "outputs": [
    {
     "data": {
      "text/plain": [
       "(17578, 1, 100)"
      ]
     },
     "execution_count": 17,
     "metadata": {},
     "output_type": "execute_result"
    }
   ],
   "source": [
    "sub_X_train.shape"
   ]
  },
  {
   "cell_type": "code",
   "execution_count": 19,
   "metadata": {},
   "outputs": [],
   "source": [
    "# 移除多余维度\n",
    "sub_X_train = sub_X_train.reshape(-1, 100)"
   ]
  },
  {
   "cell_type": "code",
   "execution_count": 54,
   "metadata": {},
   "outputs": [],
   "source": [
    "# 生成采样内容的标签\n",
    "sub_y_train = np.array([0]*len(sub_X_train_neg)+[1]*len(sub_X_train_pos))"
   ]
  },
  {
   "cell_type": "code",
   "execution_count": 60,
   "metadata": {},
   "outputs": [],
   "source": [
    "# 打乱数据顺序\n",
    "index = list(range(len(sub_y_train)))\n",
    "np.random.shuffle(index)\n",
    "sub_X_train = sub_X_train[index]\n",
    "sub_y_train = sub_y_train[index]"
   ]
  },
  {
   "cell_type": "markdown",
   "metadata": {},
   "source": [
    "### SVM"
   ]
  },
  {
   "cell_type": "markdown",
   "metadata": {},
   "source": [
    "待调整参数"
   ]
  },
  {
   "cell_type": "code",
   "execution_count": 22,
   "metadata": {},
   "outputs": [],
   "source": [
    "svc_param_grid = [{'kernel':['rbf','poly'], 'gamma':[1e-4, 1e-3, 1e-2],'C':[0.1, 1, 10]}]"
   ]
  },
  {
   "cell_type": "markdown",
   "metadata": {},
   "source": [
    "用grid search cv建立模型"
   ]
  },
  {
   "cell_type": "code",
   "execution_count": 23,
   "metadata": {},
   "outputs": [],
   "source": [
    "svc_cv = GridSearchCV(SVC(probability=True), param_grid=svc_param_grid, scoring='roc_auc', cv=5, n_jobs=4)"
   ]
  },
  {
   "cell_type": "code",
   "execution_count": 107,
   "metadata": {},
   "outputs": [],
   "source": [
    "cls_svc_cv = Classifier(svc_cv)"
   ]
  },
  {
   "cell_type": "markdown",
   "metadata": {},
   "source": [
    "模型训练"
   ]
  },
  {
   "cell_type": "code",
   "execution_count": 109,
   "metadata": {},
   "outputs": [],
   "source": [
    "cls_svc_cv.train(sub_X_train, sub_y_train)"
   ]
  },
  {
   "cell_type": "markdown",
   "metadata": {},
   "source": [
    "最佳参数"
   ]
  },
  {
   "cell_type": "code",
   "execution_count": 110,
   "metadata": {},
   "outputs": [
    {
     "data": {
      "text/plain": [
       "{'C': 10, 'gamma': 0.01, 'kernel': 'rbf'}"
      ]
     },
     "execution_count": 110,
     "metadata": {},
     "output_type": "execute_result"
    }
   ],
   "source": [
    "cls_svc_cv.model.best_params_"
   ]
  },
  {
   "cell_type": "markdown",
   "metadata": {},
   "source": [
    "模型评估"
   ]
  },
  {
   "cell_type": "code",
   "execution_count": 111,
   "metadata": {},
   "outputs": [
    {
     "data": {
      "text/plain": [
       "0.9914919922413075"
      ]
     },
     "execution_count": 111,
     "metadata": {},
     "output_type": "execute_result"
    }
   ],
   "source": [
    "cls_svc_cv.evaluate(sub_X_train, sub_y_train)"
   ]
  },
  {
   "cell_type": "code",
   "execution_count": 112,
   "metadata": {},
   "outputs": [
    {
     "data": {
      "text/plain": [
       "0.9862283758196423"
      ]
     },
     "execution_count": 112,
     "metadata": {},
     "output_type": "execute_result"
    }
   ],
   "source": [
    "cls_svc_cv.evaluate(X_test_vectors, y_test)"
   ]
  },
  {
   "cell_type": "code",
   "execution_count": 113,
   "metadata": {
    "scrolled": true
   },
   "outputs": [
    {
     "data": {
      "text/plain": [
       "0.9862277022764085"
      ]
     },
     "execution_count": 113,
     "metadata": {},
     "output_type": "execute_result"
    },
    {
     "data": {
      "image/png": "[encoded data removed]",
      "text/plain": [
       "<Figure size 432x288 with 1 Axes>"
      ]
     },
     "metadata": {
      "needs_background": "light"
     },
     "output_type": "display_data"
    }
   ],
   "source": [
    "cls_svc_cv.draw_roc_curve(X_test_vectors, y_test)"
   ]
  },
  {
   "cell_type": "markdown",
   "metadata": {},
   "source": [
    "最终结果比调整前略好一些，最佳参数在范围边界，但是训练速度很慢，就不再做调整了"
   ]
  },
  {
   "cell_type": "markdown",
   "metadata": {},
   "source": [
    "### Random Forest"
   ]
  },
  {
   "cell_type": "code",
   "execution_count": 66,
   "metadata": {},
   "outputs": [],
   "source": [
    "rf_param_grid = {'n_estimators':[30, 60, 90], 'max_depth':[5, 10, 15]}\n",
    "rf_cv = GridSearchCV(RandomForestClassifier(random_state=16), param_grid=rf_param_grid, scoring='roc_auc', cv=5, n_jobs=2)"
   ]
  },
  {
   "cell_type": "code",
   "execution_count": 67,
   "metadata": {},
   "outputs": [],
   "source": [
    "cls_rf_cv = Classifier(rf_cv)"
   ]
  },
  {
   "cell_type": "code",
   "execution_count": 68,
   "metadata": {},
   "outputs": [],
   "source": [
    "cls_rf_cv.train(sub_X_train, sub_y_train)"
   ]
  },
  {
   "cell_type": "code",
   "execution_count": 69,
   "metadata": {},
   "outputs": [
    {
     "data": {
      "text/plain": [
       "{'max_depth': 15, 'n_estimators': 90}"
      ]
     },
     "execution_count": 69,
     "metadata": {},
     "output_type": "execute_result"
    }
   ],
   "source": [
    "cls_rf_cv.model.best_params_"
   ]
  },
  {
   "cell_type": "code",
   "execution_count": 70,
   "metadata": {},
   "outputs": [
    {
     "data": {
      "text/plain": [
       "0.999008719111117"
      ]
     },
     "execution_count": 70,
     "metadata": {},
     "output_type": "execute_result"
    }
   ],
   "source": [
    "cls_rf_cv.evaluate(sub_X_train, sub_y_train)"
   ]
  },
  {
   "cell_type": "code",
   "execution_count": 71,
   "metadata": {},
   "outputs": [
    {
     "data": {
      "text/plain": [
       "0.9600399521898058"
      ]
     },
     "execution_count": 71,
     "metadata": {},
     "output_type": "execute_result"
    }
   ],
   "source": [
    "cls_rf_cv.evaluate(X_test_vectors, y_test)"
   ]
  },
  {
   "cell_type": "code",
   "execution_count": 72,
   "metadata": {},
   "outputs": [
    {
     "data": {
      "text/plain": [
       "0.9600399521898058"
      ]
     },
     "execution_count": 72,
     "metadata": {},
     "output_type": "execute_result"
    },
    {
     "data": {
      "image/png": "[encoded data removed]",
      "text/plain": [
       "<Figure size 432x288 with 1 Axes>"
      ]
     },
     "metadata": {
      "needs_background": "light"
     },
     "output_type": "display_data"
    }
   ],
   "source": [
    "cls_rf_cv.draw_roc_curve(X_test_vectors, y_test)"
   ]
  },
  {
   "cell_type": "markdown",
   "metadata": {},
   "source": [
    "结果比SVM稍差，参数选取落在边界，可以再加大对应参数进行一轮调整。"
   ]
  },
  {
   "cell_type": "code",
   "execution_count": 81,
   "metadata": {},
   "outputs": [
    {
     "name": "stdout",
     "output_type": "stream",
     "text": [
      "best parameters: {'max_depth': 60, 'n_estimators': 270}\n",
      "train score: 0.9999999999999999\n",
      "test score: 0.9641986924999135\n"
     ]
    },
    {
     "data": {
      "text/plain": [
       "0.9641986924999135"
      ]
     },
     "execution_count": 81,
     "metadata": {},
     "output_type": "execute_result"
    },
    {
     "data": {
      "image/png": "[encoded data removed]",
      "text/plain": [
       "<Figure size 432x288 with 1 Axes>"
      ]
     },
     "metadata": {
      "needs_background": "light"
     },
     "output_type": "display_data"
    }
   ],
   "source": [
    "rf_param_grid = {'n_estimators':[90, 180, 270], 'max_depth':[15, 30, 60]}\n",
    "rf_cv = GridSearchCV(RandomForestClassifier(random_state=16), param_grid=rf_param_grid, scoring='roc_auc', cv=5, n_jobs=4)\n",
    "cls_rf_cv = Classifier(rf_cv)\n",
    "cls_rf_cv.train(sub_X_train, sub_y_train)\n",
    "print(\"best parameters:\", cls_rf_cv.model.best_params_)\n",
    "print(\"train score:\", cls_rf_cv.evaluate(sub_X_train, sub_y_train))\n",
    "print(\"test score:\", cls_rf_cv.evaluate(X_test_vectors, y_test))\n",
    "cls_rf_cv.draw_roc_curve(X_test_vectors, y_test)"
   ]
  },
  {
   "cell_type": "markdown",
   "metadata": {},
   "source": [
    "效果略有提高，在训练集达到了0.9999，参数依然落在边界，可见树的深度越大，棵数越多，随机森林的效果越好，但是需要注意过拟合的问题以及面向测试集的训练。"
   ]
  },
  {
   "cell_type": "markdown",
   "metadata": {},
   "source": [
    "### XGBoost"
   ]
  },
  {
   "cell_type": "code",
   "execution_count": 86,
   "metadata": {},
   "outputs": [
    {
     "name": "stdout",
     "output_type": "stream",
     "text": [
      "best parameters: {'gamma': 0.2, 'max_depth': 7, 'n_estimators': 100}\n",
      "train score: 1.0\n",
      "test score: 0.982404087144161\n"
     ]
    },
    {
     "data": {
      "text/plain": [
       "0.982404087144161"
      ]
     },
     "execution_count": 86,
     "metadata": {},
     "output_type": "execute_result"
    },
    {
     "data": {
      "image/png": "[encoded data removed]",
      "text/plain": [
       "<Figure size 432x288 with 1 Axes>"
      ]
     },
     "metadata": {
      "needs_background": "light"
     },
     "output_type": "display_data"
    }
   ],
   "source": [
    "xgb_param_grid = {'max_depth':[3, 5, 7], 'n_estimators':[10,50,100], 'gamma':[0.1,0.2,0.5]}\n",
    "xgb_cv = GridSearchCV(XGBClassifier(scoring='roc_auc', n_jobs=-1), param_grid=xgb_param_grid, scoring='roc_auc', cv=5, n_jobs=3)\n",
    "cls_xgb_cv = Classifier(xgb_cv)\n",
    "cls_xgb_cv.train(sub_X_train, sub_y_train)\n",
    "print(\"best parameters:\", cls_xgb_cv.model.best_params_)\n",
    "print(\"train score:\", cls_xgb_cv.evaluate(sub_X_train, sub_y_train))\n",
    "print(\"test score:\", cls_xgb_cv.evaluate(np.array(X_test_vectors), y_test))\n",
    "cls_xgb_cv.draw_roc_curve(X_test_vectors, y_test)"
   ]
  },
  {
   "cell_type": "markdown",
   "metadata": {},
   "source": [
    "弱学习器数目和树的最大深度应该和随机森林一样，取值越大模型越复杂，效果也就越好。gamma取0.2时取得最佳结果。"
   ]
  },
  {
   "cell_type": "markdown",
   "metadata": {},
   "source": [
    "### 总结"
   ]
  },
  {
   "cell_type": "markdown",
   "metadata": {},
   "source": [
    "从上面的调整过程可以看到，SVM和xgboost更为适合本数据，在测试集上的效果在98%以上，而随机森林第二次调整后在训练集上得分已经达到了0.9999，测试集却依然在0.96上下，过拟合比其他两个模型更明显，再增加树的棵数和最大深度应该会使其更严重，可能需要调整其他参数以提高其泛化能力。xgboost的效果非常好，在完美拟合训练数据的同时还能在测试数据上达到0.9824的效果。"
   ]
  },
  {
   "cell_type": "markdown",
   "metadata": {},
   "source": [
    "### Reference\n",
    "能否在keras的model.add中添加sklearn的SVM: https://tieba.baidu.com/p/6079823608?traceid=  \n",
    "parallelize-pandas-apply: https://stackoverflow.com/questions/39284989/parallelize-pandas-apply  \n",
    "Tandem LSTM-SVM Approach for Sentiment Analysis: http://ceur-ws.org/Vol-1749/paper_030.pdf  \n",
    "带你全面认识自然语言处理三大特征抽取器（CNN/RNN/TF）: https://www.jiqizhixin.com/articles/2019-02-22-9  \n",
    "文本向量化: https://blog.csdn.net/ZJL0105/article/details/82316056"
   ]
  }
 ],
 "metadata": {
  "kernelspec": {
   "display_name": "Python 3",
   "language": "python",
   "name": "python3"
  },
  "language_info": {
   "codemirror_mode": {
    "name": "ipython",
    "version": 3
   },
   "file_extension": ".py",
   "mimetype": "text/x-python",
   "name": "python",
   "nbconvert_exporter": "python",
   "pygments_lexer": "ipython3",
   "version": "3.7.3"
  },
  "toc": {
   "base_numbering": 1,
   "nav_menu": {},
   "number_sections": false,
   "sideBar": true,
   "skip_h1_title": false,
   "title_cell": "Table of Contents",
   "title_sidebar": "Contents",
   "toc_cell": false,
   "toc_position": {},
   "toc_section_display": true,
   "toc_window_display": false
  }
 },
 "nbformat": 4,
 "nbformat_minor": 2
}
