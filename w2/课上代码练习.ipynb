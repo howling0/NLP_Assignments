{
 "cells": [
  {
   "cell_type": "markdown",
   "metadata": {},
   "source": [
    "## 搜索算法"
   ]
  },
  {
   "cell_type": "markdown",
   "metadata": {},
   "source": [
    "### 基础数据"
   ]
  },
  {
   "cell_type": "code",
   "execution_count": 1,
   "metadata": {},
   "outputs": [],
   "source": [
    "coordination_source = \"\"\"\n",
    "{name:'兰州', geoCoord:[103.73, 36.03]},\n",
    "{name:'嘉峪关', geoCoord:[98.17, 39.47]},\n",
    "{name:'西宁', geoCoord:[101.74, 36.56]},\n",
    "{name:'成都', geoCoord:[104.06, 30.67]},\n",
    "{name:'石家庄', geoCoord:[114.48, 38.03]},\n",
    "{name:'拉萨', geoCoord:[102.73, 25.04]},\n",
    "{name:'贵阳', geoCoord:[106.71, 26.57]},\n",
    "{name:'武汉', geoCoord:[114.31, 30.52]},\n",
    "{name:'郑州', geoCoord:[113.65, 34.76]},\n",
    "{name:'济南', geoCoord:[117, 36.65]},\n",
    "{name:'南京', geoCoord:[118.78, 32.04]},\n",
    "{name:'合肥', geoCoord:[117.27, 31.86]},\n",
    "{name:'杭州', geoCoord:[120.19, 30.26]},\n",
    "{name:'南昌', geoCoord:[115.89, 28.68]},\n",
    "{name:'福州', geoCoord:[119.3, 26.08]},\n",
    "{name:'广州', geoCoord:[113.23, 23.16]},\n",
    "{name:'长沙', geoCoord:[113, 28.21]},\n",
    "//{name:'海口', geoCoord:[110.35, 20.02]},\n",
    "{name:'沈阳', geoCoord:[123.38, 41.8]},\n",
    "{name:'长春', geoCoord:[125.35, 43.88]},\n",
    "{name:'哈尔滨', geoCoord:[126.63, 45.75]},\n",
    "{name:'太原', geoCoord:[112.53, 37.87]},\n",
    "{name:'西安', geoCoord:[108.95, 34.27]},\n",
    "//{name:'台湾', geoCoord:[121.30, 25.03]},\n",
    "{name:'北京', geoCoord:[116.46, 39.92]},\n",
    "{name:'上海', geoCoord:[121.48, 31.22]},\n",
    "{name:'重庆', geoCoord:[106.54, 29.59]},\n",
    "{name:'天津', geoCoord:[117.2, 39.13]},\n",
    "{name:'呼和浩特', geoCoord:[111.65, 40.82]},\n",
    "{name:'南宁', geoCoord:[108.33, 22.84]},\n",
    "//{name:'西藏', geoCoord:[91.11, 29.97]},\n",
    "{name:'银川', geoCoord:[106.27, 38.47]},\n",
    "{name:'乌鲁木齐', geoCoord:[87.68, 43.77]},\n",
    "{name:'香港', geoCoord:[114.17, 22.28]},\n",
    "{name:'澳门', geoCoord:[113.54, 22.19]}\n",
    "\"\"\""
   ]
  },
  {
   "cell_type": "markdown",
   "metadata": {},
   "source": [
    "### 使用正则解析数据"
   ]
  },
  {
   "cell_type": "code",
   "execution_count": 2,
   "metadata": {},
   "outputs": [],
   "source": [
    "import re"
   ]
  },
  {
   "cell_type": "markdown",
   "metadata": {},
   "source": [
    "[a-z]  \n",
    "[A-Z]  \n",
    "[^a]: negation  \n",
    "colou?r:  ? zero or one of its previous character  \n",
    "\\* : zero or more of its previous character  \n",
    "+: one or more  \n",
    ".:match any single character  \n",
    "^:start of the line  \n",
    "$:end of the line  \n",
    "| [cat|dog] : cat or dog  \n",
    "(da): make the string da like a character  \n"
   ]
  },
  {
   "cell_type": "code",
   "execution_count": 3,
   "metadata": {},
   "outputs": [],
   "source": [
    "l = \"color or colour\""
   ]
  },
  {
   "cell_type": "code",
   "execution_count": 4,
   "metadata": {},
   "outputs": [
    {
     "data": {
      "text/plain": [
       "['color', 'colour']"
      ]
     },
     "execution_count": 4,
     "metadata": {},
     "output_type": "execute_result"
    }
   ],
   "source": [
    "pattern = re.compile(\"colou?r\")\n",
    "pattern.findall(l)"
   ]
  },
  {
   "cell_type": "code",
   "execution_count": 5,
   "metadata": {},
   "outputs": [
    {
     "data": {
      "text/plain": [
       "['or', 'or', 'our']"
      ]
     },
     "execution_count": 5,
     "metadata": {},
     "output_type": "execute_result"
    }
   ],
   "source": [
    "pattern = re.compile(\"ou?r\")\n",
    "pattern.findall(l)"
   ]
  },
  {
   "cell_type": "code",
   "execution_count": 6,
   "metadata": {},
   "outputs": [
    {
     "data": {
      "text/plain": [
       "['color', 'or', 'colour']"
      ]
     },
     "execution_count": 6,
     "metadata": {},
     "output_type": "execute_result"
    }
   ],
   "source": [
    "pattern = re.compile(\"[a-z]*ou?r\")\n",
    "pattern.findall(l)"
   ]
  },
  {
   "cell_type": "code",
   "execution_count": 7,
   "metadata": {},
   "outputs": [
    {
     "data": {
      "text/plain": [
       "['color', 'colour']"
      ]
     },
     "execution_count": 7,
     "metadata": {},
     "output_type": "execute_result"
    }
   ],
   "source": [
    "pattern = re.compile(\"[a-z]+ou?r\")\n",
    "pattern.findall(l)"
   ]
  },
  {
   "cell_type": "code",
   "execution_count": 8,
   "metadata": {},
   "outputs": [
    {
     "data": {
      "text/plain": [
       "[\"name:'合肥'\"]"
      ]
     },
     "execution_count": 8,
     "metadata": {},
     "output_type": "execute_result"
    }
   ],
   "source": [
    "re.findall(\"name:'\\w+'\", \"{name:'合肥', geoCoord:[117.27, 31.86]},\")"
   ]
  },
  {
   "cell_type": "code",
   "execution_count": 9,
   "metadata": {},
   "outputs": [
    {
     "data": {
      "text/plain": [
       "'合肥'"
      ]
     },
     "execution_count": 9,
     "metadata": {},
     "output_type": "execute_result"
    }
   ],
   "source": [
    "re.findall(\"name:'(\\w+)'\", \"{name:'合肥', geoCoord:[117.27, 31.86]},\")[0]"
   ]
  },
  {
   "cell_type": "code",
   "execution_count": 10,
   "metadata": {},
   "outputs": [
    {
     "data": {
      "text/plain": [
       "('117.27', '31.86')"
      ]
     },
     "execution_count": 10,
     "metadata": {},
     "output_type": "execute_result"
    }
   ],
   "source": [
    "re.findall(\"Coord:\\[(\\d+.\\d+),\\s(\\d+.\\d+)\\]\", \"{name:'合肥', geoCoord:[117.27, 31.86]},\")[0]"
   ]
  },
  {
   "cell_type": "code",
   "execution_count": 11,
   "metadata": {},
   "outputs": [
    {
     "data": {
      "text/plain": [
       "'117.27'"
      ]
     },
     "execution_count": 11,
     "metadata": {},
     "output_type": "execute_result"
    }
   ],
   "source": [
    "re.findall(\"Coord:\\[(\\d+.\\d+),\\s\\d+.\\d+\\]\", \"{name:'合肥', geoCoord:[117.27, 31.86]},\")[0]"
   ]
  },
  {
   "cell_type": "code",
   "execution_count": 12,
   "metadata": {},
   "outputs": [
    {
     "data": {
      "text/plain": [
       "('117', '27', '31', '86')"
      ]
     },
     "execution_count": 12,
     "metadata": {},
     "output_type": "execute_result"
    }
   ],
   "source": [
    "re.findall(\"Coord:\\[(\\d+).(\\d+),\\s(\\d+).(\\d+)\\]\", \"{name:'合肥', geoCoord:[117.27, 31.86]},\")[0]"
   ]
  },
  {
   "cell_type": "markdown",
   "metadata": {},
   "source": [
    "map"
   ]
  },
  {
   "cell_type": "code",
   "execution_count": 13,
   "metadata": {},
   "outputs": [
    {
     "data": {
      "text/plain": [
       "<map at 0x2fc2f50240>"
      ]
     },
     "execution_count": 13,
     "metadata": {},
     "output_type": "execute_result"
    }
   ],
   "source": [
    "map(float, ('117', '27', '31', '86'))"
   ]
  },
  {
   "cell_type": "code",
   "execution_count": 14,
   "metadata": {},
   "outputs": [
    {
     "data": {
      "text/plain": [
       "(117.0, 27.0, 31.0, 86.0)"
      ]
     },
     "execution_count": 14,
     "metadata": {},
     "output_type": "execute_result"
    }
   ],
   "source": [
    "tuple(map(float, ('117', '27', '31', '86')))"
   ]
  },
  {
   "cell_type": "code",
   "execution_count": 15,
   "metadata": {},
   "outputs": [],
   "source": [
    "def get_city_info(city_coordination):\n",
    "    city_location = {}\n",
    "    # 按换行符拆分成列表，遍历各行内容\n",
    "    for line in city_coordination.split(\"\\n\"):\n",
    "        # 跳过 // 开头的行和空行\n",
    "        if line.startswith(\"//\"):\n",
    "            continue\n",
    "        if not line.strip():\n",
    "            continue\n",
    "            \n",
    "        # \\w 匹配字符，+至少一个，()提取匹配的字符串\n",
    "        city = re.findall(\"name:'(\\w+)'\", line)[0]\n",
    "        # \\d 匹配数字，\\s 匹配空格\n",
    "        # 多个()提取结果为逗号分隔的元组\n",
    "        x_y = re.findall(\"Coord:\\[(\\d+.\\d+),\\s(\\d+.\\d+)\\]\", line)[0]\n",
    "        # map(function, tuple) 对tuple中每个值执行function\n",
    "        # 即将x_y中元素转换为float\n",
    "        # map返回的是map对象，转回tuple\n",
    "        x_y = tuple(map(float, x_y))\n",
    "        \n",
    "        # 记录进字典中\n",
    "        city_location[city] = x_y\n",
    "    return city_location"
   ]
  },
  {
   "cell_type": "code",
   "execution_count": 16,
   "metadata": {},
   "outputs": [],
   "source": [
    "city_info = get_city_info(coordination_source)"
   ]
  },
  {
   "cell_type": "code",
   "execution_count": 17,
   "metadata": {},
   "outputs": [
    {
     "data": {
      "text/plain": [
       "{'兰州': (103.73, 36.03),\n",
       " '嘉峪关': (98.17, 39.47),\n",
       " '西宁': (101.74, 36.56),\n",
       " '成都': (104.06, 30.67),\n",
       " '石家庄': (114.48, 38.03),\n",
       " '拉萨': (102.73, 25.04),\n",
       " '贵阳': (106.71, 26.57),\n",
       " '武汉': (114.31, 30.52),\n",
       " '郑州': (113.65, 34.76),\n",
       " '济南': (117.0, 36.65),\n",
       " '南京': (118.78, 32.04),\n",
       " '合肥': (117.27, 31.86),\n",
       " '杭州': (120.19, 30.26),\n",
       " '南昌': (115.89, 28.68),\n",
       " '福州': (119.3, 26.08),\n",
       " '广州': (113.23, 23.16),\n",
       " '长沙': (113.0, 28.21),\n",
       " '沈阳': (123.38, 41.8),\n",
       " '长春': (125.35, 43.88),\n",
       " '哈尔滨': (126.63, 45.75),\n",
       " '太原': (112.53, 37.87),\n",
       " '西安': (108.95, 34.27),\n",
       " '北京': (116.46, 39.92),\n",
       " '上海': (121.48, 31.22),\n",
       " '重庆': (106.54, 29.59),\n",
       " '天津': (117.2, 39.13),\n",
       " '呼和浩特': (111.65, 40.82),\n",
       " '南宁': (108.33, 22.84),\n",
       " '银川': (106.27, 38.47),\n",
       " '乌鲁木齐': (87.68, 43.77),\n",
       " '香港': (114.17, 22.28),\n",
       " '澳门': (113.54, 22.19)}"
      ]
     },
     "execution_count": 17,
     "metadata": {},
     "output_type": "execute_result"
    }
   ],
   "source": [
    "city_info"
   ]
  },
  {
   "cell_type": "markdown",
   "metadata": {},
   "source": [
    "### 计算城市间距离"
   ]
  },
  {
   "cell_type": "code",
   "execution_count": 18,
   "metadata": {},
   "outputs": [],
   "source": [
    "import math\n",
    "\n",
    "def geo_distance(origin, destination):\n",
    "    \"\"\"\n",
    "    Calculate the Haversine distance.\n",
    "\n",
    "    Parameters\n",
    "    ----------\n",
    "    origin : tuple of float\n",
    "        (lat, long)\n",
    "    destination : tuple of float\n",
    "        (lat, long)\n",
    "\n",
    "    Returns\n",
    "    -------\n",
    "    distance_in_km : float\n",
    "\n",
    "    Examples\n",
    "    --------\n",
    "    >>> origin = (48.1372, 11.5756)  # Munich\n",
    "    >>> destination = (52.5186, 13.4083)  # Berlin\n",
    "    >>> round(distance(origin, destination), 1)\n",
    "    504.2\n",
    "    \"\"\"\n",
    "    lat1, lon1 = origin\n",
    "    lat2, lon2 = destination\n",
    "    radius = 6371 # km\n",
    "    \n",
    "    dlat = math.radians(lat2 - lat1)\n",
    "    dlon = math.radians(lon2 - lon1)\n",
    "    a = (math.sin(dlat / 2) * math.sin(dlat / 2) +\n",
    "         math.cos(math.radians(lat1)) * math.cos(math.radians(lat2)) *\n",
    "         math.sin(dlon / 2) * math.sin(dlon / 2)\n",
    "        )\n",
    "    c = 2 * math.atan2(math.sqrt(a), math.sqrt(1 - a))\n",
    "    d = radius * c\n",
    "    \n",
    "    return d"
   ]
  },
  {
   "cell_type": "code",
   "execution_count": 19,
   "metadata": {},
   "outputs": [],
   "source": [
    "def get_city_distance(city1, city2):\n",
    "    return geo_distance(city_info[city1], city_info[city2])"
   ]
  },
  {
   "cell_type": "code",
   "execution_count": 20,
   "metadata": {},
   "outputs": [
    {
     "data": {
      "text/plain": [
       "153.5185697155768"
      ]
     },
     "execution_count": 20,
     "metadata": {},
     "output_type": "execute_result"
    }
   ],
   "source": [
    "get_city_distance(\"杭州\",\"上海\")"
   ]
  },
  {
   "cell_type": "markdown",
   "metadata": {},
   "source": [
    "### 画图"
   ]
  },
  {
   "cell_type": "code",
   "execution_count": 21,
   "metadata": {},
   "outputs": [],
   "source": [
    "import networkx as nx\n",
    "import matplotlib.pyplot as plt\n",
    "\n",
    "# 在页面内绘制图形\n",
    "%matplotlib inline\n",
    "\n",
    "# 设置字体，解决中文乱码问题\n",
    "plt.rcParams['font.sans-serif'] = ['SimHei']\n",
    "plt.rcParams['axes.unicode_minus'] = False"
   ]
  },
  {
   "cell_type": "code",
   "execution_count": 22,
   "metadata": {},
   "outputs": [
    {
     "data": {
      "text/plain": [
       "dict_keys(['兰州', '嘉峪关', '西宁', '成都', '石家庄', '拉萨', '贵阳', '武汉', '郑州', '济南', '南京', '合肥', '杭州', '南昌', '福州', '广州', '长沙', '沈阳', '长春', '哈尔滨', '太原', '西安', '北京', '上海', '重庆', '天津', '呼和浩特', '南宁', '银川', '乌鲁木齐', '香港', '澳门'])"
      ]
     },
     "execution_count": 22,
     "metadata": {},
     "output_type": "execute_result"
    }
   ],
   "source": [
    "city_info.keys()"
   ]
  },
  {
   "cell_type": "code",
   "execution_count": 23,
   "metadata": {},
   "outputs": [
    {
     "name": "stderr",
     "output_type": "stream",
     "text": [
      "E:\\ProgramData\\lib\\site-packages\\networkx\\drawing\\nx_pylab.py:611: MatplotlibDeprecationWarning: isinstance(..., numbers.Number)\n",
      "  if cb.is_numlike(alpha):\n"
     ]
    },
    {
     "data": {
      "image/png": "[encoded data removed]",
      "text/plain": [
       "<Figure size 432x288 with 1 Axes>"
      ]
     },
     "metadata": {},
     "output_type": "display_data"
    }
   ],
   "source": [
    "G = nx.dodecahedral_graph()\n",
    "nx.draw(G)"
   ]
  },
  {
   "cell_type": "code",
   "execution_count": 24,
   "metadata": {},
   "outputs": [
    {
     "data": {
      "image/png": "[encoded data removed]",
      "text/plain": [
       "<Figure size 432x288 with 1 Axes>"
      ]
     },
     "metadata": {},
     "output_type": "display_data"
    }
   ],
   "source": [
    "nx.draw(G, pos=nx.spring_layout(G))  # use spring layout"
   ]
  },
  {
   "cell_type": "code",
   "execution_count": 25,
   "metadata": {},
   "outputs": [],
   "source": [
    "city_graph = nx.Graph()\n",
    "city_graph.add_nodes_from(list(city_info.keys()))"
   ]
  },
  {
   "cell_type": "code",
   "execution_count": 26,
   "metadata": {},
   "outputs": [
    {
     "data": {
      "image/png": "[encoded data removed]",
      "text/plain": [
       "<Figure size 432x288 with 1 Axes>"
      ]
     },
     "metadata": {},
     "output_type": "display_data"
    }
   ],
   "source": [
    "nx.draw(city_graph, city_info, with_labels=True, node_size=10)"
   ]
  },
  {
   "cell_type": "markdown",
   "metadata": {},
   "source": [
    "### 建立连边"
   ]
  },
  {
   "cell_type": "code",
   "execution_count": 27,
   "metadata": {},
   "outputs": [],
   "source": [
    "# 连接阈值，两座城市距离小于阈值则增加一条连边\n",
    "threshold = 700"
   ]
  },
  {
   "cell_type": "code",
   "execution_count": 28,
   "metadata": {},
   "outputs": [],
   "source": [
    "# 带默认值工厂的字典，key不存在的时候会生成默认值并返回\n",
    "from collections import defaultdict"
   ]
  },
  {
   "cell_type": "code",
   "execution_count": 29,
   "metadata": {},
   "outputs": [],
   "source": [
    "def build_connection(city_info):\n",
    "    # 建立字典，key不存在时返回空列表\n",
    "    cities_connection = defaultdict(list)\n",
    "    # 将城市名转为列表，两层遍历\n",
    "    cities = list(city_info.keys())\n",
    "    for i in range(len(cities)):\n",
    "        for j in range(i+1, len(cities)):\n",
    "            c1 = cities[i]\n",
    "            c2 = cities[j]\n",
    "            # 找到距离小于阈值的城市，添加两条连接记录\n",
    "            if get_city_distance(c1, c2) < threshold:\n",
    "                cities_connection[c1].append(c2)\n",
    "                cities_connection[c2].append(c1)\n",
    "    return cities_connection"
   ]
  },
  {
   "cell_type": "code",
   "execution_count": 30,
   "metadata": {},
   "outputs": [],
   "source": [
    "cities_connection = build_connection(city_info)"
   ]
  },
  {
   "cell_type": "code",
   "execution_count": 31,
   "metadata": {},
   "outputs": [
    {
     "data": {
      "text/plain": [
       "defaultdict(list,\n",
       "            {'兰州': ['嘉峪关', '西宁', '成都', '拉萨', '贵阳', '西安', '重庆', '南宁', '银川'],\n",
       "             '嘉峪关': ['兰州', '西宁', '成都', '拉萨'],\n",
       "             '西宁': ['兰州', '嘉峪关', '成都', '拉萨', '贵阳', '重庆', '银川'],\n",
       "             '成都': ['兰州', '嘉峪关', '西宁', '拉萨', '贵阳', '西安', '重庆', '南宁', '银川'],\n",
       "             '拉萨': ['兰州', '嘉峪关', '西宁', '成都', '贵阳', '重庆', '南宁', '银川'],\n",
       "             '贵阳': ['兰州', '西宁', '成都', '拉萨', '西安', '重庆', '南宁', '银川'],\n",
       "             '西安': ['兰州',\n",
       "              '成都',\n",
       "              '石家庄',\n",
       "              '贵阳',\n",
       "              '武汉',\n",
       "              '郑州',\n",
       "              '广州',\n",
       "              '长沙',\n",
       "              '太原',\n",
       "              '重庆',\n",
       "              '呼和浩特',\n",
       "              '南宁',\n",
       "              '银川'],\n",
       "             '重庆': ['兰州', '西宁', '成都', '拉萨', '贵阳', '西安', '呼和浩特', '南宁', '银川'],\n",
       "             '南宁': ['兰州',\n",
       "              '成都',\n",
       "              '拉萨',\n",
       "              '贵阳',\n",
       "              '广州',\n",
       "              '长沙',\n",
       "              '西安',\n",
       "              '重庆',\n",
       "              '银川',\n",
       "              '香港',\n",
       "              '澳门'],\n",
       "             '银川': ['兰州',\n",
       "              '西宁',\n",
       "              '成都',\n",
       "              '拉萨',\n",
       "              '贵阳',\n",
       "              '太原',\n",
       "              '西安',\n",
       "              '重庆',\n",
       "              '呼和浩特',\n",
       "              '南宁'],\n",
       "             '石家庄': ['武汉',\n",
       "              '郑州',\n",
       "              '济南',\n",
       "              '南京',\n",
       "              '合肥',\n",
       "              '南昌',\n",
       "              '广州',\n",
       "              '长沙',\n",
       "              '太原',\n",
       "              '西安',\n",
       "              '北京',\n",
       "              '天津',\n",
       "              '呼和浩特'],\n",
       "             '武汉': ['石家庄',\n",
       "              '郑州',\n",
       "              '济南',\n",
       "              '南京',\n",
       "              '合肥',\n",
       "              '杭州',\n",
       "              '南昌',\n",
       "              '福州',\n",
       "              '广州',\n",
       "              '长沙',\n",
       "              '太原',\n",
       "              '西安',\n",
       "              '北京',\n",
       "              '天津',\n",
       "              '呼和浩特',\n",
       "              '香港',\n",
       "              '澳门'],\n",
       "             '郑州': ['石家庄',\n",
       "              '武汉',\n",
       "              '济南',\n",
       "              '南京',\n",
       "              '合肥',\n",
       "              '南昌',\n",
       "              '广州',\n",
       "              '长沙',\n",
       "              '太原',\n",
       "              '西安',\n",
       "              '北京',\n",
       "              '天津',\n",
       "              '呼和浩特',\n",
       "              '香港',\n",
       "              '澳门'],\n",
       "             '济南': ['石家庄',\n",
       "              '武汉',\n",
       "              '郑州',\n",
       "              '南京',\n",
       "              '合肥',\n",
       "              '杭州',\n",
       "              '南昌',\n",
       "              '福州',\n",
       "              '长沙',\n",
       "              '太原',\n",
       "              '北京',\n",
       "              '上海',\n",
       "              '天津',\n",
       "              '呼和浩特'],\n",
       "             '南京': ['石家庄',\n",
       "              '武汉',\n",
       "              '郑州',\n",
       "              '济南',\n",
       "              '合肥',\n",
       "              '杭州',\n",
       "              '南昌',\n",
       "              '福州',\n",
       "              '长沙',\n",
       "              '北京',\n",
       "              '上海',\n",
       "              '天津'],\n",
       "             '合肥': ['石家庄',\n",
       "              '武汉',\n",
       "              '郑州',\n",
       "              '济南',\n",
       "              '南京',\n",
       "              '杭州',\n",
       "              '南昌',\n",
       "              '福州',\n",
       "              '广州',\n",
       "              '长沙',\n",
       "              '太原',\n",
       "              '北京',\n",
       "              '上海',\n",
       "              '天津',\n",
       "              '香港',\n",
       "              '澳门'],\n",
       "             '南昌': ['石家庄',\n",
       "              '武汉',\n",
       "              '郑州',\n",
       "              '济南',\n",
       "              '南京',\n",
       "              '合肥',\n",
       "              '杭州',\n",
       "              '福州',\n",
       "              '广州',\n",
       "              '长沙',\n",
       "              '太原',\n",
       "              '北京',\n",
       "              '上海',\n",
       "              '天津',\n",
       "              '香港',\n",
       "              '澳门'],\n",
       "             '广州': ['石家庄',\n",
       "              '武汉',\n",
       "              '郑州',\n",
       "              '合肥',\n",
       "              '南昌',\n",
       "              '福州',\n",
       "              '长沙',\n",
       "              '太原',\n",
       "              '西安',\n",
       "              '南宁',\n",
       "              '香港',\n",
       "              '澳门'],\n",
       "             '长沙': ['石家庄',\n",
       "              '武汉',\n",
       "              '郑州',\n",
       "              '济南',\n",
       "              '南京',\n",
       "              '合肥',\n",
       "              '南昌',\n",
       "              '广州',\n",
       "              '太原',\n",
       "              '西安',\n",
       "              '北京',\n",
       "              '天津',\n",
       "              '呼和浩特',\n",
       "              '南宁',\n",
       "              '香港',\n",
       "              '澳门'],\n",
       "             '太原': ['石家庄',\n",
       "              '武汉',\n",
       "              '郑州',\n",
       "              '济南',\n",
       "              '合肥',\n",
       "              '南昌',\n",
       "              '广州',\n",
       "              '长沙',\n",
       "              '西安',\n",
       "              '北京',\n",
       "              '天津',\n",
       "              '呼和浩特',\n",
       "              '银川',\n",
       "              '澳门'],\n",
       "             '北京': ['石家庄',\n",
       "              '武汉',\n",
       "              '郑州',\n",
       "              '济南',\n",
       "              '南京',\n",
       "              '合肥',\n",
       "              '杭州',\n",
       "              '南昌',\n",
       "              '长沙',\n",
       "              '太原',\n",
       "              '天津',\n",
       "              '呼和浩特'],\n",
       "             '天津': ['石家庄',\n",
       "              '武汉',\n",
       "              '郑州',\n",
       "              '济南',\n",
       "              '南京',\n",
       "              '合肥',\n",
       "              '杭州',\n",
       "              '南昌',\n",
       "              '长沙',\n",
       "              '太原',\n",
       "              '北京',\n",
       "              '上海',\n",
       "              '呼和浩特'],\n",
       "             '呼和浩特': ['石家庄',\n",
       "              '武汉',\n",
       "              '郑州',\n",
       "              '济南',\n",
       "              '长沙',\n",
       "              '太原',\n",
       "              '西安',\n",
       "              '北京',\n",
       "              '重庆',\n",
       "              '天津',\n",
       "              '银川'],\n",
       "             '杭州': ['武汉', '济南', '南京', '合肥', '南昌', '福州', '北京', '上海', '天津'],\n",
       "             '福州': ['武汉',\n",
       "              '济南',\n",
       "              '南京',\n",
       "              '合肥',\n",
       "              '杭州',\n",
       "              '南昌',\n",
       "              '广州',\n",
       "              '上海',\n",
       "              '香港',\n",
       "              '澳门'],\n",
       "             '香港': ['武汉', '郑州', '合肥', '南昌', '福州', '广州', '长沙', '南宁', '澳门'],\n",
       "             '澳门': ['武汉',\n",
       "              '郑州',\n",
       "              '合肥',\n",
       "              '南昌',\n",
       "              '福州',\n",
       "              '广州',\n",
       "              '长沙',\n",
       "              '太原',\n",
       "              '南宁',\n",
       "              '香港'],\n",
       "             '上海': ['济南', '南京', '合肥', '杭州', '南昌', '福州', '沈阳', '天津'],\n",
       "             '沈阳': ['长春', '哈尔滨', '上海'],\n",
       "             '长春': ['沈阳', '哈尔滨'],\n",
       "             '哈尔滨': ['沈阳', '长春']})"
      ]
     },
     "execution_count": 31,
     "metadata": {},
     "output_type": "execute_result"
    }
   ],
   "source": [
    "cities_connection"
   ]
  },
  {
   "cell_type": "markdown",
   "metadata": {},
   "source": [
    "### 画出连接图"
   ]
  },
  {
   "cell_type": "code",
   "execution_count": 32,
   "metadata": {},
   "outputs": [],
   "source": [
    "cities_connection_graph = nx.Graph(cities_connection)"
   ]
  },
  {
   "cell_type": "code",
   "execution_count": 33,
   "metadata": {},
   "outputs": [
    {
     "data": {
      "image/png": "[encoded data removed]",
      "text/plain": [
       "<Figure size 432x288 with 1 Axes>"
      ]
     },
     "metadata": {},
     "output_type": "display_data"
    }
   ],
   "source": [
    "nx.draw(cities_connection_graph, city_info, with_labels=True, node_size=10)"
   ]
  },
  {
   "cell_type": "markdown",
   "metadata": {},
   "source": [
    "### BFS 1 version"
   ]
  },
  {
   "cell_type": "code",
   "execution_count": 34,
   "metadata": {},
   "outputs": [],
   "source": [
    "l = [\"s\"]"
   ]
  },
  {
   "cell_type": "code",
   "execution_count": 35,
   "metadata": {},
   "outputs": [
    {
     "name": "stdout",
     "output_type": "stream",
     "text": [
      "['s', 'a']\n"
     ]
    }
   ],
   "source": [
    "print(l+[\"a\"])"
   ]
  },
  {
   "cell_type": "code",
   "execution_count": 36,
   "metadata": {},
   "outputs": [
    {
     "name": "stdout",
     "output_type": "stream",
     "text": [
      "None\n"
     ]
    }
   ],
   "source": [
    "print(l.append(\"a\"))"
   ]
  },
  {
   "cell_type": "code",
   "execution_count": 37,
   "metadata": {},
   "outputs": [],
   "source": [
    "def bfs_1(graph, start, destination):\n",
    "    pathes = [[start]] # list 存储待搜索路径（相当于bfs中的队列queue）\n",
    "    visited = set() # set 记录已搜索的节点\n",
    "    \n",
    "    while pathes:\n",
    "        path = pathes.pop(0) # 取出第一条路径，相当于队首元素\n",
    "        frontier = path[-1]  # 取出即将探索的节点\n",
    "        \n",
    "        # 如果该点已经探索过，则不用再探索，跳过\n",
    "        if frontier in visited:\n",
    "            continue\n",
    "        # 取出该点的后继，即有连接关系的点\n",
    "        successors = graph[frontier]\n",
    "        \n",
    "        # 遍历后继节点\n",
    "        for city in successors:\n",
    "            # 跳过已经在路径中的点，避免成环\n",
    "            if city in path:\n",
    "                continue\n",
    "            # 这里不能直接用append，append会拼入原列表，并返回None；\n",
    "            # 使用加号为列表拼接，会返回新列表\n",
    "            new_path = path + [city]\n",
    "            # 加入队列list尾部\n",
    "            pathes.append(new_path) \n",
    "            # 如果已经找到终点，直接返回该路径\n",
    "            if city == destination:\n",
    "                return new_path\n",
    "            \n",
    "        # 将节点加入已访问记录\n",
    "        visited.add(frontier)\n",
    "        \n",
    "    # 遍历结束，没有找到路径，返回空列表\n",
    "    return []"
   ]
  },
  {
   "cell_type": "code",
   "execution_count": 38,
   "metadata": {},
   "outputs": [
    {
     "data": {
      "text/plain": [
       "['上海', '合肥', '香港']"
      ]
     },
     "execution_count": 38,
     "metadata": {},
     "output_type": "execute_result"
    }
   ],
   "source": [
    "bfs_1(cities_connection,\"上海\",\"香港\")"
   ]
  },
  {
   "cell_type": "markdown",
   "metadata": {},
   "source": [
    "### DFS"
   ]
  },
  {
   "cell_type": "code",
   "execution_count": 39,
   "metadata": {},
   "outputs": [],
   "source": [
    "def dfs(graph, start, destination):\n",
    "    pathes = [[start]] # list 存储待搜索路径（相当于dfs中的栈stack）\n",
    "    visited = set()\n",
    "    \n",
    "    while pathes:\n",
    "        path = pathes.pop() # 取出第一条路径，与bfs不同，取最后一条，相当于栈顶元素\n",
    "        frontier = path[-1]\n",
    "        \n",
    "        if frontier in visited:\n",
    "            continue\n",
    "        successors = graph[frontier]\n",
    "        \n",
    "        for city in successors:\n",
    "            if city in path:\n",
    "                continue\n",
    "            new_path = path + [city]\n",
    "            pathes.append(new_path)\n",
    "            if city == destination:\n",
    "                return new_path\n",
    "            \n",
    "        visited.add(frontier)"
   ]
  },
  {
   "cell_type": "code",
   "execution_count": 40,
   "metadata": {},
   "outputs": [
    {
     "data": {
      "text/plain": [
       "['上海', '天津', '呼和浩特', '银川', '南宁', '香港']"
      ]
     },
     "execution_count": 40,
     "metadata": {},
     "output_type": "execute_result"
    }
   ],
   "source": [
    "dfs(cities_connection,\"上海\",\"香港\")"
   ]
  },
  {
   "cell_type": "code",
   "execution_count": 41,
   "metadata": {},
   "outputs": [
    {
     "name": "stdout",
     "output_type": "stream",
     "text": [
      "上海 -> 天津\n",
      "天津 -> 呼和浩特\n",
      "呼和浩特 -> 银川\n",
      "银川 -> 南宁\n",
      "南宁 -> ['兰州', '成都', '拉萨', '贵阳', '广州', '长沙', '西安', '重庆', '银川', '香港', '澳门']\n"
     ]
    }
   ],
   "source": [
    "print(\"上海 ->\",cities_connection[\"上海\"][-1])\n",
    "print(\"天津 ->\",cities_connection[\"天津\"][-1])\n",
    "print(\"呼和浩特 ->\",cities_connection[\"呼和浩特\"][-1])\n",
    "print(\"银川 ->\",cities_connection[\"银川\"][-1])\n",
    "print(\"南宁 ->\",cities_connection[\"南宁\"])"
   ]
  },
  {
   "cell_type": "markdown",
   "metadata": {},
   "source": [
    "### Optimal searching using variation of BFS"
   ]
  },
  {
   "cell_type": "code",
   "execution_count": 42,
   "metadata": {},
   "outputs": [],
   "source": [
    "# 按总距离给路径排序\n",
    "def sort_by_distance(pathes):\n",
    "    # 获取路径总距离\n",
    "    def get_distance_of_path(path):\n",
    "        distance = 0\n",
    "        # 遍历前n-1个节点，省去了获取path[i + 1]时对数组下标越界的判断\n",
    "        for i,_ in enumerate(path[:-1]):\n",
    "            # 获取第 i 和 i + 1 个节点间的距离，加入总和\n",
    "            distance += get_city_distance(path[i], path[i + 1])\n",
    "        return distance\n",
    "    # 调用排序，排序依据为路径总距离\n",
    "    return sorted(pathes, key=get_distance_of_path)"
   ]
  },
  {
   "cell_type": "code",
   "execution_count": 43,
   "metadata": {},
   "outputs": [],
   "source": [
    "def get_distance_of_path(path):\n",
    "    distance = 0\n",
    "    for i,_ in enumerate(path[:-1]):\n",
    "        distance += get_city_distance(path[i],path[i+1])\n",
    "    return distance"
   ]
  },
  {
   "cell_type": "code",
   "execution_count": 44,
   "metadata": {},
   "outputs": [
    {
     "data": {
      "text/plain": [
       "784.4063058191027"
      ]
     },
     "execution_count": 44,
     "metadata": {},
     "output_type": "execute_result"
    }
   ],
   "source": [
    "get_distance_of_path([\"北京\",\"南京\",\"上海\"])"
   ]
  },
  {
   "cell_type": "code",
   "execution_count": 45,
   "metadata": {},
   "outputs": [
    {
     "data": {
      "text/plain": [
       "732.5085345714293"
      ]
     },
     "execution_count": 45,
     "metadata": {},
     "output_type": "execute_result"
    }
   ],
   "source": [
    "get_distance_of_path([\"北京\",\"天津\",\"上海\"])"
   ]
  },
  {
   "cell_type": "code",
   "execution_count": 58,
   "metadata": {},
   "outputs": [],
   "source": [
    "def bfs_2(graph, start, destination, search_strategy):\n",
    "    pathes = [[start]]\n",
    "    visited = set()\n",
    "    while pathes:\n",
    "        path = pathes.pop(0)\n",
    "        frontier = path[-1]\n",
    "        if frontier in visited:\n",
    "            continue\n",
    "        # 判断是否已经找到终点，是则直接返回\n",
    "        if frontier == destination:#\n",
    "            return path            #\n",
    "        \n",
    "        successors = graph[frontier]\n",
    "        \n",
    "        for city in successors:\n",
    "            # check loop\n",
    "            if city in path:\n",
    "                continue\n",
    "            new_path = path + [city]\n",
    "            pathes.append(new_path)\n",
    "        # 使用查找策略对路径进行排序\n",
    "        pathes = search_strategy(pathes)\n",
    "        visited.add(frontier)\n",
    "    return []"
   ]
  },
  {
   "cell_type": "code",
   "execution_count": 62,
   "metadata": {
    "scrolled": true
   },
   "outputs": [
    {
     "data": {
      "text/plain": [
       "['北京', '济南', '上海']"
      ]
     },
     "execution_count": 62,
     "metadata": {},
     "output_type": "execute_result"
    }
   ],
   "source": [
    "bfs_2(cities_connection,\"北京\",\"上海\",search_strategy=lambda x:x)"
   ]
  },
  {
   "cell_type": "code",
   "execution_count": 63,
   "metadata": {
    "scrolled": true
   },
   "outputs": [
    {
     "data": {
      "text/plain": [
       "['北京', '天津', '上海']"
      ]
     },
     "execution_count": 63,
     "metadata": {},
     "output_type": "execute_result"
    }
   ],
   "source": [
    "bfs_2(cities_connection,\"北京\",\"上海\",search_strategy=sort_by_distance)"
   ]
  },
  {
   "cell_type": "code",
   "execution_count": 61,
   "metadata": {},
   "outputs": [],
   "source": [
    "def bfs_3(graph, start, destination, search_strategy):\n",
    "    '''\n",
    "    在末尾判断是否找到路径，会有漏掉的情况\n",
    "    '''\n",
    "    pathes = [[start]]\n",
    "    visited = set()\n",
    "    while pathes:\n",
    "        path = pathes.pop(0)\n",
    "        frontier = path[-1]\n",
    "        print(\"before=>\",pathes)\n",
    "        if frontier in visited:\n",
    "            continue\n",
    "        \n",
    "        print(\"-\"*30)\n",
    "        print(\"after=>\",pathes)\n",
    "        successors = graph[frontier]\n",
    "        \n",
    "        for city in successors:\n",
    "            # check loop\n",
    "            if city in path:\n",
    "                continue\n",
    "            new_path = path + [city]\n",
    "            pathes.append(new_path)\n",
    "        # 使用查找策略对路径进行排序\n",
    "        pathes = search_strategy(pathes)\n",
    "        \n",
    "        print(\"current\",pathes[0][-1])\n",
    "        \n",
    "        visited.add(frontier)\n",
    "        \n",
    "        print(\"visited===\",visited)\n",
    "        print(\"=\"*30)\n",
    "        \n",
    "        # 判断是否已经找到终点，是则直接返回\n",
    "        if pathes and (destination == pathes[0][-1]): #\n",
    "            return pathes[0]                          #\n",
    "    return []"
   ]
  },
  {
   "cell_type": "markdown",
   "metadata": {},
   "source": [
    "### 使用visited集合时，不能在循环末尾判断是否找到终点的原因：  \n",
    "  \n",
    "假设使用lambda x:x 做为排序方法，现有 pathes 为 [T,A,B,C,D,E,F,G], 所有路径末节点均不等于 destination，  \n",
    "进入 while 循环，取出 T，T 的末节点与 destination 有连接，  \n",
    "生成新路径为 **P\\***，其末节点为 destination，加入列表后，pathes为 [A,B,C,D,E,F,G,**P\\***]，  \n",
    "此时 (destination == pathes[0][-1]) A的末元素不等于 destination，不返回。  \n",
    "  \n",
    "进入下一轮 while 循环，取出 pathes[0]，判断末元素是否已访问，已访问则跳过当前循环，  \n",
    "当 A, B, C, D, E, F, G 的末元素都已访问时，将直接跳过所有路径，最后取出 **P\\*** ，  \n",
    "探索终点所连所有节点，生成 P1, P2, P3 加入列表，pathes 变成 [P1, P2, P3]。  \n",
    "***此时，destination 被加入 visited***  \n",
    "之后进入 while 循环时，都会先判断当前路径末节点是否已探索，  \n",
    "即使之后有末节点为 destination 的路径，也会因为 destination 已经存在于 visited 中而被跳过，无法到达循环末尾的判断，  \n",
    "导致最终找不到合适的路线，返回空列表。  \n",
    "  \n",
    "但是在取出 **P\\*** 后添加判断(if frontier == destination)，则会直接返回该路径，避免了上述问题。"
   ]
  },
  {
   "cell_type": "markdown",
   "metadata": {},
   "source": [
    "## Machine Learning"
   ]
  },
  {
   "cell_type": "code",
   "execution_count": 64,
   "metadata": {},
   "outputs": [],
   "source": [
    "from sklearn.datasets import load_boston\n",
    "import random"
   ]
  },
  {
   "cell_type": "markdown",
   "metadata": {},
   "source": [
    "读入数据"
   ]
  },
  {
   "cell_type": "code",
   "execution_count": 65,
   "metadata": {},
   "outputs": [],
   "source": [
    "dataset = load_boston()"
   ]
  },
  {
   "cell_type": "code",
   "execution_count": 67,
   "metadata": {},
   "outputs": [
    {
     "data": {
      "text/plain": [
       "sklearn.utils.Bunch"
      ]
     },
     "execution_count": 67,
     "metadata": {},
     "output_type": "execute_result"
    }
   ],
   "source": [
    "type(dataset)"
   ]
  },
  {
   "cell_type": "code",
   "execution_count": 69,
   "metadata": {},
   "outputs": [],
   "source": [
    "x, y = dataset['data'],dataset['target']"
   ]
  },
  {
   "cell_type": "code",
   "execution_count": 73,
   "metadata": {},
   "outputs": [
    {
     "name": "stdout",
     "output_type": "stream",
     "text": [
      "(506, 13)\n",
      "<class 'numpy.ndarray'>\n"
     ]
    }
   ],
   "source": [
    "# 数据格式、类型\n",
    "print(x.shape)\n",
    "print(type(x))"
   ]
  },
  {
   "cell_type": "code",
   "execution_count": 74,
   "metadata": {},
   "outputs": [
    {
     "name": "stdout",
     "output_type": "stream",
     "text": [
      "(506,)\n",
      "<class 'numpy.ndarray'>\n"
     ]
    }
   ],
   "source": [
    "# 标签格式、类型\n",
    "print(y.shape)\n",
    "print(type(y))"
   ]
  },
  {
   "cell_type": "code",
   "execution_count": 75,
   "metadata": {},
   "outputs": [
    {
     "name": "stdout",
     "output_type": "stream",
     "text": [
      "(13,)\n",
      "<class 'numpy.ndarray'>\n",
      "[2.7310e-02 0.0000e+00 7.0700e+00 0.0000e+00 4.6900e-01 6.4210e+00\n",
      " 7.8900e+01 4.9671e+00 2.0000e+00 2.4200e+02 1.7800e+01 3.9690e+02\n",
      " 9.1400e+00]\n"
     ]
    }
   ],
   "source": [
    "# 单条数据\n",
    "print(x[1].shape)\n",
    "print(type(x[1]))\n",
    "print(x[1])"
   ]
  },
  {
   "cell_type": "code",
   "execution_count": 77,
   "metadata": {},
   "outputs": [
    {
     "data": {
      "text/plain": [
       "array(['CRIM', 'ZN', 'INDUS', 'CHAS', 'NOX', 'RM', 'AGE', 'DIS', 'RAD',\n",
       "       'TAX', 'PTRATIO', 'B', 'LSTAT'], dtype='<U7')"
      ]
     },
     "execution_count": 77,
     "metadata": {},
     "output_type": "execute_result"
    }
   ],
   "source": [
    "# 列名\n",
    "dataset.feature_names"
   ]
  },
  {
   "cell_type": "code",
   "execution_count": 78,
   "metadata": {},
   "outputs": [
    {
     "data": {
      "text/plain": [
       "\".. _boston_dataset:\\n\\nBoston house prices dataset\\n---------------------------\\n\\n**Data Set Characteristics:**  \\n\\n    :Number of Instances: 506 \\n\\n    :Number of Attributes: 13 numeric/categorical predictive. Median Value (attribute 14) is usually the target.\\n\\n    :Attribute Information (in order):\\n        - CRIM     per capita crime rate by town\\n        - ZN       proportion of residential land zoned for lots over 25,000 sq.ft.\\n        - INDUS    proportion of non-retail business acres per town\\n        - CHAS     Charles River dummy variable (= 1 if tract bounds river; 0 otherwise)\\n        - NOX      nitric oxides concentration (parts per 10 million)\\n        - RM       average number of rooms per dwelling\\n        - AGE      proportion of owner-occupied units built prior to 1940\\n        - DIS      weighted distances to five Boston employment centres\\n        - RAD      index of accessibility to radial highways\\n        - TAX      full-value property-tax rate per $10,000\\n        - PTRATIO  pupil-teacher ratio by town\\n        - B        1000(Bk - 0.63)^2 where Bk is the proportion of blacks by town\\n        - LSTAT    % lower status of the population\\n        - MEDV     Median value of owner-occupied homes in $1000's\\n\\n    :Missing Attribute Values: None\\n\\n    :Creator: Harrison, D. and Rubinfeld, D.L.\\n\\nThis is a copy of UCI ML housing dataset.\\nhttps://archive.ics.uci.edu/ml/machine-learning-databases/housing/\\n\\n\\nThis dataset was taken from the StatLib library which is maintained at Carnegie Mellon University.\\n\\nThe Boston house-price data of Harrison, D. and Rubinfeld, D.L. 'Hedonic\\nprices and the demand for clean air', J. Environ. Economics & Management,\\nvol.5, 81-102, 1978.   Used in Belsley, Kuh & Welsch, 'Regression diagnostics\\n...', Wiley, 1980.   N.B. Various transformations are used in the table on\\npages 244-261 of the latter.\\n\\nThe Boston house-price data has been used in many machine learning papers that address regression\\nproblems.   \\n     \\n.. topic:: References\\n\\n   - Belsley, Kuh & Welsch, 'Regression diagnostics: Identifying Influential Data and Sources of Collinearity', Wiley, 1980. 244-261.\\n   - Quinlan,R. (1993). Combining Instance-Based and Model-Based Learning. In Proceedings on the Tenth International Conference of Machine Learning, 236-243, University of Massachusetts, Amherst. Morgan Kaufmann.\\n\""
      ]
     },
     "execution_count": 78,
     "metadata": {},
     "output_type": "execute_result"
    }
   ],
   "source": [
    "# 列名描述\n",
    "dataset['DESCR']"
   ]
  },
  {
   "cell_type": "code",
   "execution_count": 79,
   "metadata": {},
   "outputs": [],
   "source": [
    "# 取出第5列，即 RM 列\n",
    "X_rm = x[:,5]"
   ]
  },
  {
   "cell_type": "code",
   "execution_count": 80,
   "metadata": {},
   "outputs": [
    {
     "data": {
      "text/plain": [
       "<matplotlib.collections.PathCollection at 0x2fc88de160>"
      ]
     },
     "execution_count": 80,
     "metadata": {},
     "output_type": "execute_result"
    },
    {
     "data": {
      "image/png": "[encoded data removed]",
      "text/plain": [
       "<Figure size 432x288 with 1 Axes>"
      ]
     },
     "metadata": {
      "needs_background": "light"
     },
     "output_type": "display_data"
    }
   ],
   "source": [
    "# plot the RM with respect to y\n",
    "plt.scatter(X_rm,y)"
   ]
  },
  {
   "cell_type": "markdown",
   "metadata": {},
   "source": [
    "### Gradient Descent"
   ]
  },
  {
   "cell_type": "markdown",
   "metadata": {},
   "source": [
    "### Assume that the target funciton is a linear function\n",
    "$$y = k * rm + b$$"
   ]
  },
  {
   "cell_type": "code",
   "execution_count": 90,
   "metadata": {},
   "outputs": [],
   "source": [
    "#define target function\n",
    "def price(rm, k, b):\n",
    "    return k * rm + b"
   ]
  },
  {
   "cell_type": "markdown",
   "metadata": {},
   "source": [
    "### Define mean square loss\n",
    "$$loss = \\frac{1}{n}\\sum(y_i - \\hat{y_i})^2$$\n",
    "$$loss = \\frac{1}{n}\\sum(y_i - (k * x_i + b_i))^2$$"
   ]
  },
  {
   "cell_type": "code",
   "execution_count": 91,
   "metadata": {},
   "outputs": [],
   "source": [
    "# define loss function \n",
    "def loss(y, y_hat):\n",
    "    return sum((y_i - y_hat_i)**2 for y_i, y_hat_i in zip(list(y),list(y_hat)))/len(list(y))"
   ]
  },
  {
   "cell_type": "markdown",
   "metadata": {},
   "source": [
    "zip"
   ]
  },
  {
   "cell_type": "code",
   "execution_count": 97,
   "metadata": {},
   "outputs": [
    {
     "name": "stdout",
     "output_type": "stream",
     "text": [
      "<zip object at 0x0000002FC85A6EC8>\n"
     ]
    }
   ],
   "source": [
    "# zip 将两个列表组装成一个 zip 对象\n",
    "list_a = [1,2,3,4]\n",
    "list_b = [5,6,7,8]\n",
    "print(zip(list_a, list_b))"
   ]
  },
  {
   "cell_type": "code",
   "execution_count": 96,
   "metadata": {},
   "outputs": [
    {
     "name": "stdout",
     "output_type": "stream",
     "text": [
      "(1, 5)\n",
      "(2, 6)\n",
      "(3, 7)\n",
      "(4, 8)\n"
     ]
    }
   ],
   "source": [
    "# 遍历 zip 对象，返回的是两个列表中对应位置数据组成的元组\n",
    "for z in zip(list_a, list_b):\n",
    "    print(z)"
   ]
  },
  {
   "cell_type": "code",
   "execution_count": 99,
   "metadata": {},
   "outputs": [
    {
     "name": "stdout",
     "output_type": "stream",
     "text": [
      "a: 1 , b: 5\n",
      "a: 2 , b: 6\n",
      "a: 3 , b: 7\n",
      "a: 4 , b: 8\n"
     ]
    }
   ],
   "source": [
    "# 用两个变量接收元组内容\n",
    "for a, b in zip(list_a, list_b):\n",
    "    print(\"a:\",a,\", b:\",b)"
   ]
  },
  {
   "cell_type": "markdown",
   "metadata": {},
   "source": [
    "### Define partial derivatives\n",
    "$$\\frac{\\partial{loss}}{\\partial{k}} = -\\frac{2}{n}\\sum(y_i - \\hat{y_i})x_i$$"
   ]
  },
  {
   "cell_type": "markdown",
   "metadata": {},
   "source": [
    "$$\\frac{\\partial{loss}}{\\partial{b}} = -\\frac{2}{n}\\sum(y_i - \\hat{y_i})$$"
   ]
  },
  {
   "cell_type": "code",
   "execution_count": 100,
   "metadata": {},
   "outputs": [],
   "source": [
    "# define partial derivative \n",
    "def partial_derivative_k(x, y, y_hat):\n",
    "    n = len(y)\n",
    "    gradient = 0\n",
    "    for x_i, y_i, y_hat_i in zip(list(x), list(y), list(y_hat)):\n",
    "        gradient += (y_i - y_hat_i) * x_i\n",
    "    return -2/n * gradient\n",
    "\n",
    "def partial_derivative_b(y, y_hat):\n",
    "    n = len(y)\n",
    "    gradient = 0\n",
    "    for y_i, y_hat_i in zip(list(y), list(y_hat)):\n",
    "        gradient += (y_i - y_hat_i)\n",
    "    return -2/n * gradient"
   ]
  },
  {
   "cell_type": "code",
   "execution_count": 149,
   "metadata": {},
   "outputs": [
    {
     "name": "stdout",
     "output_type": "stream",
     "text": [
      "-81.05212761145313\n",
      "-82.09115290356954\n"
     ]
    }
   ],
   "source": [
    "#initialized parameters\n",
    "k = random.random() * 200 - 100  # -100 100\n",
    "b = random.random() * 200 - 100  # -100 100\n",
    "print(k)\n",
    "print(b)"
   ]
  },
  {
   "cell_type": "code",
   "execution_count": 150,
   "metadata": {},
   "outputs": [],
   "source": [
    "# 步长\n",
    "learning_rate = 1e-3"
   ]
  },
  {
   "cell_type": "code",
   "execution_count": 151,
   "metadata": {},
   "outputs": [],
   "source": [
    "# 迭代次数\n",
    "iteration_num = 200"
   ]
  },
  {
   "cell_type": "code",
   "execution_count": 152,
   "metadata": {},
   "outputs": [
    {
     "name": "stdout",
     "output_type": "stream",
     "text": [
      "Iteration 0, the loss is 381052.65369650867, parameters k is -81.05212761145313 and b is -82.09115290356954\n",
      "Iteration 1, the loss is 321162.87029627373, parameters k is -73.24567213558554 and b is -80.86313900840425\n",
      "Iteration 2, the loss is 270687.3203884293, parameters k is -66.07900166040665 and b is -79.73570257808322\n",
      "Iteration 3, the loss is 228146.1556893457, parameters k is -59.499682860596195 and b is -78.7006008280451\n",
      "Iteration 4, the loss is 192292.14918448916, parameters k is -53.459579563140544 and b is -77.75026650785632\n",
      "Iteration 5, the loss is 162074.12877534787, parameters k is -47.914500575925814 and b is -76.87775253808063\n",
      "Iteration 6, the loss is 136606.1588881933, parameters k is -42.82387637839847 and b is -76.07668118441174\n",
      "Iteration 7, the loss is 115141.56650734384, parameters k is -38.15046230891409 and b is -75.34119739721993\n",
      "Iteration 8, the loss is 97051.05012501398, parameters k is -33.86006607724892 and b is -74.66592597513733\n",
      "Iteration 9, the loss is 81804.22980328833, parameters k is -29.921297608714966 and b is -74.04593223928467\n",
      "Iteration 10, the loss is 68954.09743069141, parameters k is -26.30533938970113 and b is -73.47668593042604\n",
      "Iteration 11, the loss is 58123.911284092195, parameters k is -22.985735634454137 and b is -72.95402806491802\n",
      "Iteration 12, the loss is 48996.15066911323, parameters k is -19.938198730611955 and b is -72.47414050696622\n",
      "Iteration 13, the loss is 41303.206809854106, parameters k is -17.140431547416526 and b is -72.03351803457555\n",
      "Iteration 14, the loss is 34819.53706230098, parameters k is -14.571964306586173 and b is -71.62894269482429\n",
      "Iteration 15, the loss is 29355.052427699444, parameters k is -12.214004822370745 and b is -71.25746026084155\n",
      "Iteration 16, the loss is 24749.544500205044, parameters k is -10.049301015123413 and b is -70.91635861824375\n",
      "Iteration 17, the loss is 20867.988457385072, parameters k is -8.062014692517991 and b is -70.60314792290205\n",
      "Iteration 18, the loss is 17596.584386076986, parameters k is -6.237605674976334 and b is -70.31554238487216\n",
      "Iteration 19, the loss is 14839.420882714698, parameters k is -4.562725417550221 and b is -70.0514435452148\n",
      "Iteration 20, the loss is 12515.66311115137, parameters k is -3.025119349979566 and b is -69.80892492335778\n",
      "Iteration 21, the loss is 10557.18287711666, parameters k is -1.6135372204322802 and b is -69.58621792267739\n",
      "Iteration 22, the loss is 8906.561237543696, parameters k is -0.31765078698725846 and b is -69.38169889118221\n",
      "Iteration 23, the loss is 7515.405085023331, parameters k is 0.872021745320894 and b is -69.19387724263349\n",
      "Iteration 24, the loss is 6342.928352804258, parameters k is 1.964185094725199 and b is -69.02138455119433\n",
      "Iteration 25, the loss is 5354.756243934987, parameters k is 2.966830587740621 and b is -68.86296453982258\n",
      "Iteration 26, the loss is 4521.91742679237, parameters k is 3.8872946248983555 and b is -68.71746388916104\n",
      "Iteration 27, the loss is 3819.994650062785, parameters k is 4.732312354944161 and b is -68.5838237996813\n",
      "Iteration 28, the loss is 3228.4088748029403, parameters k is 5.508066950189109 and b is -68.46107224534886\n",
      "Iteration 29, the loss is 2729.8159356770147, parameters k is 6.220234843518597 and b is -68.34831686213593\n",
      "Iteration 30, the loss is 2309.598042611063, parameters k is 6.8740272580202735 and b is -68.2447384193534\n",
      "Iteration 31, the loss is 1955.4352146484796, parameters k is 7.474228333067851 and b is -68.14958482603717\n",
      "Iteration 32, the loss is 1656.944081252158, parameters k is 8.025230125796888 and b is -68.06216562853871\n",
      "Iteration 33, the loss is 1405.3734613861507, parameters k is 8.531064744048559 and b is -67.9818469590634\n",
      "Iteration 34, the loss is 1193.3477953273086, parameters k is 8.9954338458708 and b is -67.9080468981994\n",
      "Iteration 35, the loss is 1014.6509071096392, parameters k is 9.421735721399592 and b is -67.8402312175086\n",
      "Iteration 36, the loss is 864.043757922445, parameters k is 9.813090155255436 and b is -67.77790947103186\n",
      "Iteration 37, the loss is 737.1108473342485, parameters k is 10.172361251352012 and b is -67.72063140711337\n",
      "Iteration 38, the loss is 630.1307591149209, parameters k is 10.502178387106746 and b is -67.66798367429254\n",
      "Iteration 39, the loss is 539.9670563027294, parameters k is 10.804955450357381 and b is -67.61958679716317\n",
      "Iteration 40, the loss is 463.97632676459807, parameters k is 11.08290849972471 and b is -67.57509240007485\n",
      "Iteration 41, the loss is 399.9306833181792, parameters k is 11.338071977627306 and b is -67.53418065836496\n",
      "Iteration 42, the loss is 345.95244626489006, parameters k is 11.572313594565092 and b is -67.49655795847374\n",
      "Iteration 43, the loss is 300.45909334848085, parameters k is 11.787347993567362 and b is -67.46195474982382\n",
      "Iteration 44, the loss is 262.11686317534884, parameters k is 11.98474929477642 and b is -67.43012357274806\n",
      "Iteration 45, the loss is 229.80165183603177, parameters k is 12.16596261194484 and b is -67.40083724803783\n",
      "Iteration 46, the loss is 202.56605629027155, parameters k is 12.332314625102804 and b is -67.37388721486606\n",
      "Iteration 47, the loss is 179.6115982896387, parameters k is 12.485023286746664 and b is -67.34908200492524\n",
      "Iteration 48, the loss is 160.2653144952691, parameters k is 12.625206732560711 and b is -67.32624584161671\n",
      "Iteration 49, the loss is 143.96002645697627, parameters k is 12.753891461864274 and b is -67.30521735404301\n",
      "Iteration 50, the loss is 130.21771200656968, parameters k is 12.872019847633537 and b is -67.28584839639427\n",
      "Iteration 51, the loss is 118.63549054587601, parameters k is 12.980457031042505 and b is -67.26800296409148\n",
      "Iteration 52, the loss is 108.87381134443811, parameters k is 13.079997250964613 and b is -67.25155619875675\n",
      "Iteration 53, the loss is 100.64649854996298, parameters k is 13.17136965474255 and b is -67.23639347473078\n",
      "Iteration 54, the loss is 93.71236104993238, parameters k is 13.255243632738749 and b is -67.22240956045452\n",
      "Iteration 55, the loss is 87.86812120127571, parameters k is 13.332233715694919 and b is -67.20950784857946\n",
      "Iteration 56, the loss is 82.94245511174437, parameters k is 13.402904070730429 and b is -67.19759964917381\n",
      "Iteration 57, the loss is 78.79096974523388, parameters k is 13.46777262887293 and b is -67.18660354085382\n",
      "Iteration 58, the loss is 75.29196958921528, parameters k is 13.527314874318847 and b is -67.17644477509279\n",
      "Iteration 59, the loss is 72.34288877092197, parameters k is 13.581967323146536 and b is -67.16705472934974\n",
      "Iteration 60, the loss is 69.85728401863514, parameters k is 13.632130716932892 and b is -67.1583704050167\n",
      "Iteration 61, the loss is 67.76230030734571, parameters k is 13.678172954638379 and b is -67.15033396651147\n",
      "Iteration 62, the loss is 65.99653488628473, parameters k is 13.72043178421058 and b is -67.14289231814395\n",
      "Iteration 63, the loss is 64.50823706561955, parameters k is 13.759217273598466 and b is -67.13599671566017\n",
      "Iteration 64, the loss is 63.25379098344381, parameters k is 13.794814079255659 and b is -67.12960240962204\n",
      "Iteration 65, the loss is 62.196436870642316, parameters k is 13.827483528729417 and b is -67.1236683180138\n",
      "Iteration 66, the loss is 61.3051933235157, parameters k is 13.857465532571876 and b is -67.11815672567994\n",
      "Iteration 67, the loss is 60.55394898722474, parameters k is 13.884980339561356 and b is -67.11303300839545\n",
      "Iteration 68, the loss is 59.920697019917824, parameters k is 13.91023014807521 and b is -67.10826537954986\n",
      "Iteration 69, the loss is 59.38688989346944, parameters k is 13.933400585403248 and b is -67.10382465759169\n",
      "Iteration 70, the loss is 58.93689561479818, parameters k is 13.954662065824627 and b is -67.09968405253183\n",
      "Iteration 71, the loss is 58.55753942519524, parameters k is 13.974171037384075 and b is -67.09581896994405\n",
      "Iteration 72, the loss is 58.237717541148605, parameters k is 13.99207112648908 and b is -67.09220683102849\n",
      "Iteration 73, the loss is 57.96807161226997, parameters k is 14.008494188702068 and b is -67.08882690742182\n",
      "Iteration 74, the loss is 57.74071435204111, parameters k is 14.023561273415323 and b is -67.08566016954542\n",
      "Iteration 75, the loss is 57.548998297390455, parameters k is 14.037383509466359 and b is -67.08268914738218\n",
      "Iteration 76, the loss is 57.38732091756326, parameters k is 14.050062918173037 and b is -67.07989780266327\n",
      "Iteration 77, the loss is 57.25096035844461, parameters k is 14.061693159736715 and b is -67.07727141152974\n",
      "Iteration 78, the loss is 57.13593700666742, parameters k is 14.072360218474222 and b is -67.0747964568106\n",
      "Iteration 79, the loss is 57.0388968148238, parameters k is 14.082143031891922 and b is -67.0724605291292\n",
      "Iteration 80, the loss is 56.9570129670968, parameters k is 14.091114068204256 and b is -67.07025223611438\n",
      "Iteration 81, the loss is 56.887903002330326, parameters k is 14.09933985652199 and b is -67.0681611190522\n",
      "Iteration 82, the loss is 56.829558964743825, parameters k is 14.106881473589093 and b is -67.06617757636839\n",
      "Iteration 83, the loss is 56.78028853444146, parameters k is 14.113794990629284 and b is -67.06429279338185\n",
      "Iteration 84, the loss is 56.738665411770874, parameters k is 14.120131883571455 and b is -67.06249867781516\n",
      "Iteration 85, the loss is 56.70348750089798, parameters k is 14.125939409655231 and b is -67.06078780059018\n",
      "Iteration 86, the loss is 56.673741666614454, parameters k is 14.131260953171966 and b is -67.0591533414759\n",
      "Iteration 87, the loss is 56.648574031117086, parameters k is 14.136136342870676 and b is -67.05758903919063\n",
      "Iteration 88, the loss is 56.62726493991497, parameters k is 14.140602143351105 and b is -67.05608914559342\n",
      "Iteration 89, the loss is 56.60920786291097, parameters k is 14.144691922575765 and b is -67.05464838362994\n",
      "Iteration 90, the loss is 56.5938916120797, parameters k is 14.14843649745816 and b is -67.05326190872469\n",
      "Iteration 91, the loss is 56.58088535439427, parameters k is 14.151864159323909 and b is -67.0519252733374\n",
      "Iteration 92, the loss is 56.569825980611476, parameters k is 14.155000880894292 and b is -67.05063439442414\n",
      "Iteration 93, the loss is 56.560407459591154, parameters k is 14.157870506306551 and b is -67.04938552356519\n",
      "Iteration 94, the loss is 56.55237186603796, parameters k is 14.160494925561144 and b is -67.04817521954105\n",
      "Iteration 95, the loss is 56.54550181861618, parameters k is 14.162894234672248 and b is -67.04700032315596\n",
      "Iteration 96, the loss is 56.539614106737474, parameters k is 14.16508688269319 and b is -67.04585793412471\n",
      "Iteration 97, the loss is 56.5345543191707, parameters k is 14.167089806692474 and b is -67.04474538985384\n",
      "Iteration 98, the loss is 56.530192316994714, parameters k is 14.168918555667885 and b is -67.04366024596159\n",
      "Iteration 99, the loss is 56.52641841816958, parameters k is 14.17058740430528 and b is -67.04260025839451\n",
      "Iteration 100, the loss is 56.52314018186534, parameters k is 14.172109457414312 and b is -67.04156336700964\n",
      "Iteration 101, the loss is 56.52027969827059, parameters k is 14.173496745805169 and b is -67.04054768050216\n",
      "Iteration 102, the loss is 56.51777130442323, parameters k is 14.174760314307775 and b is -67.03955146256834\n",
      "Iteration 103, the loss is 56.51555965909568, parameters k is 14.175910302577407 and b is -67.03857311920252\n",
      "Iteration 104, the loss is 56.51359812029431, parameters k is 14.17695601927792 and b is -67.03761118703508\n",
      "Iteration 105, the loss is 56.511847377803576, parameters k is 14.177906010185328 and b is -67.03666432262625\n",
      "Iteration 106, the loss is 56.510274300684706, parameters k is 14.178768120709963 and b is -67.03573129263728\n",
      "Iteration 107, the loss is 56.5088509659386, parameters k is 14.179549553294672 and b is -67.03481096480719\n",
      "Iteration 108, the loss is 56.50755383985595, parameters k is 14.18025692010896 and b is -67.03390229966895\n",
      "Iteration 109, the loss is 56.50636308805356, parameters k is 14.180896291424606 and b is -67.0330043429446\n",
      "Iteration 110, the loss is 56.50526199396697, parameters k is 14.181473240026675 and b is -67.0321162185636\n",
      "Iteration 111, the loss is 56.5042364687526, parameters k is 14.181992881984844 and b is -67.03123712225342\n",
      "Iteration 112, the loss is 56.50327463822925, parameters k is 14.18245991408333 and b is -67.03036631565529\n",
      "Iteration 113, the loss is 56.50236649474948, parameters k is 14.182878648183264 and b is -67.02950312092233\n",
      "Iteration 114, the loss is 56.50150360379428, parameters k is 14.183253042768909 and b is -67.02864691576028\n",
      "Iteration 115, the loss is 56.50067885668854, parameters k is 14.18358673190852 and b is -67.02779712887472\n",
      "Iteration 116, the loss is 56.499886262188845, parameters k is 14.183883051841725 and b is -67.02695323579142\n",
      "Iteration 117, the loss is 56.499120770830444, parameters k is 14.184145065387963 and b is -67.02611475501918\n",
      "Iteration 118, the loss is 56.49837812688746, parameters k is 14.18437558435451 and b is -67.02528124452716\n",
      "Iteration 119, the loss is 56.49765474360242, parameters k is 14.1845771901081 and b is -67.02445229851098\n",
      "Iteration 120, the loss is 56.49694759802961, parameters k is 14.184752252460571 and b is -67.02362754442373\n",
      "Iteration 121, the loss is 56.4962541424079, parameters k is 14.18490294700677 and b is -67.02280664025042\n",
      "Iteration 122, the loss is 56.495572229465246, parameters k is 14.185031271041527 and b is -67.02198927200571\n",
      "Iteration 123, the loss is 56.49490004946483, parameters k is 14.18513905817217 and b is -67.02117515143678\n",
      "Iteration 124, the loss is 56.494236077146745, parameters k is 14.18522799173346 and b is -67.02036401391439\n",
      "Iteration 125, the loss is 56.493579027010746, parameters k is 14.185299617103116 and b is -67.01955561649689\n",
      "Iteration 126, the loss is 56.49292781562737, parameters k is 14.18535535300804 and b is -67.01874973615274\n",
      "Iteration 127, the loss is 56.49228152987414, parameters k is 14.185396501903933 and b is -67.01794616812886\n",
      "Iteration 128, the loss is 56.4916394001645, parameters k is 14.185424259504243 and b is -67.01714472445255\n",
      "Iteration 129, the loss is 56.491000777884935, parameters k is 14.185439723528201 and b is -67.01634523255633\n",
      "Iteration 130, the loss is 56.49036511637908, parameters k is 14.185443901731885 and b is -67.01554753401538\n",
      "Iteration 131, the loss is 56.489731954920664, parameters k is 14.18543771928112 and b is -67.01475148338848\n",
      "Iteration 132, the loss is 56.48910090520599, parameters k is 14.185422025520129 and b is -67.01395694715394\n",
      "Iteration 133, the loss is 56.48847163996962, parameters k is 14.185397600185459 and b is -67.01316380273278\n",
      "Iteration 134, the loss is 56.487843883389566, parameters k is 14.185365159110654 and b is -67.01237193759185\n",
      "Iteration 135, the loss is 56.48721740300086, parameters k is 14.185325359463402 and b is -67.01158124842063\n",
      "Iteration 136, the loss is 56.48659200288011, parameters k is 14.185278804553466 and b is -67.01079164037527\n",
      "Iteration 137, the loss is 56.485967517901315, parameters k is 14.18522604824659 and b is -67.01000302638484\n",
      "Iteration 138, the loss is 56.48534380889493, parameters k is 14.18516759901667 and b is -67.00921532651418\n",
      "Iteration 139, the loss is 56.484720758567576, parameters k is 14.18510392366582 and b is -67.00842846737919\n",
      "Iteration 140, the loss is 56.48409826806337, parameters k is 14.185035450739559 and b is -67.00764238160987\n",
      "Iteration 141, the loss is 56.48347625406542, parameters k is 14.184962573662133 and b is -67.00685700735747\n",
      "Iteration 142, the loss is 56.48285464635371, parameters k is 14.18488565361485 and b is -67.006072287842\n",
      "Iteration 143, the loss is 56.48223338574586, parameters k is 14.184805022178544 and b is -67.00528817093682\n"
     ]
    },
    {
     "name": "stdout",
     "output_type": "stream",
     "text": [
      "Iteration 144, the loss is 56.481612422362375, parameters k is 14.184720983759464 and b is -67.00450460878726\n",
      "Iteration 145, the loss is 56.48099171416421, parameters k is 14.184633817816362 and b is -67.00372155746051\n",
      "Iteration 146, the loss is 56.480371225720326, parameters k is 14.184543780905056 and b is -67.00293897662425\n",
      "Iteration 147, the loss is 56.47975092716885, parameters k is 14.184451108555425 and b is -67.00215682925153\n",
      "Iteration 148, the loss is 56.479130793341994, parameters k is 14.184356016994586 and b is -67.00137508134988\n",
      "Iteration 149, the loss is 56.47851080302777, parameters k is 14.184258704728844 and b is -67.00059370171265\n",
      "Iteration 150, the loss is 56.47789093834831, parameters k is 14.184159353995991 and b is -66.99981266169067\n",
      "Iteration 151, the loss is 56.47727118423585, parameters k is 14.184058132098588 and b is -66.99903193498267\n",
      "Iteration 152, the loss is 56.47665152799106, parameters k is 14.183955192627977 and b is -66.99825149744285\n",
      "Iteration 153, the loss is 56.47603195891019, parameters k is 14.183850676587973 and b is -66.99747132690423\n",
      "Iteration 154, the loss is 56.47541246797243, parameters k is 14.183744713426478 and b is -66.9966914030165\n",
      "Iteration 155, the loss is 56.474793047574295, parameters k is 14.183637421982535 and b is -66.99591170709708\n",
      "Iteration 156, the loss is 56.474173691307485, parameters k is 14.183528911355776 and b is -66.99513222199451\n",
      "Iteration 157, the loss is 56.47355439377072, parameters k is 14.183419281704609 and b is -66.99435293196291\n",
      "Iteration 158, the loss is 56.47293515041169, parameters k is 14.183308624978993 and b is -66.99357382254682\n",
      "Iteration 159, the loss is 56.472315957393135, parameters k is 14.183197025593161 and b is -66.99279488047544\n",
      "Iteration 160, the loss is 56.47169681148111, parameters k is 14.183084561043204 and b is -66.99201609356552\n",
      "Iteration 161, the loss is 56.47107770994973, parameters k is 14.182971302474046 and b is -66.99123745063227\n",
      "Iteration 162, the loss is 56.47045865050109, parameters k is 14.182857315199952 and b is -66.99045894140748\n",
      "Iteration 163, the loss is 56.46983963119863, parameters k is 14.182742659182376 and b is -66.98968055646446\n",
      "Iteration 164, the loss is 56.469220650409795, parameters k is 14.18262738946865 and b is -66.98890228714903\n",
      "Iteration 165, the loss is 56.468601706758406, parameters k is 14.182511556594715 and b is -66.98812412551622\n",
      "Iteration 166, the loss is 56.467982799084496, parameters k is 14.182395206954858 and b is -66.98734606427215\n",
      "Iteration 167, the loss is 56.467363926410094, parameters k is 14.182278383141131 and b is -66.98656809672066\n",
      "Iteration 168, the loss is 56.4667450879109, parameters k is 14.182161124254968 and b is -66.98579021671436\n",
      "Iteration 169, the loss is 56.46612628289175, parameters k is 14.182043466193253 and b is -66.98501241860963\n",
      "Iteration 170, the loss is 56.46550751076671, parameters k is 14.18192544191095 and b is -66.9842346972253\n",
      "Iteration 171, the loss is 56.46488877104162, parameters k is 14.181807081662207 and b is -66.98345704780482\n",
      "Iteration 172, the loss is 56.46427006329978, parameters k is 14.181688413221698 and b is -66.98267946598139\n",
      "Iteration 173, the loss is 56.46365138718992, parameters k is 14.18156946208783 and b is -66.9819019477461\n",
      "Iteration 174, the loss is 56.46303274241553, parameters k is 14.181450251669293 and b is -66.98112448941849\n",
      "Iteration 175, the loss is 56.462414128726536, parameters k is 14.181330803456321 and b is -66.98034708761975\n",
      "Iteration 176, the loss is 56.46179554591213, parameters k is 14.181211137177916 and b is -66.9795697392479\n",
      "Iteration 177, the loss is 56.46117699379425, parameters k is 14.181091270946196 and b is -66.9787924414552\n",
      "Iteration 178, the loss is 56.4605584722226, parameters k is 14.180971221388898 and b is -66.9780151916272\n",
      "Iteration 179, the loss is 56.45993998107034, parameters k is 14.180851003771036 and b is -66.9772379873637\n",
      "Iteration 180, the loss is 56.45932152023036, parameters k is 14.18073063210658 and b is -66.97646082646116\n",
      "Iteration 181, the loss is 56.45870308961208, parameters k is 14.180610119260983 and b is -66.97568370689665\n",
      "Iteration 182, the loss is 56.45808468913908, parameters k is 14.180489477045311 and b is -66.97490662681291\n",
      "Iteration 183, the loss is 56.45746631874657, parameters k is 14.180368716302654 and b is -66.9741295845049\n",
      "Iteration 184, the loss is 56.45684797837968, parameters k is 14.180247846987452 and b is -66.97335257840727\n",
      "Iteration 185, the loss is 56.456229667992204, parameters k is 14.18012687823833 and b is -66.97257560708293\n",
      "Iteration 186, the loss is 56.45561138754466, parameters k is 14.18000581844495 and b is -66.97179866921252\n",
      "Iteration 187, the loss is 56.454993137003925, parameters k is 14.179884675309403 and b is -66.97102176358477\n",
      "Iteration 188, the loss is 56.45437491634139, parameters k is 14.179763455902549 and b is -66.97024488908765\n",
      "Iteration 189, the loss is 56.45375672553312, parameters k is 14.179642166715754 and b is -66.96946804470022\n",
      "Iteration 190, the loss is 56.45313856455852, parameters k is 14.179520813708377 and b is -66.96869122948517\n",
      "Iteration 191, the loss is 56.45252043339999, parameters k is 14.17939940235138 and b is -66.96791444258199\n",
      "Iteration 192, the loss is 56.45190233204251, parameters k is 14.179277937667347 and b is -66.96713768320062\n",
      "Iteration 193, the loss is 56.451284260473315, parameters k is 14.17915642426723 and b is -66.96636095061577\n",
      "Iteration 194, the loss is 56.45066621868131, parameters k is 14.17903486638409 and b is -66.96558424416149\n",
      "Iteration 195, the loss is 56.450048206656845, parameters k is 14.17891326790406 and b is -66.96480756322642\n",
      "Iteration 196, the loss is 56.44943022439175, parameters k is 14.17879163239478 and b is -66.96403090724924\n",
      "Iteration 197, the loss is 56.44881227187872, parameters k is 14.178669963131506 and b is -66.9632542757146\n",
      "Iteration 198, the loss is 56.44819434911154, parameters k is 14.17854826312106 and b is -66.96247766814938\n",
      "Iteration 199, the loss is 56.44757645608463, parameters k is 14.178426535123837 and b is -66.96170108411913\n"
     ]
    }
   ],
   "source": [
    "# 损失\n",
    "losses = []\n",
    "for i in range(iteration_num):\n",
    "    # 对每行数据计算对应的 y_hat\n",
    "    price_use_current_parameters = [price(x, k, b) for x in X_rm]\n",
    "    \n",
    "    # 计算损失\n",
    "    current_loss = loss(y, price_use_current_parameters)\n",
    "    losses.append(current_loss)\n",
    "    print(\"Iteration {}, the loss is {}, parameters k is {} and b is {}\".format(i,current_loss,k,b))\n",
    "    \n",
    "    # 计算梯度\n",
    "    k_gradient = partial_derivative_k(X_rm, y, price_use_current_parameters)\n",
    "    b_gradient = partial_derivative_b(y, price_use_current_parameters)\n",
    "    \n",
    "    # 更新参数（向负梯度方向走一步，步长为 learning_rate）\n",
    "    k = k + (-1 * k_gradient) * learning_rate\n",
    "    b = b + (-1 * b_gradient) * learning_rate\n",
    "# 最佳参数    \n",
    "best_k = k\n",
    "best_b = b"
   ]
  },
  {
   "cell_type": "code",
   "execution_count": 153,
   "metadata": {},
   "outputs": [
    {
     "data": {
      "text/plain": [
       "[<matplotlib.lines.Line2D at 0x2fc88562b0>]"
      ]
     },
     "execution_count": 153,
     "metadata": {},
     "output_type": "execute_result"
    },
    {
     "data": {
      "image/png": "[encoded data removed]",
      "text/plain": [
       "<Figure size 432x288 with 1 Axes>"
      ]
     },
     "metadata": {
      "needs_background": "light"
     },
     "output_type": "display_data"
    }
   ],
   "source": [
    "plt.plot(list(range(iteration_num)),losses)"
   ]
  },
  {
   "cell_type": "code",
   "execution_count": 154,
   "metadata": {},
   "outputs": [],
   "source": [
    "price_use_best_parameters = [price(x, best_k, best_b) for x in X_rm]"
   ]
  },
  {
   "cell_type": "code",
   "execution_count": 155,
   "metadata": {},
   "outputs": [
    {
     "data": {
      "text/plain": [
       "<matplotlib.collections.PathCollection at 0x2fc8976cf8>"
      ]
     },
     "execution_count": 155,
     "metadata": {},
     "output_type": "execute_result"
    },
    {
     "data": {
      "image/png": "[encoded data removed]",
      "text/plain": [
       "<Figure size 432x288 with 1 Axes>"
      ]
     },
     "metadata": {
      "needs_background": "light"
     },
     "output_type": "display_data"
    }
   ],
   "source": [
    "plt.scatter(X_rm, y)\n",
    "plt.scatter(X_rm, price_use_best_parameters)"
   ]
  },
  {
   "cell_type": "markdown",
   "metadata": {},
   "source": [
    "最终结果和参数初始化有关系，有时候预测结果是从左上角到右下角的一条线…"
   ]
  }
 ],
 "metadata": {
  "kernelspec": {
   "display_name": "Python 3",
   "language": "python",
   "name": "python3"
  },
  "language_info": {
   "codemirror_mode": {
    "name": "ipython",
    "version": 3
   },
   "file_extension": ".py",
   "mimetype": "text/x-python",
   "name": "python",
   "nbconvert_exporter": "python",
   "pygments_lexer": "ipython3",
   "version": "3.7.3"
  },
  "toc": {
   "base_numbering": 1,
   "nav_menu": {},
   "number_sections": false,
   "sideBar": true,
   "skip_h1_title": false,
   "title_cell": "Table of Contents",
   "title_sidebar": "Contents",
   "toc_cell": false,
   "toc_position": {},
   "toc_section_display": true,
   "toc_window_display": false
  }
 },
 "nbformat": 4,
 "nbformat_minor": 2
}
