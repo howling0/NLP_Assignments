{
 "cells": [
  {
   "cell_type": "markdown",
   "metadata": {},
   "source": [
    "# AI for NLP. Lecture 1 Part 1"
   ]
  },
  {
   "cell_type": "markdown",
   "metadata": {},
   "source": [
    "## Build Graph"
   ]
  },
  {
   "cell_type": "code",
   "execution_count": 1,
   "metadata": {},
   "outputs": [],
   "source": [
    "coordination_source = \"\"\"\n",
    "{name:'兰州', geoCoord:[103.73, 36.03]},\n",
    "{name:'嘉峪关', geoCoord:[98.17, 39.47]},\n",
    "{name:'西宁', geoCoord:[101.74, 36.56]},\n",
    "{name:'成都', geoCoord:[104.06, 30.67]},\n",
    "{name:'石家庄', geoCoord:[114.48, 38.03]},\n",
    "{name:'拉萨', geoCoord:[102.73, 25.04]},\n",
    "{name:'贵阳', geoCoord:[106.71, 26.57]},\n",
    "{name:'武汉', geoCoord:[114.31, 30.52]},\n",
    "{name:'郑州', geoCoord:[113.65, 34.76]},\n",
    "{name:'济南', geoCoord:[117, 36.65]},\n",
    "{name:'南京', geoCoord:[118.78, 32.04]},\n",
    "{name:'合肥', geoCoord:[117.27, 31.86]},\n",
    "{name:'杭州', geoCoord:[120.19, 30.26]},\n",
    "{name:'南昌', geoCoord:[115.89, 28.68]},\n",
    "{name:'福州', geoCoord:[119.3, 26.08]},\n",
    "{name:'广州', geoCoord:[113.23, 23.16]},\n",
    "{name:'长沙', geoCoord:[113, 28.21]},\n",
    "//{name:'海口', geoCoord:[110.35, 20.02]},\n",
    "{name:'沈阳', geoCoord:[123.38, 41.8]},\n",
    "{name:'长春', geoCoord:[125.35, 43.88]},\n",
    "{name:'哈尔滨', geoCoord:[126.63, 45.75]},\n",
    "{name:'太原', geoCoord:[112.53, 37.87]},\n",
    "{name:'西安', geoCoord:[108.95, 34.27]},\n",
    "//{name:'台湾', geoCoord:[121.30, 25.03]},\n",
    "{name:'北京', geoCoord:[116.46, 39.92]},\n",
    "{name:'上海', geoCoord:[121.48, 31.22]},\n",
    "{name:'重庆', geoCoord:[106.54, 29.59]},\n",
    "{name:'天津', geoCoord:[117.2, 39.13]},\n",
    "{name:'呼和浩特', geoCoord:[111.65, 40.82]},\n",
    "{name:'南宁', geoCoord:[108.33, 22.84]},\n",
    "//{name:'西藏', geoCoord:[91.11, 29.97]},\n",
    "{name:'银川', geoCoord:[106.27, 38.47]},\n",
    "{name:'乌鲁木齐', geoCoord:[87.68, 43.77]},\n",
    "{name:'香港', geoCoord:[114.17, 22.28]},\n",
    "{name:'澳门', geoCoord:[113.54, 22.19]}\n",
    "\"\"\""
   ]
  },
  {
   "cell_type": "markdown",
   "metadata": {},
   "source": [
    "### Get data from source using regular expression"
   ]
  },
  {
   "cell_type": "code",
   "execution_count": 2,
   "metadata": {},
   "outputs": [],
   "source": [
    "import re"
   ]
  },
  {
   "cell_type": "markdown",
   "metadata": {},
   "source": [
    "## regular expression"
   ]
  },
  {
   "cell_type": "markdown",
   "metadata": {},
   "source": [
    "[a-z]\n",
    "[A-Z]\n",
    "[^a]: negation\n",
    "colou?r:  ? zero or one of its previous character\n",
    "\\* : zero or more of its previous character\n",
    "+: one or more\n",
    ".:match any single character\n",
    "^:start of the line\n",
    "$:end of the line\n",
    "| [cat|dog] : cat or dog\n",
    "(da): make the string da like a character\n"
   ]
  },
  {
   "cell_type": "code",
   "execution_count": 3,
   "metadata": {},
   "outputs": [],
   "source": [
    "l = \"color or colour\""
   ]
  },
  {
   "cell_type": "code",
   "execution_count": 4,
   "metadata": {},
   "outputs": [
    {
     "data": {
      "text/plain": [
       "['color', 'colour']"
      ]
     },
     "execution_count": 4,
     "metadata": {},
     "output_type": "execute_result"
    }
   ],
   "source": [
    "pattern = re.compile(\"colou?r\")\n",
    "pattern.findall(l)"
   ]
  },
  {
   "cell_type": "code",
   "execution_count": 5,
   "metadata": {},
   "outputs": [],
   "source": [
    "def get_city_info(city_coordination):\n",
    "    city_location = {}\n",
    "    for line in city_coordination.split(\"\\n\"):\n",
    "        if line.startswith(\"//\"): continue\n",
    "        if line.strip() == \"\":continue\n",
    "            \n",
    "        city = re.findall(\"name:'(\\w+)'\",line)[0]\n",
    "        x_y = re.findall(\"Coord:\\[(\\d+.\\d+),\\s(\\d+.\\d+)\\]\",line)[0]\n",
    "        x_y = tuple(map(float,x_y))\n",
    "        city_location[city] = x_y\n",
    "    return city_location"
   ]
  },
  {
   "cell_type": "code",
   "execution_count": 6,
   "metadata": {},
   "outputs": [],
   "source": [
    "city_info = get_city_info(coordination_source)"
   ]
  },
  {
   "cell_type": "code",
   "execution_count": 7,
   "metadata": {},
   "outputs": [
    {
     "data": {
      "text/plain": [
       "{'兰州': (103.73, 36.03),\n",
       " '嘉峪关': (98.17, 39.47),\n",
       " '西宁': (101.74, 36.56),\n",
       " '成都': (104.06, 30.67),\n",
       " '石家庄': (114.48, 38.03),\n",
       " '拉萨': (102.73, 25.04),\n",
       " '贵阳': (106.71, 26.57),\n",
       " '武汉': (114.31, 30.52),\n",
       " '郑州': (113.65, 34.76),\n",
       " '济南': (117.0, 36.65),\n",
       " '南京': (118.78, 32.04),\n",
       " '合肥': (117.27, 31.86),\n",
       " '杭州': (120.19, 30.26),\n",
       " '南昌': (115.89, 28.68),\n",
       " '福州': (119.3, 26.08),\n",
       " '广州': (113.23, 23.16),\n",
       " '长沙': (113.0, 28.21),\n",
       " '沈阳': (123.38, 41.8),\n",
       " '长春': (125.35, 43.88),\n",
       " '哈尔滨': (126.63, 45.75),\n",
       " '太原': (112.53, 37.87),\n",
       " '西安': (108.95, 34.27),\n",
       " '北京': (116.46, 39.92),\n",
       " '上海': (121.48, 31.22),\n",
       " '重庆': (106.54, 29.59),\n",
       " '天津': (117.2, 39.13),\n",
       " '呼和浩特': (111.65, 40.82),\n",
       " '南宁': (108.33, 22.84),\n",
       " '银川': (106.27, 38.47),\n",
       " '乌鲁木齐': (87.68, 43.77),\n",
       " '香港': (114.17, 22.28),\n",
       " '澳门': (113.54, 22.19)}"
      ]
     },
     "execution_count": 7,
     "metadata": {},
     "output_type": "execute_result"
    }
   ],
   "source": [
    "city_info"
   ]
  },
  {
   "cell_type": "markdown",
   "metadata": {},
   "source": [
    "### Compute distance between cities"
   ]
  },
  {
   "cell_type": "code",
   "execution_count": 8,
   "metadata": {},
   "outputs": [],
   "source": [
    "import math\n",
    "\n",
    "def geo_distance(origin, destination):\n",
    "    \"\"\"\n",
    "    Calculate the Haversine distance.\n",
    "\n",
    "    Parameters\n",
    "    ----------\n",
    "    origin : tuple of float\n",
    "        (lat, long)\n",
    "    destination : tuple of float\n",
    "        (lat, long)\n",
    "\n",
    "    Returns\n",
    "    -------\n",
    "    distance_in_km : float\n",
    "\n",
    "    Examples\n",
    "    --------\n",
    "    >>> origin = (48.1372, 11.5756)  # Munich\n",
    "    >>> destination = (52.5186, 13.4083)  # Berlin\n",
    "    >>> round(distance(origin, destination), 1)\n",
    "    504.2\n",
    "    \"\"\"\n",
    "    lat1, lon1 = origin\n",
    "    lat2, lon2 = destination\n",
    "    radius = 6371  # km\n",
    "\n",
    "    dlat = math.radians(lat2 - lat1)\n",
    "    dlon = math.radians(lon2 - lon1)\n",
    "    a = (math.sin(dlat / 2) * math.sin(dlat / 2) +\n",
    "         math.cos(math.radians(lat1)) * math.cos(math.radians(lat2)) *\n",
    "         math.sin(dlon / 2) * math.sin(dlon / 2))\n",
    "    c = 2 * math.atan2(math.sqrt(a), math.sqrt(1 - a))\n",
    "    d = radius * c\n",
    "\n",
    "    return d"
   ]
  },
  {
   "cell_type": "code",
   "execution_count": 9,
   "metadata": {},
   "outputs": [
    {
     "data": {
      "text/plain": [
       "153.5185697155768"
      ]
     },
     "execution_count": 9,
     "metadata": {},
     "output_type": "execute_result"
    }
   ],
   "source": [
    "def get_city_distance(city1,city2):\n",
    "    return geo_distance(city_info[city1],city_info[city2])\n",
    "\n",
    "get_city_distance(\"杭州\",\"上海\")"
   ]
  },
  {
   "cell_type": "markdown",
   "metadata": {},
   "source": [
    "### Draw the graph"
   ]
  },
  {
   "cell_type": "code",
   "execution_count": 10,
   "metadata": {},
   "outputs": [],
   "source": [
    "import networkx as nx\n",
    "import matplotlib.pyplot as plt\n",
    "#%matplotlib inline\n",
    "\n",
    "#plt.rcParams['font.sans-serif'] = ['SimHei']\n",
    "#plt.rcParams['axes.unicode_minus'] = False\n"
   ]
  },
  {
   "cell_type": "code",
   "execution_count": 11,
   "metadata": {},
   "outputs": [
    {
     "data": {
      "text/plain": [
       "dict_keys(['兰州', '嘉峪关', '西宁', '成都', '石家庄', '拉萨', '贵阳', '武汉', '郑州', '济南', '南京', '合肥', '杭州', '南昌', '福州', '广州', '长沙', '沈阳', '长春', '哈尔滨', '太原', '西安', '北京', '上海', '重庆', '天津', '呼和浩特', '南宁', '银川', '乌鲁木齐', '香港', '澳门'])"
      ]
     },
     "execution_count": 11,
     "metadata": {},
     "output_type": "execute_result"
    }
   ],
   "source": [
    "city_info.keys()"
   ]
  },
  {
   "cell_type": "code",
   "execution_count": 12,
   "metadata": {},
   "outputs": [],
   "source": [
    "city_graph = nx.Graph()\n",
    "\n",
    "city_graph.add_nodes_from(list(city_info.keys()))\n",
    "                        "
   ]
  },
  {
   "cell_type": "code",
   "execution_count": 13,
   "metadata": {},
   "outputs": [
    {
     "data": {
      "image/png": "[encoded data removed]",
      "text/plain": [
       "<Figure size 432x288 with 1 Axes>"
      ]
     },
     "metadata": {},
     "output_type": "display_data"
    }
   ],
   "source": [
    "nx.draw(city_graph, city_info, with_labels=True, node_size=10)"
   ]
  },
  {
   "cell_type": "markdown",
   "metadata": {},
   "source": [
    "### Build connection between. Let's assume that two cities are connected if their distance is less than 700 km."
   ]
  },
  {
   "cell_type": "code",
   "execution_count": 14,
   "metadata": {},
   "outputs": [],
   "source": [
    "threshold = 700   # defined the threshold"
   ]
  },
  {
   "cell_type": "code",
   "execution_count": 15,
   "metadata": {},
   "outputs": [],
   "source": [
    "from collections import defaultdict"
   ]
  },
  {
   "cell_type": "code",
   "execution_count": 16,
   "metadata": {},
   "outputs": [],
   "source": [
    "def build_connection(city_info):\n",
    "    cities_connection = defaultdict(list)\n",
    "    cities = list(city_info.keys())\n",
    "    for c1 in cities:\n",
    "        for c2 in cities:\n",
    "            if c1 == c2 : continue\n",
    "            \n",
    "            if get_city_distance(c1,c2) < threshold:\n",
    "                cities_connection[c1].append(c2)\n",
    "    return cities_connection\n",
    "\n",
    "cities_connection = build_connection(city_info)"
   ]
  },
  {
   "cell_type": "code",
   "execution_count": 17,
   "metadata": {},
   "outputs": [
    {
     "data": {
      "text/plain": [
       "defaultdict(list,\n",
       "            {'兰州': ['嘉峪关', '西宁', '成都', '拉萨', '贵阳', '西安', '重庆', '南宁', '银川'],\n",
       "             '嘉峪关': ['兰州', '西宁', '成都', '拉萨'],\n",
       "             '西宁': ['兰州', '嘉峪关', '成都', '拉萨', '贵阳', '重庆', '银川'],\n",
       "             '成都': ['兰州', '嘉峪关', '西宁', '拉萨', '贵阳', '西安', '重庆', '南宁', '银川'],\n",
       "             '石家庄': ['武汉',\n",
       "              '郑州',\n",
       "              '济南',\n",
       "              '南京',\n",
       "              '合肥',\n",
       "              '南昌',\n",
       "              '广州',\n",
       "              '长沙',\n",
       "              '太原',\n",
       "              '西安',\n",
       "              '北京',\n",
       "              '天津',\n",
       "              '呼和浩特'],\n",
       "             '拉萨': ['兰州', '嘉峪关', '西宁', '成都', '贵阳', '重庆', '南宁', '银川'],\n",
       "             '贵阳': ['兰州', '西宁', '成都', '拉萨', '西安', '重庆', '南宁', '银川'],\n",
       "             '武汉': ['石家庄',\n",
       "              '郑州',\n",
       "              '济南',\n",
       "              '南京',\n",
       "              '合肥',\n",
       "              '杭州',\n",
       "              '南昌',\n",
       "              '福州',\n",
       "              '广州',\n",
       "              '长沙',\n",
       "              '太原',\n",
       "              '西安',\n",
       "              '北京',\n",
       "              '天津',\n",
       "              '呼和浩特',\n",
       "              '香港',\n",
       "              '澳门'],\n",
       "             '郑州': ['石家庄',\n",
       "              '武汉',\n",
       "              '济南',\n",
       "              '南京',\n",
       "              '合肥',\n",
       "              '南昌',\n",
       "              '广州',\n",
       "              '长沙',\n",
       "              '太原',\n",
       "              '西安',\n",
       "              '北京',\n",
       "              '天津',\n",
       "              '呼和浩特',\n",
       "              '香港',\n",
       "              '澳门'],\n",
       "             '济南': ['石家庄',\n",
       "              '武汉',\n",
       "              '郑州',\n",
       "              '南京',\n",
       "              '合肥',\n",
       "              '杭州',\n",
       "              '南昌',\n",
       "              '福州',\n",
       "              '长沙',\n",
       "              '太原',\n",
       "              '北京',\n",
       "              '上海',\n",
       "              '天津',\n",
       "              '呼和浩特'],\n",
       "             '南京': ['石家庄',\n",
       "              '武汉',\n",
       "              '郑州',\n",
       "              '济南',\n",
       "              '合肥',\n",
       "              '杭州',\n",
       "              '南昌',\n",
       "              '福州',\n",
       "              '长沙',\n",
       "              '北京',\n",
       "              '上海',\n",
       "              '天津'],\n",
       "             '合肥': ['石家庄',\n",
       "              '武汉',\n",
       "              '郑州',\n",
       "              '济南',\n",
       "              '南京',\n",
       "              '杭州',\n",
       "              '南昌',\n",
       "              '福州',\n",
       "              '广州',\n",
       "              '长沙',\n",
       "              '太原',\n",
       "              '北京',\n",
       "              '上海',\n",
       "              '天津',\n",
       "              '香港',\n",
       "              '澳门'],\n",
       "             '杭州': ['武汉', '济南', '南京', '合肥', '南昌', '福州', '北京', '上海', '天津'],\n",
       "             '南昌': ['石家庄',\n",
       "              '武汉',\n",
       "              '郑州',\n",
       "              '济南',\n",
       "              '南京',\n",
       "              '合肥',\n",
       "              '杭州',\n",
       "              '福州',\n",
       "              '广州',\n",
       "              '长沙',\n",
       "              '太原',\n",
       "              '北京',\n",
       "              '上海',\n",
       "              '天津',\n",
       "              '香港',\n",
       "              '澳门'],\n",
       "             '福州': ['武汉',\n",
       "              '济南',\n",
       "              '南京',\n",
       "              '合肥',\n",
       "              '杭州',\n",
       "              '南昌',\n",
       "              '广州',\n",
       "              '上海',\n",
       "              '香港',\n",
       "              '澳门'],\n",
       "             '广州': ['石家庄',\n",
       "              '武汉',\n",
       "              '郑州',\n",
       "              '合肥',\n",
       "              '南昌',\n",
       "              '福州',\n",
       "              '长沙',\n",
       "              '太原',\n",
       "              '西安',\n",
       "              '南宁',\n",
       "              '香港',\n",
       "              '澳门'],\n",
       "             '长沙': ['石家庄',\n",
       "              '武汉',\n",
       "              '郑州',\n",
       "              '济南',\n",
       "              '南京',\n",
       "              '合肥',\n",
       "              '南昌',\n",
       "              '广州',\n",
       "              '太原',\n",
       "              '西安',\n",
       "              '北京',\n",
       "              '天津',\n",
       "              '呼和浩特',\n",
       "              '南宁',\n",
       "              '香港',\n",
       "              '澳门'],\n",
       "             '沈阳': ['长春', '哈尔滨', '上海'],\n",
       "             '长春': ['沈阳', '哈尔滨'],\n",
       "             '哈尔滨': ['沈阳', '长春'],\n",
       "             '太原': ['石家庄',\n",
       "              '武汉',\n",
       "              '郑州',\n",
       "              '济南',\n",
       "              '合肥',\n",
       "              '南昌',\n",
       "              '广州',\n",
       "              '长沙',\n",
       "              '西安',\n",
       "              '北京',\n",
       "              '天津',\n",
       "              '呼和浩特',\n",
       "              '银川',\n",
       "              '澳门'],\n",
       "             '西安': ['兰州',\n",
       "              '成都',\n",
       "              '石家庄',\n",
       "              '贵阳',\n",
       "              '武汉',\n",
       "              '郑州',\n",
       "              '广州',\n",
       "              '长沙',\n",
       "              '太原',\n",
       "              '重庆',\n",
       "              '呼和浩特',\n",
       "              '南宁',\n",
       "              '银川'],\n",
       "             '北京': ['石家庄',\n",
       "              '武汉',\n",
       "              '郑州',\n",
       "              '济南',\n",
       "              '南京',\n",
       "              '合肥',\n",
       "              '杭州',\n",
       "              '南昌',\n",
       "              '长沙',\n",
       "              '太原',\n",
       "              '天津',\n",
       "              '呼和浩特'],\n",
       "             '上海': ['济南', '南京', '合肥', '杭州', '南昌', '福州', '沈阳', '天津'],\n",
       "             '重庆': ['兰州', '西宁', '成都', '拉萨', '贵阳', '西安', '呼和浩特', '南宁', '银川'],\n",
       "             '天津': ['石家庄',\n",
       "              '武汉',\n",
       "              '郑州',\n",
       "              '济南',\n",
       "              '南京',\n",
       "              '合肥',\n",
       "              '杭州',\n",
       "              '南昌',\n",
       "              '长沙',\n",
       "              '太原',\n",
       "              '北京',\n",
       "              '上海',\n",
       "              '呼和浩特'],\n",
       "             '呼和浩特': ['石家庄',\n",
       "              '武汉',\n",
       "              '郑州',\n",
       "              '济南',\n",
       "              '长沙',\n",
       "              '太原',\n",
       "              '西安',\n",
       "              '北京',\n",
       "              '重庆',\n",
       "              '天津',\n",
       "              '银川'],\n",
       "             '南宁': ['兰州',\n",
       "              '成都',\n",
       "              '拉萨',\n",
       "              '贵阳',\n",
       "              '广州',\n",
       "              '长沙',\n",
       "              '西安',\n",
       "              '重庆',\n",
       "              '银川',\n",
       "              '香港',\n",
       "              '澳门'],\n",
       "             '银川': ['兰州',\n",
       "              '西宁',\n",
       "              '成都',\n",
       "              '拉萨',\n",
       "              '贵阳',\n",
       "              '太原',\n",
       "              '西安',\n",
       "              '重庆',\n",
       "              '呼和浩特',\n",
       "              '南宁'],\n",
       "             '香港': ['武汉', '郑州', '合肥', '南昌', '福州', '广州', '长沙', '南宁', '澳门'],\n",
       "             '澳门': ['武汉',\n",
       "              '郑州',\n",
       "              '合肥',\n",
       "              '南昌',\n",
       "              '福州',\n",
       "              '广州',\n",
       "              '长沙',\n",
       "              '太原',\n",
       "              '南宁',\n",
       "              '香港']})"
      ]
     },
     "execution_count": 17,
     "metadata": {},
     "output_type": "execute_result"
    }
   ],
   "source": [
    "cities_connection"
   ]
  },
  {
   "cell_type": "markdown",
   "metadata": {},
   "source": [
    "### Draw connection graph"
   ]
  },
  {
   "cell_type": "code",
   "execution_count": 18,
   "metadata": {},
   "outputs": [],
   "source": [
    "cities_connection_graph = nx.Graph(cities_connection)"
   ]
  },
  {
   "cell_type": "code",
   "execution_count": 19,
   "metadata": {},
   "outputs": [
    {
     "name": "stderr",
     "output_type": "stream",
     "text": [
      "E:\\ProgramData\\lib\\site-packages\\networkx\\drawing\\nx_pylab.py:611: MatplotlibDeprecationWarning: isinstance(..., numbers.Number)\n",
      "  if cb.is_numlike(alpha):\n"
     ]
    },
    {
     "data": {
      "image/png": "[encoded data removed]",
      "text/plain": [
       "<Figure size 432x288 with 1 Axes>"
      ]
     },
     "metadata": {},
     "output_type": "display_data"
    }
   ],
   "source": [
    "nx.draw(cities_connection_graph,city_info,with_labels=True,node_size=10)"
   ]
  },
  {
   "cell_type": "markdown",
   "metadata": {},
   "source": [
    "### BFS 1 version"
   ]
  },
  {
   "cell_type": "code",
   "execution_count": 20,
   "metadata": {},
   "outputs": [],
   "source": [
    "def search_1(graph,start,destination):\n",
    "    pathes = [[start]]  # list 用来存储待搜索路径\n",
    "    visited = set() # set用来存储已搜索的节点\n",
    "    \n",
    "    while pathes:\n",
    "        path = pathes.pop(0)  #提取第一条路径\n",
    "        froniter = path[-1]   #提取即将要探索的节点\n",
    "        \n",
    "        if froniter in visited: continue  #检查如果该点已经探索过 则不用再探索\n",
    "            \n",
    "        successsors = graph[froniter]\n",
    "        \n",
    "        for city in successsors:      #遍历子节点\n",
    "            if city in path: continue  # check loop #检查会不会形成环\n",
    "            \n",
    "            new_path = path+[city]\n",
    "            \n",
    "            pathes.append(new_path)  #bfs     #将新路径加到list里面\n",
    "            #pathes = [new_path] + pathes #dfs\n",
    "            \n",
    "            if city == destination:  #检查目的地是不是已经搜索到了\n",
    "                return new_path\n",
    "        visited.add(froniter)"
   ]
  },
  {
   "cell_type": "code",
   "execution_count": 21,
   "metadata": {},
   "outputs": [
    {
     "data": {
      "text/plain": [
       "['上海', '合肥', '香港']"
      ]
     },
     "execution_count": 21,
     "metadata": {},
     "output_type": "execute_result"
    }
   ],
   "source": [
    "search_1(cities_connection,\"上海\",\"香港\")"
   ]
  },
  {
   "cell_type": "markdown",
   "metadata": {},
   "source": [
    "### Optimal search using variation of BFS"
   ]
  },
  {
   "cell_type": "code",
   "execution_count": 22,
   "metadata": {},
   "outputs": [],
   "source": [
    "def search_2(graph,start,destination,search_strategy):\n",
    "    pathes = [[start]]\n",
    "    visited = set()# ！\n",
    "    while pathes:\n",
    "        path = pathes.pop(0)\n",
    "        froniter = path[-1]\n",
    "        if froniter in visited : continue# ！\n",
    "            \n",
    "        if froniter == destination:# ！\n",
    "            return path# ！\n",
    "        \n",
    "        successsors = graph[froniter]\n",
    "        \n",
    "        for city in successsors:\n",
    "            if city in path: continue  # check loop\n",
    "            \n",
    "            new_path = path+[city]\n",
    "            \n",
    "            pathes.append(new_path)  #bfs\n",
    "            \n",
    "        pathes = search_strategy(pathes)\n",
    "        visited.add(froniter) # ！\n",
    "       # if pathes and (destination == pathes[0][-1]):\n",
    "       #     return pathes[0]  \n",
    "        "
   ]
  },
  {
   "cell_type": "code",
   "execution_count": 23,
   "metadata": {},
   "outputs": [],
   "source": [
    "def sort_by_distance(pathes):\n",
    "    def get_distance_of_path(path):\n",
    "        distance = 0\n",
    "        for i,_ in enumerate(path[:-1]):\n",
    "            distance += get_city_distance(path[i],path[i+1])\n",
    "        return distance\n",
    "    return sorted(pathes,key=get_distance_of_path)\n"
   ]
  },
  {
   "cell_type": "code",
   "execution_count": 24,
   "metadata": {},
   "outputs": [],
   "source": [
    "def get_distance_of_path(path):\n",
    "    distance = 0\n",
    "    for i,_ in enumerate(path[:-1]):\n",
    "        distance += get_city_distance(path[i],path[i+1])\n",
    "    return distance"
   ]
  },
  {
   "cell_type": "code",
   "execution_count": 25,
   "metadata": {},
   "outputs": [
    {
     "data": {
      "text/plain": [
       "752.66259009181"
      ]
     },
     "execution_count": 25,
     "metadata": {},
     "output_type": "execute_result"
    }
   ],
   "source": [
    "get_distance_of_path([\"北京\",\"济南\",\"上海\"])"
   ]
  },
  {
   "cell_type": "code",
   "execution_count": 26,
   "metadata": {},
   "outputs": [
    {
     "data": {
      "text/plain": [
       "732.5085345714293"
      ]
     },
     "execution_count": 26,
     "metadata": {},
     "output_type": "execute_result"
    }
   ],
   "source": [
    "get_distance_of_path([\"北京\",\"天津\",\"上海\"])"
   ]
  },
  {
   "cell_type": "code",
   "execution_count": 27,
   "metadata": {},
   "outputs": [
    {
     "data": {
      "text/plain": [
       "['北京', '济南', '上海']"
      ]
     },
     "execution_count": 27,
     "metadata": {},
     "output_type": "execute_result"
    }
   ],
   "source": [
    "search_2(cities_connection,\"北京\",\"上海\",search_strategy=lambda x:x)"
   ]
  },
  {
   "cell_type": "code",
   "execution_count": 28,
   "metadata": {},
   "outputs": [
    {
     "data": {
      "text/plain": [
       "['北京', '天津', '上海']"
      ]
     },
     "execution_count": 28,
     "metadata": {},
     "output_type": "execute_result"
    }
   ],
   "source": [
    "search_2(cities_connection,\"北京\",\"上海\",search_strategy=sort_by_distance)"
   ]
  },
  {
   "cell_type": "markdown",
   "metadata": {},
   "source": [
    "# AI for NLP Lecture 1 Part 2"
   ]
  },
  {
   "cell_type": "markdown",
   "metadata": {},
   "source": [
    "## Machine Learning"
   ]
  },
  {
   "cell_type": "code",
   "execution_count": 29,
   "metadata": {},
   "outputs": [],
   "source": [
    "from sklearn.datasets import load_boston\n",
    "import random"
   ]
  },
  {
   "cell_type": "code",
   "execution_count": 30,
   "metadata": {},
   "outputs": [],
   "source": [
    "dataset = load_boston()"
   ]
  },
  {
   "cell_type": "code",
   "execution_count": 31,
   "metadata": {},
   "outputs": [],
   "source": [
    "#dataset"
   ]
  },
  {
   "cell_type": "code",
   "execution_count": 32,
   "metadata": {},
   "outputs": [],
   "source": [
    "x,y=dataset['data'],dataset['target']"
   ]
  },
  {
   "cell_type": "code",
   "execution_count": 33,
   "metadata": {},
   "outputs": [
    {
     "data": {
      "text/plain": [
       "(506, 13)"
      ]
     },
     "execution_count": 33,
     "metadata": {},
     "output_type": "execute_result"
    }
   ],
   "source": [
    "x.shape"
   ]
  },
  {
   "cell_type": "code",
   "execution_count": 34,
   "metadata": {},
   "outputs": [
    {
     "data": {
      "text/plain": [
       "(506,)"
      ]
     },
     "execution_count": 34,
     "metadata": {},
     "output_type": "execute_result"
    }
   ],
   "source": [
    "y.shape"
   ]
  },
  {
   "cell_type": "code",
   "execution_count": 35,
   "metadata": {},
   "outputs": [
    {
     "data": {
      "text/plain": [
       "array([2.7310e-02, 0.0000e+00, 7.0700e+00, 0.0000e+00, 4.6900e-01,\n",
       "       6.4210e+00, 7.8900e+01, 4.9671e+00, 2.0000e+00, 2.4200e+02,\n",
       "       1.7800e+01, 3.9690e+02, 9.1400e+00])"
      ]
     },
     "execution_count": 35,
     "metadata": {},
     "output_type": "execute_result"
    }
   ],
   "source": [
    "x[1].shape\n",
    "x[1]"
   ]
  },
  {
   "cell_type": "code",
   "execution_count": 36,
   "metadata": {},
   "outputs": [
    {
     "data": {
      "text/plain": [
       "array(['CRIM', 'ZN', 'INDUS', 'CHAS', 'NOX', 'RM', 'AGE', 'DIS', 'RAD',\n",
       "       'TAX', 'PTRATIO', 'B', 'LSTAT'], dtype='<U7')"
      ]
     },
     "execution_count": 36,
     "metadata": {},
     "output_type": "execute_result"
    }
   ],
   "source": [
    "dataset.feature_names"
   ]
  },
  {
   "cell_type": "code",
   "execution_count": 37,
   "metadata": {},
   "outputs": [
    {
     "data": {
      "text/plain": [
       "\".. _boston_dataset:\\n\\nBoston house prices dataset\\n---------------------------\\n\\n**Data Set Characteristics:**  \\n\\n    :Number of Instances: 506 \\n\\n    :Number of Attributes: 13 numeric/categorical predictive. Median Value (attribute 14) is usually the target.\\n\\n    :Attribute Information (in order):\\n        - CRIM     per capita crime rate by town\\n        - ZN       proportion of residential land zoned for lots over 25,000 sq.ft.\\n        - INDUS    proportion of non-retail business acres per town\\n        - CHAS     Charles River dummy variable (= 1 if tract bounds river; 0 otherwise)\\n        - NOX      nitric oxides concentration (parts per 10 million)\\n        - RM       average number of rooms per dwelling\\n        - AGE      proportion of owner-occupied units built prior to 1940\\n        - DIS      weighted distances to five Boston employment centres\\n        - RAD      index of accessibility to radial highways\\n        - TAX      full-value property-tax rate per $10,000\\n        - PTRATIO  pupil-teacher ratio by town\\n        - B        1000(Bk - 0.63)^2 where Bk is the proportion of blacks by town\\n        - LSTAT    % lower status of the population\\n        - MEDV     Median value of owner-occupied homes in $1000's\\n\\n    :Missing Attribute Values: None\\n\\n    :Creator: Harrison, D. and Rubinfeld, D.L.\\n\\nThis is a copy of UCI ML housing dataset.\\nhttps://archive.ics.uci.edu/ml/machine-learning-databases/housing/\\n\\n\\nThis dataset was taken from the StatLib library which is maintained at Carnegie Mellon University.\\n\\nThe Boston house-price data of Harrison, D. and Rubinfeld, D.L. 'Hedonic\\nprices and the demand for clean air', J. Environ. Economics & Management,\\nvol.5, 81-102, 1978.   Used in Belsley, Kuh & Welsch, 'Regression diagnostics\\n...', Wiley, 1980.   N.B. Various transformations are used in the table on\\npages 244-261 of the latter.\\n\\nThe Boston house-price data has been used in many machine learning papers that address regression\\nproblems.   \\n     \\n.. topic:: References\\n\\n   - Belsley, Kuh & Welsch, 'Regression diagnostics: Identifying Influential Data and Sources of Collinearity', Wiley, 1980. 244-261.\\n   - Quinlan,R. (1993). Combining Instance-Based and Model-Based Learning. In Proceedings on the Tenth International Conference of Machine Learning, 236-243, University of Massachusetts, Amherst. Morgan Kaufmann.\\n\""
      ]
     },
     "execution_count": 37,
     "metadata": {},
     "output_type": "execute_result"
    }
   ],
   "source": [
    "dataset['DESCR']"
   ]
  },
  {
   "cell_type": "code",
   "execution_count": 38,
   "metadata": {},
   "outputs": [],
   "source": [
    "X_rm = x[:,5]"
   ]
  },
  {
   "cell_type": "code",
   "execution_count": 39,
   "metadata": {},
   "outputs": [
    {
     "data": {
      "text/plain": [
       "<matplotlib.collections.PathCollection at 0x40b45e1940>"
      ]
     },
     "execution_count": 39,
     "metadata": {},
     "output_type": "execute_result"
    },
    {
     "data": {
      "image/png": "[encoded data removed]",
      "text/plain": [
       "<Figure size 432x288 with 1 Axes>"
      ]
     },
     "metadata": {
      "needs_background": "light"
     },
     "output_type": "display_data"
    }
   ],
   "source": [
    "# plot the RM with respect to y\n",
    "plt.scatter(X_rm,y)"
   ]
  },
  {
   "cell_type": "markdown",
   "metadata": {},
   "source": [
    "### Gradient descent"
   ]
  },
  {
   "cell_type": "markdown",
   "metadata": {},
   "source": [
    "### Assume that the target funciton is a linear function\n",
    "$$ y = k*rm + b$$"
   ]
  },
  {
   "cell_type": "code",
   "execution_count": 40,
   "metadata": {},
   "outputs": [],
   "source": [
    "#define target function\n",
    "def price(rm, k, b):\n",
    "    return k * rm + b"
   ]
  },
  {
   "cell_type": "markdown",
   "metadata": {},
   "source": [
    "### Define mean square loss"
   ]
  },
  {
   "cell_type": "markdown",
   "metadata": {},
   "source": [
    "$$ loss = \\frac{1}{n} \\sum{(y_i - \\hat{y_i})}^2$$"
   ]
  },
  {
   "cell_type": "markdown",
   "metadata": {},
   "source": [
    "$$ loss = \\frac{1}{n} \\sum{(y_i - (kx_i + b_i))}^2 $$"
   ]
  },
  {
   "cell_type": "code",
   "execution_count": 41,
   "metadata": {},
   "outputs": [],
   "source": [
    "# define loss function \n",
    "def loss(y,y_hat):\n",
    "    return sum((y_i - y_hat_i)**2 for y_i, y_hat_i in zip(list(y),list(y_hat)))/len(list(y))"
   ]
  },
  {
   "cell_type": "markdown",
   "metadata": {},
   "source": [
    "### Define partial derivatives"
   ]
  },
  {
   "cell_type": "markdown",
   "metadata": {},
   "source": [
    "$$ \\frac{\\partial{loss}}{\\partial{k}} = -\\frac{2}{n}\\sum(y_i - \\hat{y_i})x_i$$\n"
   ]
  },
  {
   "cell_type": "markdown",
   "metadata": {},
   "source": [
    "$$ \\frac{\\partial{loss}}{\\partial{b}} = -\\frac{2}{n}\\sum(y_i - \\hat{y_i})$$"
   ]
  },
  {
   "cell_type": "code",
   "execution_count": 42,
   "metadata": {},
   "outputs": [],
   "source": [
    "# define partial derivative \n",
    "def partial_derivative_k(x, y, y_hat): \n",
    "    n = len(y)\n",
    "    gradient = 0\n",
    "    for x_i, y_i, y_hat_i in zip(list(x),list(y),list(y_hat)):\n",
    "        gradient += (y_i-y_hat_i) * x_i\n",
    "    return -2/n * gradient\n",
    "\n",
    "def partial_derivative_b(y, y_hat):\n",
    "    n = len(y)\n",
    "    gradient = 0\n",
    "    for y_i, y_hat_i in zip(list(y),list(y_hat)):\n",
    "        gradient += (y_i-y_hat_i)\n",
    "    return -2 / n * gradient"
   ]
  },
  {
   "cell_type": "code",
   "execution_count": 43,
   "metadata": {},
   "outputs": [
    {
     "name": "stdout",
     "output_type": "stream",
     "text": [
      "Iteration 0, the loss is 125077.25361940196, parameters k is -67.26336548904575 and b is 95.74393215934569\n",
      "Iteration 1, the loss is 105460.28269046458, parameters k is -62.79497356356377 and b is 96.44296122719815\n",
      "Iteration 2, the loss is 88926.95355236392, parameters k is -58.69274387260259 and b is 97.08442781781282\n",
      "Iteration 3, the loss is 74992.54038919698, parameters k is -54.92666773701032 and b is 97.673049447685\n",
      "Iteration 4, the loss is 63248.512719208265, parameters k is -51.469195826990614 and b is 98.21315701112317\n",
      "Iteration 5, the loss is 53350.558048514686, parameters k is -48.29503660710513 and b is 98.70872646571644\n",
      "Iteration 6, the loss is 45008.487275596075, parameters k is -45.380971299635604 and b is 99.16340792103207\n",
      "Iteration 7, the loss is 37977.726891976745, parameters k is -42.705684012549895 and b is 99.58055234336047\n",
      "Iteration 8, the loss is 32052.14854640309, parameters k is -40.24960578926301 and b is 99.96323607188327\n",
      "Iteration 9, the loss is 27058.025748809363, parameters k is -37.99477143923782 and b is 100.31428332562884\n",
      "Iteration 10, the loss is 22848.940535984886, parameters k is -35.92468810197702 and b is 100.63628686587901\n",
      "Iteration 11, the loss is 19301.490771947465, parameters k is -34.02421458280066 and b is 100.93162696519663\n",
      "Iteration 12, the loss is 16311.672229134994, parameters k is -32.27945057761216 and b is 101.20248882185386\n",
      "Iteration 13, the loss is 13791.829379831488, parameters k is -30.67763497620442 and b is 101.45087854706814\n",
      "Iteration 14, the loss is 11668.085500760704, parameters k is -29.207052500078053 and b is 101.67863784201039\n",
      "Iteration 15, the loss is 9878.176746341507, parameters k is -27.85694799172004 and b is 101.88745747196495\n",
      "Iteration 16, the loss is 8369.626689701994, parameters k is -26.617447728270463 and b is 102.07888963622011\n",
      "Iteration 17, the loss is 7098.207812423602, parameters k is -25.47948718389633 and b is 102.25435932418915\n",
      "Iteration 18, the loss is 6026.644836785239, parameters k is -24.43474471237134 and b is 102.415174740845\n",
      "Iteration 19, the loss is 5123.521884644349, parameters k is -23.475580664673373 and b is 102.5625368777426\n",
      "Iteration 20, the loss is 4362.3614229064, parameters k is -22.594981496175098 and b is 102.69754829965186\n",
      "Iteration 21, the loss is 3720.8479919942047, parameters k is -21.786508454507505 and b is 102.82122121108566\n",
      "Iteration 22, the loss is 3180.1739584940583, parameters k is -21.044250472689143 and b is 102.93448486173877\n",
      "Iteration 23, the loss is 2724.4881106753433, parameters k is -20.362780922880237 and b is 103.03819234501692\n",
      "Iteration 24, the loss is 2340.4309307400317, parameters k is -19.737117914365633 and b is 103.1331268393952\n",
      "Iteration 25, the loss is 2016.7429188575263, parameters k is -19.162687845300784 and b is 103.22000733826832\n",
      "Iteration 26, the loss is 1743.93448578128, parameters k is -18.635291941559856 and b is 103.29949391021333\n",
      "Iteration 27, the loss is 1514.0077359188404, parameters k is -18.151075537879247 and b is 103.37219252814965\n",
      "Iteration 28, the loss is 1320.2219840576336, parameters k is -17.706499876552737 and b is 103.43865950272713\n",
      "Iteration 29, the loss is 1156.8961311372996, parameters k is -17.29831621735337 and b is 103.49940555237755\n",
      "Iteration 30, the loss is 1019.2421050975473, parameters k is -16.92354206926637 and b is 103.55489953980674\n",
      "Iteration 31, the loss is 903.224483600016, parameters k is -16.57943937014094 and b is 103.60557190226396\n",
      "Iteration 32, the loss is 805.442183026116, parameters k is -16.26349445461999 and b is 103.65181780068485\n",
      "Iteration 33, the loss is 723.0287450944617, parameters k is -15.973399663790248 and b is 103.69400001074773\n",
      "Iteration 34, the loss is 653.568297688884, parameters k is -15.707036462006128 and b is 103.73245157699439\n",
      "Iteration 35, the loss is 595.0247260263486, parameters k is -15.462459937367619 and b is 103.76747824943365\n",
      "Iteration 36, the loss is 545.681977596477, parameters k is -15.237884572455322 and b is 103.79936072045386\n",
      "Iteration 37, the loss is 504.0937507256574, parameters k is -15.03167118121923 and b is 103.82835667841027\n",
      "Iteration 38, the loss is 469.0410917289386, parameters k is -14.842314916449595 and b is 103.85470269291139\n",
      "Iteration 39, the loss is 439.49665747786463, parameters k is -14.668434260090752 and b is 103.87861594559743\n",
      "Iteration 40, the loss is 414.594595629877, parameters k is -14.508760915849374 and b is 103.9002958190736\n",
      "Iteration 41, the loss is 393.6051594641909, parameters k is -14.362130530150013 and b is 103.91992535562291\n",
      "Iteration 42, the loss is 375.9133130788098, parameters k is -14.227474173551025 and b is 103.93767259637072\n",
      "Iteration 43, the loss is 361.00069969326717, parameters k is -14.103810520297667 and b is 103.95369181069871\n",
      "Iteration 44, the loss is 348.4304444015835, parameters k is -13.990238668796804 and b is 103.96812462490266\n",
      "Iteration 45, the loss is 337.8343458207266, parameters k is -13.88593155048676 and b is 103.98110105835143\n",
      "Iteration 46, the loss is 328.90208111774297, parameters k is -13.790129878880604 and b is 103.99274047472815\n",
      "Iteration 47, the loss is 321.37210792726364, parameters k is -13.702136594513204 and b is 104.00315245531263\n",
      "Iteration 48, the loss is 315.0239964206692, parameters k is -13.621311765150415 and b is 104.01243760069437\n",
      "Iteration 49, the loss is 309.67196671761144, parameters k is -13.547067903949605 and b is 104.0206882667814\n",
      "Iteration 50, the loss is 305.1594421689176, parameters k is -13.47886567131847 and b is 104.02798924048997\n",
      "Iteration 51, the loss is 301.35445882337694, parameters k is -13.416209929026296 and b is 104.03441836005814\n",
      "Iteration 52, the loss is 298.1457964925963, parameters k is -13.358646117698962 and b is 104.04004708452203\n",
      "Iteration 53, the loss is 295.43971798400884, parameters k is -13.3057569311949 and b is 104.04494101652071\n",
      "Iteration 54, the loss is 293.15722090248, parameters k is -13.257159263531252 and b is 104.04916038225495\n",
      "Iteration 55, the loss is 291.23172144849343, parameters k is -13.212501406023469 and b is 104.05276047211105\n",
      "Iteration 56, the loss is 289.6071023062342, parameters k is -13.171460474132234 and b is 104.0557920451735\n",
      "Iteration 57, the loss is 288.2360673893056, parameters k is -13.133740045192104 and b is 104.05830170058613\n",
      "Iteration 58, the loss is 287.0787552083295, parameters k is -13.099067989739174 and b is 104.06033221847828\n",
      "Iteration 59, the loss is 286.10157020695783, parameters k is -13.067194480571413 and b is 104.06192287295069\n",
      "Iteration 60, the loss is 285.2761978032735, parameters k is -13.037890164975668 and b is 104.06310971941063\n",
      "Iteration 61, the loss is 284.5787742594394, parameters k is -13.01094448674908 and b is 104.06392585835867\n",
      "Iteration 62, the loss is 283.98918704173724, parameters k is -12.986164145738567 and b is 104.06440167755687\n",
      "Iteration 63, the loss is 283.4904851588605, parameters k is -12.96337168362812 and b is 104.06456507435018\n",
      "Iteration 64, the loss is 283.0683821906925, parameters k is -12.942404185627367 and b is 104.06444165976761\n",
      "Iteration 65, the loss is 282.7108374373111, parameters k is -12.923112088562709 and b is 104.06405494589629\n",
      "Iteration 66, the loss is 282.407702908283, parameters k is -12.905358086650883 and b is 104.06342651789949\n",
      "Iteration 67, the loss is 282.1504258026508, parameters k is -12.889016126949421 and b is 104.06257619193681\n",
      "Iteration 68, the loss is 281.9317977568754, parameters k is -12.873970487134553 and b is 104.06152216014227\n",
      "Iteration 69, the loss is 281.7457435091617, parameters k is -12.860114928859469 and b is 104.06028112372061\n",
      "Iteration 70, the loss is 281.58714278419154, parameters k is -12.847351920498763 and b is 104.0588684151358\n",
      "Iteration 71, the loss is 281.45168017627634, parameters k is -12.835591923592542 and b is 104.05729811028571\n",
      "Iteration 72, the loss is 281.33571862976646, parameters k is -12.82475273776973 and b is 104.05558313148342\n",
      "Iteration 73, the loss is 281.2361928074134, parameters k is -12.81475889935792 and b is 104.05373534199882\n",
      "Iteration 74, the loss is 281.1505192204407, parameters k is -12.805541129279913 and b is 104.0517656328521\n",
      "Iteration 75, the loss is 281.0765204855077, parameters k is -12.797035826197687 and b is 104.04968400249405\n",
      "Iteration 76, the loss is 281.01236148792117, parameters k is -12.789184601195535 and b is 104.04749962995626\n",
      "Iteration 77, the loss is 280.95649557951896, parameters k is -12.781933850598069 and b is 104.0452209420063\n",
      "Iteration 78, the loss is 280.9076192338559, parameters k is -12.775234363797761 and b is 104.04285567479916\n",
      "Iteration 79, the loss is 280.86463382925314, parameters k is -12.769040963222809 and b is 104.04041093047618\n",
      "Iteration 80, the loss is 280.8266134392782, parameters k is -12.763312173811299 and b is 104.0378932291254\n",
      "Iteration 81, the loss is 280.79277768632136, parameters k is -12.758009919573487 and b is 104.03530855648346\n",
      "Iteration 82, the loss is 280.76246886239187, parameters k is -12.753099245022186 and b is 104.03266240772817\n",
      "Iteration 83, the loss is 280.7351326463544, parameters k is -12.748548059433226 and b is 104.02995982768209\n",
      "Iteration 84, the loss is 280.71030185227545, parameters k is -12.744326902064934 and b is 104.02720544772119\n",
      "Iteration 85, the loss is 280.68758273241167, parameters k is -12.740408726618972 and b is 104.0244035196587\n",
      "Iteration 86, the loss is 280.6666434332655, parameters k is -12.736768703365591 and b is 104.02155794685206\n",
      "Iteration 87, the loss is 280.64720426626513, parameters k is -12.73338403748564 and b is 104.0186723127604\n",
      "Iteration 88, the loss is 280.6290295078217, parameters k is -12.730233802300269 and b is 104.01574990716178\n",
      "Iteration 89, the loss is 280.6119204883566, parameters k is -12.727298786168241 and b is 104.0127937502216\n",
      "Iteration 90, the loss is 280.59570976768424, parameters k is -12.724561351930705 and b is 104.00980661458868\n",
      "Iteration 91, the loss is 280.58025622598143, parameters k is -12.722005307875117 and b is 104.00679104568034\n",
      "Iteration 92, the loss is 280.56544092641894, parameters k is -12.719615789274267 and b is 104.0037493803051\n",
      "Iteration 93, the loss is 280.5511636281585, parameters k is -12.717379149633722 and b is 104.00068376375906\n",
      "Iteration 94, the loss is 280.5373398474801, parameters k is -12.715282860852042 and b is 103.99759616552132\n",
      "Iteration 95, the loss is 280.52389838087953, parameters k is -12.713315421563331 and b is 103.99448839366292\n",
      "Iteration 96, the loss is 280.5107792175164, parameters k is -12.711466272991531 and b is 103.99136210807502\n",
      "Iteration 97, the loss is 280.49793177980695, parameters k is -12.709725721700849 and b is 103.9882188326129\n",
      "Iteration 98, the loss is 280.4853134405907, parameters k is -12.708084868677137 and b is 103.98505996624472\n",
      "Iteration 99, the loss is 280.47288827337627, parameters k is -12.706535544221389 and b is 103.98188679328659\n",
      "Iteration 100, the loss is 280.46062599904985, parameters k is -12.705070248179 and b is 103.97870049279888\n",
      "Iteration 101, the loss is 280.44850109814774, parameters k is -12.70368209506753 and b is 103.97550214721235\n",
      "Iteration 102, the loss is 280.43649206267366, parameters k is -12.702364763701484 and b is 103.97229275024745\n",
      "Iteration 103, the loss is 280.4245807655255, parameters k is -12.701112450945583 and b is 103.96907321418446\n",
      "Iteration 104, the loss is 280.4127519290453, parameters k is -12.699919829258167 and b is 103.96584437653799\n",
      "Iteration 105, the loss is 280.4009926771062, parameters k is -12.698782007714106 and b is 103.96260700618427\n",
      "Iteration 106, the loss is 280.38929215760925, parameters k is -12.697694496222068 and b is 103.95936180898646\n",
      "Iteration 107, the loss is 280.377641224321, parameters k is -12.696653172674344 and b is 103.9561094329588\n",
      "Iteration 108, the loss is 280.3660321687262, parameters k is -12.695654252788895 and b is 103.95285047300764\n",
      "Iteration 109, the loss is 280.3544584940262, parameters k is -12.694694262422988 and b is 103.94958547528387\n",
      "Iteration 110, the loss is 280.342914724667, parameters k is -12.693770012155852 and b is 103.9463149411786\n",
      "Iteration 111, the loss is 280.33139624580804, parameters k is -12.692878573954395 and b is 103.94303933099152\n",
      "Iteration 112, the loss is 280.31989916802286, parameters k is -12.692017259751292 and b is 103.93975906729847\n",
      "Iteration 113, the loss is 280.3084202132711, parameters k is -12.691183601778677 and b is 103.93647453804309\n",
      "Iteration 114, the loss is 280.2969566187907, parameters k is -12.690375334513597 and b is 103.93318609937509\n",
      "Iteration 115, the loss is 280.28550605610303, parameters k is -12.6895903781031 and b is 103.92989407825593\n",
      "Iteration 116, the loss is 280.2740665627437, parameters k is -12.688826823147735 and b is 103.9265987748509\n",
      "Iteration 117, the loss is 280.2626364847296, parameters k is -12.688082916732098 and b is 103.92330046472523\n",
      "Iteration 118, the loss is 280.2512144280676, parameters k is -12.687357049600239 and b is 103.91999940086014\n",
      "Iteration 119, the loss is 280.2397992178853, parameters k is -12.686647744382121 and b is 103.91669581550369\n",
      "Iteration 120, the loss is 280.22838986398875, parameters k is -12.685953644784952 and b is 103.91338992187002\n",
      "Iteration 121, the loss is 280.21698553182944, parameters k is -12.68527350567035 and b is 103.91008191569924\n",
      "Iteration 122, the loss is 280.2055855180415, parameters k is -12.684606183944732 and b is 103.90677197668946\n",
      "Iteration 123, the loss is 280.19418922981635, parameters k is -12.683950630196268 and b is 103.90346026981156\n",
      "Iteration 124, the loss is 280.1827961675291, parameters k is -12.683305881017231 and b is 103.90014694651617\n",
      "Iteration 125, the loss is 280.17140591008666, parameters k is -12.682671051955568 and b is 103.89683214584164\n",
      "Iteration 126, the loss is 280.1600181025844, parameters k is -12.682045331044115 and b is 103.89351599543136\n",
      "Iteration 127, the loss is 280.14863244590254, parameters k is -12.68142797286013 and b is 103.89019861246759\n",
      "Iteration 128, the loss is 280.1372486879362, parameters k is -12.68081829307167 and b is 103.8868801045288\n",
      "Iteration 129, the loss is 280.12586661620566, parameters k is -12.680215663430921 and b is 103.88356057037676\n",
      "Iteration 130, the loss is 280.1144860516265, parameters k is -12.679619507177843 and b is 103.88024010067909\n",
      "Iteration 131, the loss is 280.1031068432629, parameters k is -12.67902929482051 and b is 103.87691877867265\n",
      "Iteration 132, the loss is 280.0917288638988, parameters k is -12.678444540261268 and b is 103.87359668077247\n",
      "Iteration 133, the loss is 280.0803520063126, parameters k is -12.677864797240382 and b is 103.87027387713086\n",
      "Iteration 134, the loss is 280.0689761801326, parameters k is -12.677289656071132 and b is 103.86695043215069\n",
      "Iteration 135, the loss is 280.0576013091884, parameters k is -12.676718740642483 and b is 103.86362640495653\n",
      "Iteration 136, the loss is 280.0462273292797, parameters k is -12.676151705667406 and b is 103.8603018498273\n",
      "Iteration 137, the loss is 280.03485418629367, parameters k is -12.675588234156708 and b is 103.85697681659332\n",
      "Iteration 138, the loss is 280.0234818346186, parameters k is -12.675028035099894 and b is 103.85365135100093\n",
      "Iteration 139, the loss is 280.01211023581004, parameters k is -12.674470841336094 and b is 103.85032549504723\n",
      "Iteration 140, the loss is 280.0007393574608, parameters k is -12.673916407599476 and b is 103.84699928728725\n"
     ]
    },
    {
     "name": "stdout",
     "output_type": "stream",
     "text": [
      "Iteration 141, the loss is 279.9893691722555, parameters k is -12.673364508724847 and b is 103.84367276311613\n",
      "Iteration 142, the loss is 279.9779996571672, parameters k is -12.672814938000311 and b is 103.84034595502807\n",
      "Iteration 143, the loss is 279.9666307927847, parameters k is -12.672267505654942 and b is 103.83701889285403\n",
      "Iteration 144, the loss is 279.9552625627444, parameters k is -12.671722037470387 and b is 103.83369160398007\n",
      "Iteration 145, the loss is 279.94389495325004, parameters k is -12.671178373506265 and b is 103.83036411354763\n",
      "Iteration 146, the loss is 279.93252795267114, parameters k is -12.67063636693002 and b is 103.82703644463757\n",
      "Iteration 147, the loss is 279.9211615511998, parameters k is -12.670095882942677 and b is 103.823708618439\n",
      "Iteration 148, the loss is 279.90979574056684, parameters k is -12.669556797792628 and b is 103.82038065440432\n",
      "Iteration 149, the loss is 279.89843051379864, parameters k is -12.669018997870259 and b is 103.81705257039155\n",
      "Iteration 150, the loss is 279.88706586501263, parameters k is -12.668482378876757 and b is 103.81372438279504\n",
      "Iteration 151, the loss is 279.87570178924875, parameters k is -12.667946845061056 and b is 103.81039610666538\n",
      "Iteration 152, the loss is 279.86433828232055, parameters k is -12.667412308519305 and b is 103.8070677558195\n",
      "Iteration 153, the loss is 279.8529753406969, parameters k is -12.666878688551751 and b is 103.80373934294185\n",
      "Iteration 154, the loss is 279.8416129613956, parameters k is -12.666345911072336 and b is 103.80041087967716\n",
      "Iteration 155, the loss is 279.8302511419025, parameters k is -12.665813908066665 and b is 103.79708237671566\n",
      "Iteration 156, the loss is 279.8188898800916, parameters k is -12.665282617094418 and b is 103.79375384387133\n",
      "Iteration 157, the loss is 279.80752917416794, parameters k is -12.664751980832515 and b is 103.79042529015365\n",
      "Iteration 158, the loss is 279.79616902261483, parameters k is -12.664221946655745 and b is 103.78709672383361\n",
      "Iteration 159, the loss is 279.784809424149, parameters k is -12.663692466251753 and b is 103.78376815250418\n",
      "Iteration 160, the loss is 279.7734503776863, parameters k is -12.663163495267572 and b is 103.7804395831359\n",
      "Iteration 161, the loss is 279.76209188230706, parameters k is -12.662634992985145 and b is 103.77711102212788\n",
      "Iteration 162, the loss is 279.75073393723363, parameters k is -12.662106922023423 and b is 103.77378247535465\n",
      "Iteration 163, the loss is 279.73937654180565, parameters k is -12.661579248064877 and b is 103.77045394820911\n",
      "Iteration 164, the loss is 279.7280196954622, parameters k is -12.661051939604436 and b is 103.76712544564205\n",
      "Iteration 165, the loss is 279.71666339772725, parameters k is -12.660524967718988 and b is 103.76379697219836\n",
      "Iteration 166, the loss is 279.7053076481945, parameters k is -12.659998305855781 and b is 103.7604685320503\n",
      "Iteration 167, the loss is 279.69395244651804, parameters k is -12.659471929638157 and b is 103.75714012902802\n",
      "Iteration 168, the loss is 279.6825977924023, parameters k is -12.65894581668721 and b is 103.75381176664762\n",
      "Iteration 169, the loss is 279.67124368559354, parameters k is -12.658419946458066 and b is 103.75048344813689\n",
      "Iteration 170, the loss is 279.6598901258743, parameters k is -12.657894300089573 and b is 103.74715517645893\n",
      "Iteration 171, the loss is 279.64853711305676, parameters k is -12.657368860266313 and b is 103.74382695433385\n",
      "Iteration 172, the loss is 279.6371846469785, parameters k is -12.656843611091919 and b is 103.74049878425866\n",
      "Iteration 173, the loss is 279.6258327274983, parameters k is -12.656318537972782 and b is 103.73717066852556\n",
      "Iteration 174, the loss is 279.6144813544944, parameters k is -12.655793627511281 and b is 103.73384260923878\n",
      "Iteration 175, the loss is 279.6031305278581, parameters k is -12.655268867407768 and b is 103.7305146083299\n",
      "Iteration 176, the loss is 279.59178024749497, parameters k is -12.65474424637058 and b is 103.72718666757204\n",
      "Iteration 177, the loss is 279.5804305133208, parameters k is -12.654219754033434 and b is 103.72385878859288\n",
      "Iteration 178, the loss is 279.56908132526047, parameters k is -12.65369538087959 and b is 103.72053097288652\n",
      "Iteration 179, the loss is 279.5577326832469, parameters k is -12.653171118172219 and b is 103.71720322182448\n",
      "Iteration 180, the loss is 279.54638458721917, parameters k is -12.652646957890495 and b is 103.71387553666567\n",
      "Iteration 181, the loss is 279.5350370371217, parameters k is -12.652122892670906 and b is 103.71054791856572\n",
      "Iteration 182, the loss is 279.52369003290374, parameters k is -12.651598915753395 and b is 103.70722036858537\n",
      "Iteration 183, the loss is 279.51234357451847, parameters k is -12.651075020931893 and b is 103.70389288769827\n",
      "Iteration 184, the loss is 279.50099766192153, parameters k is -12.650551202508924 and b is 103.70056547679813\n",
      "Iteration 185, the loss is 279.48965229507274, parameters k is -12.65002745525392 and b is 103.69723813670524\n",
      "Iteration 186, the loss is 279.4783074739333, parameters k is -12.64950377436496 and b is 103.69391086817251\n",
      "Iteration 187, the loss is 279.46696319846575, parameters k is -12.648980155433637 and b is 103.690583671891\n",
      "Iteration 188, the loss is 279.45561946863626, parameters k is -12.648456594412806 and b is 103.68725654849499\n",
      "Iteration 189, the loss is 279.44427628441, parameters k is -12.647933087586983 and b is 103.68392949856657\n",
      "Iteration 190, the loss is 279.4329336457554, parameters k is -12.647409631545159 and b is 103.68060252264\n",
      "Iteration 191, the loss is 279.4215915526403, parameters k is -12.646886223155846 and b is 103.67727562120561\n",
      "Iteration 192, the loss is 279.4102500050344, parameters k is -12.646362859544173 and b is 103.67394879471335\n",
      "Iteration 193, the loss is 279.39890900290703, parameters k is -12.645839538070852 and b is 103.67062204357619\n",
      "Iteration 194, the loss is 279.3875685462297, parameters k is -12.645316256312874 and b is 103.66729536817304\n",
      "Iteration 195, the loss is 279.3762286349734, parameters k is -12.644793012045781 and b is 103.66396876885165\n",
      "Iteration 196, the loss is 279.3648892691087, parameters k is -12.644269803227393 and b is 103.66064224593106\n",
      "Iteration 197, the loss is 279.353550448609, parameters k is -12.643746627982875 and b is 103.65731579970405\n",
      "Iteration 198, the loss is 279.34221217344475, parameters k is -12.643223484591015 and b is 103.65398943043924\n",
      "Iteration 199, the loss is 279.3308744435901, parameters k is -12.642700371471639 and b is 103.65066313838305\n"
     ]
    }
   ],
   "source": [
    "#initialized parameters\n",
    "\n",
    "k = random.random() * 200 - 100  # -100 100\n",
    "b = random.random() * 200 - 100  # -100 100\n",
    "\n",
    "learning_rate = 1e-3\n",
    "\n",
    "iteration_num = 200 \n",
    "losses = []\n",
    "for i in range(iteration_num):\n",
    "    \n",
    "    price_use_current_parameters = [price(r, k, b) for r in X_rm]  # \\hat{y}\n",
    "    \n",
    "    current_loss = loss(y, price_use_current_parameters)\n",
    "    losses.append(current_loss)\n",
    "    print(\"Iteration {}, the loss is {}, parameters k is {} and b is {}\".format(i,current_loss,k,b))\n",
    "    \n",
    "    k_gradient = partial_derivative_k(X_rm, y, price_use_current_parameters)\n",
    "    b_gradient = partial_derivative_b(y, price_use_current_parameters)\n",
    "    \n",
    "    k = k + (-1 * k_gradient) * learning_rate\n",
    "    b = b + (-1 * b_gradient) * learning_rate\n",
    "best_k = k\n",
    "best_b = b"
   ]
  },
  {
   "cell_type": "code",
   "execution_count": 44,
   "metadata": {},
   "outputs": [
    {
     "data": {
      "text/plain": [
       "[<matplotlib.lines.Line2D at 0x40b4641630>]"
      ]
     },
     "execution_count": 44,
     "metadata": {},
     "output_type": "execute_result"
    },
    {
     "data": {
      "image/png": "[encoded data removed]",
      "text/plain": [
       "<Figure size 432x288 with 1 Axes>"
      ]
     },
     "metadata": {
      "needs_background": "light"
     },
     "output_type": "display_data"
    }
   ],
   "source": [
    "plt.plot(list(range(iteration_num)),losses)"
   ]
  },
  {
   "cell_type": "code",
   "execution_count": 45,
   "metadata": {},
   "outputs": [
    {
     "data": {
      "text/plain": [
       "<matplotlib.collections.PathCollection at 0x40b467afd0>"
      ]
     },
     "execution_count": 45,
     "metadata": {},
     "output_type": "execute_result"
    },
    {
     "data": {
      "image/png": "[encoded data removed]",
      "text/plain": [
       "<Figure size 432x288 with 1 Axes>"
      ]
     },
     "metadata": {
      "needs_background": "light"
     },
     "output_type": "display_data"
    }
   ],
   "source": [
    "price_use_best_parameters = [price(r, best_k, best_b) for r in X_rm]\n",
    "\n",
    "plt.scatter(X_rm,y)\n",
    "plt.scatter(X_rm,price_use_current_parameters)"
   ]
  },
  {
   "cell_type": "code",
   "execution_count": null,
   "metadata": {},
   "outputs": [],
   "source": []
  },
  {
   "cell_type": "code",
   "execution_count": null,
   "metadata": {},
   "outputs": [],
   "source": []
  }
 ],
 "metadata": {
  "kernelspec": {
   "display_name": "Python 3",
   "language": "python",
   "name": "python3"
  },
  "language_info": {
   "codemirror_mode": {
    "name": "ipython",
    "version": 3
   },
   "file_extension": ".py",
   "mimetype": "text/x-python",
   "name": "python",
   "nbconvert_exporter": "python",
   "pygments_lexer": "ipython3",
   "version": "3.7.3"
  },
  "toc": {
   "base_numbering": 1,
   "nav_menu": {},
   "number_sections": false,
   "sideBar": true,
   "skip_h1_title": false,
   "title_cell": "Table of Contents",
   "title_sidebar": "Contents",
   "toc_cell": false,
   "toc_position": {},
   "toc_section_display": true,
   "toc_window_display": false
  }
 },
 "nbformat": 4,
 "nbformat_minor": 2
}
