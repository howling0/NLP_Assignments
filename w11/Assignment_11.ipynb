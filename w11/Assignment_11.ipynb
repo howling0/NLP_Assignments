{
 "cells": [
  {
   "cell_type": "markdown",
   "metadata": {},
   "source": [
    "### Decorator"
   ]
  },
  {
   "cell_type": "code",
   "execution_count": 1,
   "metadata": {},
   "outputs": [],
   "source": [
    "import time"
   ]
  },
  {
   "cell_type": "code",
   "execution_count": 2,
   "metadata": {},
   "outputs": [],
   "source": [
    "def timer(func):\n",
    "    def wrapper(*args):\n",
    "        start = time.time()\n",
    "        result = func(*args)\n",
    "        end = time.time()\n",
    "        print('Time cost: {}'.format(end-start))\n",
    "        return result\n",
    "    return wrapper"
   ]
  },
  {
   "cell_type": "markdown",
   "metadata": {},
   "source": [
    "### Fibonacci"
   ]
  },
  {
   "cell_type": "markdown",
   "metadata": {},
   "source": [
    "#### Naive"
   ]
  },
  {
   "cell_type": "code",
   "execution_count": 13,
   "metadata": {},
   "outputs": [],
   "source": [
    "@timer\n",
    "def get_fib_naive(n):\n",
    "    return fib_naive(n)"
   ]
  },
  {
   "cell_type": "code",
   "execution_count": 14,
   "metadata": {},
   "outputs": [],
   "source": [
    "def fib_naive(n):\n",
    "    if n <=2:\n",
    "        return 1\n",
    "    else:\n",
    "        return fib_naive(n-1) + fib_naive(n-2)"
   ]
  },
  {
   "cell_type": "code",
   "execution_count": 15,
   "metadata": {},
   "outputs": [
    {
     "name": "stdout",
     "output_type": "stream",
     "text": [
      "Time cost: 28.81243920326233\n"
     ]
    },
    {
     "data": {
      "text/plain": [
       "102334155"
      ]
     },
     "execution_count": 15,
     "metadata": {},
     "output_type": "execute_result"
    }
   ],
   "source": [
    "get_fib_naive(40)"
   ]
  },
  {
   "cell_type": "markdown",
   "metadata": {},
   "source": [
    "#### Memo"
   ]
  },
  {
   "cell_type": "code",
   "execution_count": 16,
   "metadata": {},
   "outputs": [],
   "source": [
    "from collections import defaultdict"
   ]
  },
  {
   "cell_type": "code",
   "execution_count": 17,
   "metadata": {},
   "outputs": [],
   "source": [
    "import pdb"
   ]
  },
  {
   "cell_type": "code",
   "execution_count": 18,
   "metadata": {},
   "outputs": [],
   "source": [
    "@timer\n",
    "def get_fib_memo(n):\n",
    "    memo = defaultdict()\n",
    "    return fib_memo(n, memo)"
   ]
  },
  {
   "cell_type": "code",
   "execution_count": 19,
   "metadata": {},
   "outputs": [],
   "source": [
    "def fib_memo(n, memo):\n",
    "    if n in memo:\n",
    "        return memo[n]\n",
    "    else:\n",
    "        if n <= 2:\n",
    "            memo[n] = 1\n",
    "            return 1\n",
    "        else:\n",
    "            result = fib_memo(n-1, memo) + fib_memo(n-2, memo)\n",
    "            memo[n] = result\n",
    "            return result"
   ]
  },
  {
   "cell_type": "code",
   "execution_count": 20,
   "metadata": {},
   "outputs": [
    {
     "name": "stdout",
     "output_type": "stream",
     "text": [
      "Time cost: 0.002000570297241211\n"
     ]
    },
    {
     "data": {
      "text/plain": [
       "43466557686937456435688527675040625802564660517371780402481729089536555417949051890403879840079255169295922593080322634775209689623239873322471161642996440906533187938298969649928516003704476137795166849228875"
      ]
     },
     "execution_count": 20,
     "metadata": {},
     "output_type": "execute_result"
    }
   ],
   "source": [
    "get_fib_memo(1000)"
   ]
  },
  {
   "cell_type": "markdown",
   "metadata": {},
   "source": [
    "#### Memo Decorator"
   ]
  },
  {
   "cell_type": "code",
   "execution_count": 21,
   "metadata": {},
   "outputs": [],
   "source": [
    "from functools import wraps"
   ]
  },
  {
   "cell_type": "code",
   "execution_count": 22,
   "metadata": {},
   "outputs": [],
   "source": [
    "def memo(func):\n",
    "    memo.already_computed = {}\n",
    "    @wraps(func)\n",
    "    def _wrap(arg):\n",
    "        if arg in memo.already_computed:\n",
    "            result = memo.already_computed[arg]\n",
    "        else:\n",
    "            result = func(arg)\n",
    "            memo.already_computed[arg] = result\n",
    "        return result\n",
    "    return _wrap"
   ]
  },
  {
   "cell_type": "code",
   "execution_count": 23,
   "metadata": {},
   "outputs": [],
   "source": [
    "@timer\n",
    "def get_fib_memo_dec(n):\n",
    "    return fib_memo_decorated(n)"
   ]
  },
  {
   "cell_type": "code",
   "execution_count": 24,
   "metadata": {},
   "outputs": [],
   "source": [
    "@memo\n",
    "def fib_memo_decorated(n):\n",
    "    if n <= 2:\n",
    "        return 1\n",
    "    else:\n",
    "        result = fib_memo_decorated(n-1) + fib_memo_decorated(n-2)\n",
    "        return result"
   ]
  },
  {
   "cell_type": "code",
   "execution_count": 25,
   "metadata": {},
   "outputs": [
    {
     "name": "stdout",
     "output_type": "stream",
     "text": [
      "Time cost: 0.0010001659393310547\n"
     ]
    },
    {
     "data": {
      "text/plain": [
       "43466557686937456435688527675040625802564660517371780402481729089536555417949051890403879840079255169295922593080322634775209689623239873322471161642996440906533187938298969649928516003704476137795166849228875"
      ]
     },
     "execution_count": 25,
     "metadata": {},
     "output_type": "execute_result"
    }
   ],
   "source": [
    "get_fib_memo_dec(1000)"
   ]
  },
  {
   "cell_type": "markdown",
   "metadata": {},
   "source": [
    "#### bottum up"
   ]
  },
  {
   "cell_type": "code",
   "execution_count": 26,
   "metadata": {},
   "outputs": [],
   "source": [
    "@timer\n",
    "def fib_bottum_up(n):\n",
    "    if n <= 2:\n",
    "        return 1\n",
    "    fibs = [1] * n\n",
    "    for i in range(2,n):\n",
    "        fibs[i] = fibs[i - 1] + fibs[i - 2]\n",
    "    return fibs[-1]"
   ]
  },
  {
   "cell_type": "code",
   "execution_count": 27,
   "metadata": {},
   "outputs": [
    {
     "name": "stdout",
     "output_type": "stream",
     "text": [
      "Time cost: 0.0010004043579101562\n"
     ]
    },
    {
     "data": {
      "text/plain": [
       "43466557686937456435688527675040625802564660517371780402481729089536555417949051890403879840079255169295922593080322634775209689623239873322471161642996440906533187938298969649928516003704476137795166849228875"
      ]
     },
     "execution_count": 27,
     "metadata": {},
     "output_type": "execute_result"
    }
   ],
   "source": [
    "fib_bottum_up(1000)"
   ]
  },
  {
   "cell_type": "markdown",
   "metadata": {},
   "source": [
    "### Cut Rod"
   ]
  },
  {
   "cell_type": "markdown",
   "metadata": {},
   "source": [
    "#### Defaultdict"
   ]
  },
  {
   "cell_type": "code",
   "execution_count": 28,
   "metadata": {},
   "outputs": [],
   "source": [
    "from collections import defaultdict"
   ]
  },
  {
   "cell_type": "code",
   "execution_count": 29,
   "metadata": {},
   "outputs": [],
   "source": [
    "price_list = [1, 5, 8, 9, 10, 17, 17, 20, 24, 30, 35]"
   ]
  },
  {
   "cell_type": "code",
   "execution_count": 30,
   "metadata": {},
   "outputs": [],
   "source": [
    "price = defaultdict(int)"
   ]
  },
  {
   "cell_type": "code",
   "execution_count": 31,
   "metadata": {},
   "outputs": [],
   "source": [
    "for i,v in enumerate(price_list):\n",
    "    price[i + 1] = v"
   ]
  },
  {
   "cell_type": "code",
   "execution_count": 32,
   "metadata": {},
   "outputs": [
    {
     "data": {
      "text/plain": [
       "30"
      ]
     },
     "execution_count": 32,
     "metadata": {},
     "output_type": "execute_result"
    }
   ],
   "source": [
    "price[10]"
   ]
  },
  {
   "cell_type": "code",
   "execution_count": 33,
   "metadata": {},
   "outputs": [
    {
     "data": {
      "text/plain": [
       "0"
      ]
     },
     "execution_count": 33,
     "metadata": {},
     "output_type": "execute_result"
    }
   ],
   "source": [
    "price[100]"
   ]
  },
  {
   "cell_type": "markdown",
   "metadata": {},
   "source": [
    "#### Naive"
   ]
  },
  {
   "cell_type": "code",
   "execution_count": 34,
   "metadata": {},
   "outputs": [],
   "source": [
    "def cut_naive(n):\n",
    "    return max([price[n]] + [cut_naive(i) + cut_naive(n-i) for i in range(1,n)])"
   ]
  },
  {
   "cell_type": "code",
   "execution_count": 35,
   "metadata": {},
   "outputs": [],
   "source": [
    "@timer\n",
    "def get_max_cut_naive(n):\n",
    "    return cut_naive(n)"
   ]
  },
  {
   "cell_type": "code",
   "execution_count": 36,
   "metadata": {},
   "outputs": [
    {
     "name": "stdout",
     "output_type": "stream",
     "text": [
      "Time cost: 5.201864719390869\n"
     ]
    },
    {
     "data": {
      "text/plain": [
       "45"
      ]
     },
     "execution_count": 36,
     "metadata": {},
     "output_type": "execute_result"
    }
   ],
   "source": [
    "get_max_cut_naive(15)"
   ]
  },
  {
   "cell_type": "markdown",
   "metadata": {},
   "source": [
    "#### Memo Decorator"
   ]
  },
  {
   "cell_type": "code",
   "execution_count": 37,
   "metadata": {},
   "outputs": [],
   "source": [
    "solutions = {}"
   ]
  },
  {
   "cell_type": "code",
   "execution_count": 38,
   "metadata": {},
   "outputs": [],
   "source": [
    "@memo\n",
    "def cut_memo(n):\n",
    "    max_price, split = max([(price[n], 0)] + [(cut_memo(i) + cut_memo(n-i), i) for i in range(1, n)], key=lambda x: x[0])\n",
    "    solutions[n] = (n - split, split)\n",
    "    return max_price"
   ]
  },
  {
   "cell_type": "code",
   "execution_count": 39,
   "metadata": {},
   "outputs": [],
   "source": [
    "@timer\n",
    "def get_max_cut_memo(n):\n",
    "    return cut_memo(n)"
   ]
  },
  {
   "cell_type": "code",
   "execution_count": 40,
   "metadata": {},
   "outputs": [
    {
     "name": "stdout",
     "output_type": "stream",
     "text": [
      "Time cost: 0.0\n"
     ]
    },
    {
     "data": {
      "text/plain": [
       "45"
      ]
     },
     "execution_count": 40,
     "metadata": {},
     "output_type": "execute_result"
    }
   ],
   "source": [
    "get_max_cut_memo(15)"
   ]
  },
  {
   "cell_type": "code",
   "execution_count": 41,
   "metadata": {},
   "outputs": [
    {
     "data": {
      "text/plain": [
       "{1: (1, 0),\n",
       " 2: (2, 0),\n",
       " 3: (3, 0),\n",
       " 4: (2, 2),\n",
       " 5: (3, 2),\n",
       " 6: (6, 0),\n",
       " 7: (6, 1),\n",
       " 8: (6, 2),\n",
       " 9: (6, 3),\n",
       " 10: (10, 0),\n",
       " 11: (11, 0),\n",
       " 12: (11, 1),\n",
       " 13: (11, 2),\n",
       " 14: (11, 3),\n",
       " 15: (13, 2)}"
      ]
     },
     "execution_count": 41,
     "metadata": {},
     "output_type": "execute_result"
    }
   ],
   "source": [
    "solutions"
   ]
  },
  {
   "cell_type": "markdown",
   "metadata": {},
   "source": [
    "#### parse solution"
   ]
  },
  {
   "cell_type": "code",
   "execution_count": 44,
   "metadata": {},
   "outputs": [],
   "source": [
    "def parse_solution_memo(n):\n",
    "    left, right = solutions[n]\n",
    "    if right == 0: return [left]\n",
    "    return parse_solution_memo(left) + parse_solution_memo(right)"
   ]
  },
  {
   "cell_type": "code",
   "execution_count": 45,
   "metadata": {},
   "outputs": [
    {
     "data": {
      "text/plain": [
       "[11, 2, 2]"
      ]
     },
     "execution_count": 45,
     "metadata": {},
     "output_type": "execute_result"
    }
   ],
   "source": [
    "parse_solution_memo(15)"
   ]
  },
  {
   "cell_type": "markdown",
   "metadata": {},
   "source": [
    "#### bottom up"
   ]
  },
  {
   "cell_type": "code",
   "execution_count": 65,
   "metadata": {},
   "outputs": [],
   "source": [
    "@timer\n",
    "def cut_bottom_up(n):\n",
    "    max_prices = [(price[i],(i,0)) for i in range(n+1)]\n",
    "    for i in range(1, n+1):\n",
    "        temp = max_prices[i]\n",
    "        for j in range(1, (i>>1) + 1):\n",
    "            # 这里只循环到 i/2，因为后面的切法与前半段重复\n",
    "            temp = max([temp, (max_prices[j][0] + max_prices[i - j][0], (j, i-j))], key=lambda x:x[0])\n",
    "        max_prices[i] = temp\n",
    "    return max_prices"
   ]
  },
  {
   "cell_type": "code",
   "execution_count": 66,
   "metadata": {
    "scrolled": false
   },
   "outputs": [
    {
     "name": "stdout",
     "output_type": "stream",
     "text": [
      "Time cost: 0.0\n"
     ]
    },
    {
     "data": {
      "text/plain": [
       "[(0, (0, 0)),\n",
       " (1, (1, 0)),\n",
       " (5, (2, 0)),\n",
       " (8, (3, 0)),\n",
       " (10, (2, 2)),\n",
       " (13, (2, 3)),\n",
       " (17, (6, 0)),\n",
       " (18, (1, 6)),\n",
       " (22, (2, 6)),\n",
       " (25, (3, 6)),\n",
       " (30, (10, 0)),\n",
       " (35, (11, 0)),\n",
       " (36, (1, 11)),\n",
       " (40, (2, 11)),\n",
       " (43, (3, 11)),\n",
       " (45, (2, 13))]"
      ]
     },
     "execution_count": 66,
     "metadata": {},
     "output_type": "execute_result"
    }
   ],
   "source": [
    "max_prices = cut_bottom_up(15)\n",
    "max_prices"
   ]
  },
  {
   "cell_type": "markdown",
   "metadata": {},
   "source": [
    "#### parse solution"
   ]
  },
  {
   "cell_type": "code",
   "execution_count": 67,
   "metadata": {},
   "outputs": [],
   "source": [
    "def parse_solution_bottom_up(n):\n",
    "    left, right = max_prices[n][1]\n",
    "    if right == 0: return [left]\n",
    "    return parse_solution_bottom_up(left) + parse_solution_bottom_up(right)"
   ]
  },
  {
   "cell_type": "code",
   "execution_count": 68,
   "metadata": {},
   "outputs": [
    {
     "data": {
      "text/plain": [
       "[11, 2, 2]"
      ]
     },
     "execution_count": 68,
     "metadata": {},
     "output_type": "execute_result"
    }
   ],
   "source": [
    "parse_solution_memo(15)"
   ]
  },
  {
   "cell_type": "markdown",
   "metadata": {},
   "source": [
    "### Edit Distance"
   ]
  },
  {
   "cell_type": "markdown",
   "metadata": {},
   "source": [
    "#### Recursion"
   ]
  },
  {
   "cell_type": "code",
   "execution_count": 69,
   "metadata": {},
   "outputs": [],
   "source": [
    "from functools import lru_cache"
   ]
  },
  {
   "cell_type": "code",
   "execution_count": 70,
   "metadata": {},
   "outputs": [],
   "source": [
    "operations = {}"
   ]
  },
  {
   "cell_type": "code",
   "execution_count": 127,
   "metadata": {},
   "outputs": [],
   "source": [
    "@lru_cache(maxsize=2**10)\n",
    "def edit_distance(str1, str2):\n",
    "    if not str1 and not str2:\n",
    "        return 0\n",
    "    if not str1:\n",
    "        return len(str2)\n",
    "    if not str2:\n",
    "        return len(str1)\n",
    "    \n",
    "    tail1 = str1[-1]\n",
    "    tail2 = str2[-1]\n",
    "    candidates = [\n",
    "        (edit_distance(str1[:-1], str2) + 1, 'DEL {}'.format(tail1)),\n",
    "        (edit_distance(str1, str2[:-1]) + 1, 'ADD {}'.format(tail2))\n",
    "    ]\n",
    "    if tail1 == tail2:\n",
    "        candidates.append((edit_distance(str1[:-1], str2[:-1]), 'CONTINUE'))\n",
    "    else:\n",
    "        candidates.append((edit_distance(str1[:-1], str2[:-1]) + 1, 'SUB {} => {}'.format(tail1, tail2)))\n",
    "        \n",
    "    min_distance, operation = min(candidates, key=lambda x:x[0])\n",
    "    \n",
    "    operations[(str1, str2)] = operation\n",
    "    return min_distance"
   ]
  },
  {
   "cell_type": "code",
   "execution_count": 128,
   "metadata": {},
   "outputs": [
    {
     "data": {
      "text/plain": [
       "3"
      ]
     },
     "execution_count": 128,
     "metadata": {},
     "output_type": "execute_result"
    }
   ],
   "source": [
    "edit_distance('ABCDECG','ABCCEF')"
   ]
  },
  {
   "cell_type": "code",
   "execution_count": 129,
   "metadata": {},
   "outputs": [
    {
     "data": {
      "text/plain": [
       "{('A', 'A'): 'CONTINUE',\n",
       " ('A', 'AB'): 'ADD B',\n",
       " ('A', 'ABC'): 'ADD C',\n",
       " ('A', 'ABCC'): 'ADD C',\n",
       " ('A', 'ABCCE'): 'ADD E',\n",
       " ('A', 'ABCCEF'): 'ADD F',\n",
       " ('AB', 'A'): 'DEL B',\n",
       " ('AB', 'AB'): 'CONTINUE',\n",
       " ('AB', 'ABC'): 'ADD C',\n",
       " ('AB', 'ABCC'): 'ADD C',\n",
       " ('AB', 'ABCCE'): 'ADD E',\n",
       " ('AB', 'ABCCEF'): 'ADD F',\n",
       " ('ABC', 'A'): 'DEL C',\n",
       " ('ABC', 'AB'): 'DEL C',\n",
       " ('ABC', 'ABC'): 'CONTINUE',\n",
       " ('ABC', 'ABCC'): 'ADD C',\n",
       " ('ABC', 'ABCCE'): 'ADD E',\n",
       " ('ABC', 'ABCCEF'): 'ADD F',\n",
       " ('ABCD', 'A'): 'DEL D',\n",
       " ('ABCD', 'AB'): 'DEL D',\n",
       " ('ABCD', 'ABC'): 'DEL D',\n",
       " ('ABCD', 'ABCC'): 'SUB D => C',\n",
       " ('ABCD', 'ABCCE'): 'ADD E',\n",
       " ('ABCD', 'ABCCEF'): 'ADD F',\n",
       " ('ABCDE', 'A'): 'DEL E',\n",
       " ('ABCDE', 'AB'): 'DEL E',\n",
       " ('ABCDE', 'ABC'): 'DEL E',\n",
       " ('ABCDE', 'ABCC'): 'DEL E',\n",
       " ('ABCDE', 'ABCCE'): 'CONTINUE',\n",
       " ('ABCDE', 'ABCCEF'): 'ADD F',\n",
       " ('ABCDEC', 'A'): 'DEL C',\n",
       " ('ABCDEC', 'AB'): 'DEL C',\n",
       " ('ABCDEC', 'ABC'): 'DEL C',\n",
       " ('ABCDEC', 'ABCC'): 'CONTINUE',\n",
       " ('ABCDEC', 'ABCCE'): 'DEL C',\n",
       " ('ABCDEC', 'ABCCEF'): 'SUB C => F',\n",
       " ('ABCDECG', 'A'): 'DEL G',\n",
       " ('ABCDECG', 'AB'): 'DEL G',\n",
       " ('ABCDECG', 'ABC'): 'DEL G',\n",
       " ('ABCDECG', 'ABCC'): 'DEL G',\n",
       " ('ABCDECG', 'ABCCE'): 'DEL G',\n",
       " ('ABCDECG', 'ABCCEF'): 'DEL G'}"
      ]
     },
     "execution_count": 129,
     "metadata": {},
     "output_type": "execute_result"
    }
   ],
   "source": [
    "operations"
   ]
  },
  {
   "cell_type": "markdown",
   "metadata": {},
   "source": [
    "#### parse solution"
   ]
  },
  {
   "cell_type": "code",
   "execution_count": 130,
   "metadata": {},
   "outputs": [],
   "source": [
    "def parse_solution_edit_distance(str1, str2):\n",
    "    if not str1 and not str2:\n",
    "        print(\"END\")\n",
    "        return\n",
    "    if not str1:\n",
    "        print(\"''=>{}, ADD {}\".format(str2, \",\".join([s for s in str2[::-1]])))\n",
    "        return\n",
    "    if not str2:\n",
    "        print(\"{}=>'', DEL {}\".format(str1, \",\".join([s for s in str1[::-1]])))\n",
    "        return\n",
    "    \n",
    "    operation = operations[(str1, str2)]\n",
    "    print(\"{}=>{}, {}\".format(str1, str2, operation))\n",
    "    if \"ADD\" in operation:\n",
    "        parse_solution_edit_distance(str1, str2[:-1])\n",
    "    elif \"DEL\" in operation:\n",
    "        parse_solution_edit_distance(str1[:-1], str2)\n",
    "    else:\n",
    "        parse_solution_edit_distance(str1[:-1], str2[:-1])"
   ]
  },
  {
   "cell_type": "code",
   "execution_count": 131,
   "metadata": {},
   "outputs": [
    {
     "name": "stdout",
     "output_type": "stream",
     "text": [
      "ABCDECG=>ABCCEF, DEL G\n",
      "ABCDEC=>ABCCEF, SUB C => F\n",
      "ABCDE=>ABCCE, CONTINUE\n",
      "ABCD=>ABCC, SUB D => C\n",
      "ABC=>ABC, CONTINUE\n",
      "AB=>AB, CONTINUE\n",
      "A=>A, CONTINUE\n",
      "END\n"
     ]
    }
   ],
   "source": [
    "parse_solution_edit_distance('ABCDECG','ABCCEF')"
   ]
  },
  {
   "cell_type": "markdown",
   "metadata": {},
   "source": [
    "#### Loop"
   ]
  },
  {
   "cell_type": "code",
   "execution_count": 206,
   "metadata": {},
   "outputs": [],
   "source": [
    "@timer\n",
    "def edit_distance_loop(str1, str2):\n",
    "    if not str1:\n",
    "        return len(str2)\n",
    "    if not str2:\n",
    "        return len(str1)\n",
    "    n = len(str1)\n",
    "    m = len(str2)\n",
    "    dp = [[0 for i in range(m + 1)] for j in range(n + 1)]\n",
    "    dp[0][0] = (0, \"CONTINUE\")\n",
    "    for i in range(1, n + 1):\n",
    "        dp[i][0] = (i, \"DEL {}\".format(str1[i-1]))\n",
    "    for j in range(1, m + 1):\n",
    "        dp[0][j] = (j, \"ADD {}\".format(str2[j-1]))\n",
    "    for i in range(1, n + 1):\n",
    "        for j in range(1, m + 1):\n",
    "            candidates = [\n",
    "                (dp[i - 1][j][0] + 1, \"DEL {}\".format(str1[i-1])),\n",
    "                (dp[i][j - 1][0] + 1, \"ADD {}\".format(str2[j-1])),\n",
    "            ]\n",
    "            if str1[i - 1] == str2[j - 1]:\n",
    "                candidates.append((dp[i - 1][j - 1][0], \"CONTINUE\"))\n",
    "            else:\n",
    "                candidates.append((dp[i - 1][j - 1][0] + 1, \"SUB {}=>{}\".format(str1[i-1], str2[j-1])))\n",
    "            dp[i][j] = min(candidates, key=lambda x:x[0])\n",
    "    return dp"
   ]
  },
  {
   "cell_type": "code",
   "execution_count": 214,
   "metadata": {},
   "outputs": [
    {
     "name": "stdout",
     "output_type": "stream",
     "text": [
      "Time cost: 0.0\n"
     ]
    }
   ],
   "source": [
    "str1 = 'ABCDECG'\n",
    "str2 = 'ABCCEF'\n",
    "ops = edit_distance_loop(str1,str2)"
   ]
  },
  {
   "cell_type": "markdown",
   "metadata": {},
   "source": [
    "#### parse solution"
   ]
  },
  {
   "cell_type": "code",
   "execution_count": 215,
   "metadata": {},
   "outputs": [],
   "source": [
    "def print_ops(str1, str2, ops):\n",
    "    str1 = \"_\"+str1\n",
    "    str2 = \" _\"+str2\n",
    "    for j in range(len(str2)):\n",
    "        print(str2[j], end=\" \"*12)\n",
    "    print(\"\")\n",
    "    for i in range(len(str1)):\n",
    "        print([str1[i]]+ops[i])"
   ]
  },
  {
   "cell_type": "code",
   "execution_count": 216,
   "metadata": {},
   "outputs": [
    {
     "name": "stdout",
     "output_type": "stream",
     "text": [
      "             _            A            B            C            C            E            F            \n",
      "['_', (0, 'CONTINUE'), (1, 'ADD A'), (2, 'ADD B'), (3, 'ADD C'), (4, 'ADD C'), (5, 'ADD E'), (6, 'ADD F')]\n",
      "['A', (1, 'DEL A'), (0, 'CONTINUE'), (1, 'ADD B'), (2, 'ADD C'), (3, 'ADD C'), (4, 'ADD E'), (5, 'ADD F')]\n",
      "['B', (2, 'DEL B'), (1, 'DEL B'), (0, 'CONTINUE'), (1, 'ADD C'), (2, 'ADD C'), (3, 'ADD E'), (4, 'ADD F')]\n",
      "['C', (3, 'DEL C'), (2, 'DEL C'), (1, 'DEL C'), (0, 'CONTINUE'), (1, 'ADD C'), (2, 'ADD E'), (3, 'ADD F')]\n",
      "['D', (4, 'DEL D'), (3, 'DEL D'), (2, 'DEL D'), (1, 'DEL D'), (1, 'SUB D=>C'), (2, 'ADD E'), (3, 'ADD F')]\n",
      "['E', (5, 'DEL E'), (4, 'DEL E'), (3, 'DEL E'), (2, 'DEL E'), (2, 'DEL E'), (1, 'CONTINUE'), (2, 'ADD F')]\n",
      "['C', (6, 'DEL C'), (5, 'DEL C'), (4, 'DEL C'), (3, 'DEL C'), (2, 'CONTINUE'), (2, 'DEL C'), (2, 'SUB C=>F')]\n",
      "['G', (7, 'DEL G'), (6, 'DEL G'), (5, 'DEL G'), (4, 'DEL G'), (3, 'DEL G'), (3, 'DEL G'), (3, 'DEL G')]\n"
     ]
    }
   ],
   "source": [
    "print_ops(str1, str2, ops)"
   ]
  },
  {
   "cell_type": "code",
   "execution_count": 217,
   "metadata": {},
   "outputs": [],
   "source": [
    "def parse_ops(str1, str2):\n",
    "    if not str1 and not str2:\n",
    "        return\n",
    "    if not str1:\n",
    "        print(\"''=>{}, ADD {}\".format(str2, \",\".join([s for s in str2[::-1]])))\n",
    "        return\n",
    "    if not str2:\n",
    "        print(\"{}=>'', DEL {}\".format(str1, \",\".join([s for s in str1[::-1]])))\n",
    "        return\n",
    "    op = ops[len(str1)][len(str2)][1]\n",
    "    print(\"{}=>{}, {}\".format(str1, str2, op))\n",
    "    if \"ADD\" in op:\n",
    "        parse_ops(str1, str2[:-1])\n",
    "    elif \"DEL\" in op:\n",
    "        parse_ops(str1[:-1], str2)\n",
    "    else:\n",
    "        parse_ops(str1[:-1], str2[:-1])"
   ]
  },
  {
   "cell_type": "code",
   "execution_count": 218,
   "metadata": {
    "scrolled": true
   },
   "outputs": [
    {
     "name": "stdout",
     "output_type": "stream",
     "text": [
      "ABCDECG=>ABCCEF, DEL G\n",
      "ABCDEC=>ABCCEF, SUB C=>F\n",
      "ABCDE=>ABCCE, CONTINUE\n",
      "ABCD=>ABCC, SUB D=>C\n",
      "ABC=>ABC, CONTINUE\n",
      "AB=>AB, CONTINUE\n",
      "A=>A, CONTINUE\n"
     ]
    }
   ],
   "source": [
    "parse_ops(str1, str2)"
   ]
  },
  {
   "cell_type": "markdown",
   "metadata": {},
   "source": [
    "### Pinyin auto-correction"
   ]
  },
  {
   "cell_type": "code",
   "execution_count": 3,
   "metadata": {},
   "outputs": [],
   "source": [
    "import pinyin\n",
    "import re\n",
    "from collections import Counter, defaultdict"
   ]
  },
  {
   "cell_type": "code",
   "execution_count": 4,
   "metadata": {},
   "outputs": [],
   "source": [
    "chinese_dataset = './article_9k.txt'\n",
    "CHINESE_CHARACTERS = open(chinese_dataset, encoding='utf-8').read()"
   ]
  },
  {
   "cell_type": "code",
   "execution_count": 5,
   "metadata": {},
   "outputs": [
    {
     "data": {
      "text/plain": [
       "'此外自本周6月12日起除小米手机6等15款机型外其余机型已暂停更新发布含开发版体'"
      ]
     },
     "execution_count": 5,
     "metadata": {},
     "output_type": "execute_result"
    }
   ],
   "source": [
    "CHINESE_CHARACTERS[:40]"
   ]
  },
  {
   "cell_type": "code",
   "execution_count": 6,
   "metadata": {},
   "outputs": [
    {
     "data": {
      "text/plain": [
       "'ci wai zi ben zhou 6 yue 1 2 ri qi chu xiao mi shou ji 6 deng 1 5 kuan ji xing wai qi yu ji xing yi zan ting geng xin fa bu han kai fa ban ti'"
      ]
     },
     "execution_count": 6,
     "metadata": {},
     "output_type": "execute_result"
    }
   ],
   "source": [
    "pinyin.get(CHINESE_CHARACTERS[:40], format='strip',delimiter=' ')"
   ]
  },
  {
   "cell_type": "code",
   "execution_count": 7,
   "metadata": {},
   "outputs": [],
   "source": [
    "def to_pinyin(characters):\n",
    "    return pinyin.get(characters, format='strip', delimiter=' ')"
   ]
  },
  {
   "cell_type": "code",
   "execution_count": 8,
   "metadata": {},
   "outputs": [],
   "source": [
    "CHINESE_PINYIN = to_pinyin(CHINESE_CHARACTERS)"
   ]
  },
  {
   "cell_type": "code",
   "execution_count": 9,
   "metadata": {
    "scrolled": true
   },
   "outputs": [
    {
     "data": {
      "text/plain": [
       "129412578"
      ]
     },
     "execution_count": 9,
     "metadata": {},
     "output_type": "execute_result"
    }
   ],
   "source": [
    "len(CHINESE_PINYIN)"
   ]
  },
  {
   "cell_type": "code",
   "execution_count": 10,
   "metadata": {},
   "outputs": [
    {
     "data": {
      "text/plain": [
       "'ci wai zi ben zhou 6 yue 1 2 ri qi chu xiao mi shou ji 6 deng 1 5 kuan ji xing wai qi yu ji xing yi '"
      ]
     },
     "execution_count": 10,
     "metadata": {},
     "output_type": "execute_result"
    }
   ],
   "source": [
    "CHINESE_PINYIN[:100]"
   ]
  },
  {
   "cell_type": "code",
   "execution_count": 11,
   "metadata": {},
   "outputs": [],
   "source": [
    "def tokens(text):\n",
    "    return re.findall('[a-z]+', text.lower())"
   ]
  },
  {
   "cell_type": "code",
   "execution_count": 12,
   "metadata": {},
   "outputs": [
    {
     "data": {
      "text/plain": [
       "['ci',\n",
       " 'wai',\n",
       " 'zi',\n",
       " 'ben',\n",
       " 'zhou',\n",
       " 'yue',\n",
       " 'ri',\n",
       " 'qi',\n",
       " 'chu',\n",
       " 'xiao',\n",
       " 'mi',\n",
       " 'shou',\n",
       " 'ji',\n",
       " 'deng',\n",
       " 'kuan',\n",
       " 'ji',\n",
       " 'xing',\n",
       " 'wai',\n",
       " 'qi',\n",
       " 'yu',\n",
       " 'ji',\n",
       " 'xing',\n",
       " 'yi']"
      ]
     },
     "execution_count": 12,
     "metadata": {},
     "output_type": "execute_result"
    }
   ],
   "source": [
    "tokens(CHINESE_PINYIN[:100])"
   ]
  },
  {
   "cell_type": "code",
   "execution_count": 13,
   "metadata": {},
   "outputs": [],
   "source": [
    "CHINESE_PINYIN_TOKENS = tokens(CHINESE_PINYIN)"
   ]
  },
  {
   "cell_type": "code",
   "execution_count": 14,
   "metadata": {},
   "outputs": [],
   "source": [
    "PINYIN_COUNT = Counter(CHINESE_PINYIN_TOKENS)"
   ]
  },
  {
   "cell_type": "code",
   "execution_count": 15,
   "metadata": {},
   "outputs": [
    {
     "data": {
      "text/plain": [
       "420"
      ]
     },
     "execution_count": 15,
     "metadata": {},
     "output_type": "execute_result"
    }
   ],
   "source": [
    "len(PINYIN_COUNT)"
   ]
  },
  {
   "cell_type": "code",
   "execution_count": 16,
   "metadata": {},
   "outputs": [],
   "source": [
    "alphabet = 'abcdefghijklmnopqrstuvwxyz'\n",
    "\n",
    "def splits(word):\n",
    "    # 依次对拼音中每个位置进行切分\n",
    "    return [(word[:i], word[i:]) for i in range(len(word)+1)]\n",
    "\n",
    "def known(words, count, edits):\n",
    "    # 返回输入词中所有在count中的词语，所有词语均不在其中时，返回空\n",
    "    known_words = {w for w in words if w in count}\n",
    "    if known_words:\n",
    "        return known_words, edits\n",
    "    else:\n",
    "        return None\n",
    "\n",
    "def edits0(word):\n",
    "    # 返回编辑距离为0的词的集合，即原词\n",
    "    return {word}\n",
    "\n",
    "def edits1(word):\n",
    "    # 返回编辑距离为1的词的集合\n",
    "    pairs = splits(word)\n",
    "    deletes = [a+b[1:] for (a,b) in pairs if b]\n",
    "    transposes = [a+b[1]+b[0]+b[2:] for (a,b) in pairs if len(b) > 1]\n",
    "    replaces = [a+c+b[1:] for (a,b) in pairs for c in alphabet if b]\n",
    "    inserts = [a+c+b for (a,b) in pairs for c in alphabet]\n",
    "    return set(deletes + transposes + replaces + inserts)\n",
    "\n",
    "def edits2(word):\n",
    "    # 返回编辑距离为2的词的集合\n",
    "    return {e2 for e1 in edits1(word) for e2 in edits1(e1)}"
   ]
  },
  {
   "cell_type": "code",
   "execution_count": 17,
   "metadata": {},
   "outputs": [],
   "source": [
    "def correct(word, count):\n",
    "    '''\n",
    "    依据编辑距离，找出输入内容对应最有可能的正确拼音\n",
    "    '''\n",
    "    # 用or依次判断每个集合是否为空，返回第一个不为空的集合\n",
    "    # 如果当前集合为空，则判断下一个集合，否则返回当前集合\n",
    "    # 可以达到优先选取的效果，顺序为edits0->edits1->edits2->原词\n",
    "    candidates = (known(edits0(word), count, 0) or\n",
    "                  known(edits1(word), count, 1) or\n",
    "                  known(edits2(word), count, 2) or\n",
    "                  ([word],3))\n",
    "    return max(candidates[0],key=count.get), candidates[1]"
   ]
  },
  {
   "cell_type": "code",
   "execution_count": 18,
   "metadata": {},
   "outputs": [],
   "source": [
    "word = 'pin'"
   ]
  },
  {
   "cell_type": "code",
   "execution_count": 19,
   "metadata": {},
   "outputs": [
    {
     "data": {
      "text/plain": [
       "({'bin',\n",
       "  'jin',\n",
       "  'lin',\n",
       "  'min',\n",
       "  'nin',\n",
       "  'pan',\n",
       "  'pen',\n",
       "  'pi',\n",
       "  'pian',\n",
       "  'pie',\n",
       "  'pin',\n",
       "  'ping',\n",
       "  'qin',\n",
       "  'xin',\n",
       "  'yin'},\n",
       " 1)"
      ]
     },
     "execution_count": 19,
     "metadata": {},
     "output_type": "execute_result"
    }
   ],
   "source": [
    "known(edits1(word), PINYIN_COUNT, 1)"
   ]
  },
  {
   "cell_type": "code",
   "execution_count": 20,
   "metadata": {},
   "outputs": [
    {
     "data": {
      "text/plain": [
       "('pin', 0)"
      ]
     },
     "execution_count": 20,
     "metadata": {},
     "output_type": "execute_result"
    }
   ],
   "source": [
    "correct('pin', PINYIN_COUNT)"
   ]
  },
  {
   "cell_type": "code",
   "execution_count": 21,
   "metadata": {},
   "outputs": [
    {
     "data": {
      "text/plain": [
       "('ping', 1)"
      ]
     },
     "execution_count": 21,
     "metadata": {},
     "output_type": "execute_result"
    }
   ],
   "source": [
    "correct('pign', PINYIN_COUNT)"
   ]
  },
  {
   "cell_type": "code",
   "execution_count": 22,
   "metadata": {},
   "outputs": [
    {
     "data": {
      "text/plain": [
       "('ping', 2)"
      ]
     },
     "execution_count": 22,
     "metadata": {},
     "output_type": "execute_result"
    }
   ],
   "source": [
    "correct('pinnag', PINYIN_COUNT)"
   ]
  },
  {
   "cell_type": "code",
   "execution_count": 23,
   "metadata": {},
   "outputs": [],
   "source": [
    "def correct_sequence_pinyin(text):\n",
    "    return ' '.join([w[0] for w in map(lambda x:correct(x, PINYIN_COUNT), text.split())])"
   ]
  },
  {
   "cell_type": "code",
   "execution_count": 24,
   "metadata": {},
   "outputs": [
    {
     "data": {
      "text/plain": [
       "'zhe shi yi ge ce shi'"
      ]
     },
     "execution_count": 24,
     "metadata": {},
     "output_type": "execute_result"
    }
   ],
   "source": [
    "correct_sequence_pinyin('zhe sih yi ge ce sho')"
   ]
  },
  {
   "cell_type": "code",
   "execution_count": 25,
   "metadata": {},
   "outputs": [
    {
     "data": {
      "text/plain": [
       "'wo xiang shang qing hua da xue'"
      ]
     },
     "execution_count": 25,
     "metadata": {},
     "output_type": "execute_result"
    }
   ],
   "source": [
    "correct_sequence_pinyin('wo xiang shagn qinng hua da xeu')"
   ]
  },
  {
   "cell_type": "code",
   "execution_count": 26,
   "metadata": {},
   "outputs": [
    {
     "data": {
      "text/plain": [
       "'zhe jiang gong ye da xue'"
      ]
     },
     "execution_count": 26,
     "metadata": {},
     "output_type": "execute_result"
    }
   ],
   "source": [
    "correct_sequence_pinyin('zhe jiang gogn ye da xue')"
   ]
  },
  {
   "cell_type": "markdown",
   "metadata": {},
   "source": [
    "### 思考题-homework\n",
    "#### 如何在不带空格的时候完成自动修整？--> 如何完成拼音的自动分割？   \n",
    "###### 提示：使用第一节课提到的语言模型!"
   ]
  },
  {
   "cell_type": "code",
   "execution_count": 27,
   "metadata": {},
   "outputs": [],
   "source": [
    "from functools import lru_cache"
   ]
  },
  {
   "cell_type": "code",
   "execution_count": 28,
   "metadata": {},
   "outputs": [],
   "source": [
    "PINYIN_TOKEN_2_GRAM = [''.join(CHINESE_PINYIN_TOKENS[i:i+2]) for i in range(len(CHINESE_PINYIN_TOKENS[:-1]))]"
   ]
  },
  {
   "cell_type": "code",
   "execution_count": 29,
   "metadata": {},
   "outputs": [],
   "source": [
    "PINYIN_COUNT_2_GRAM = Counter(PINYIN_TOKEN_2_GRAM)"
   ]
  },
  {
   "cell_type": "code",
   "execution_count": 238,
   "metadata": {},
   "outputs": [],
   "source": [
    "def prob(word, penalty):\n",
    "    total = sum(PINYIN_COUNT.values())\n",
    "    if word in PINYIN_COUNT:\n",
    "        return (PINYIN_COUNT[word] + 1) / total\n",
    "    else:\n",
    "        corrected, edit_dist = correct(word, PINYIN_COUNT)\n",
    "        if corrected in PINYIN_COUNT:\n",
    "            return penalty[edit_dist] * (PINYIN_COUNT[corrected] + 1) / total\n",
    "        return penalty[-1] / total"
   ]
  },
  {
   "cell_type": "code",
   "execution_count": 239,
   "metadata": {},
   "outputs": [],
   "source": [
    "def prob_2(w1, w2, penalty):\n",
    "    total = sum(PINYIN_COUNT_2_GRAM.values()) + len(PINYIN_COUNT_2_GRAM)\n",
    "    if not w1:\n",
    "        return prob(w2, penalty)\n",
    "    if not w2:\n",
    "        return prbo(w1, penalty)\n",
    "    w1 = correct(w1, PINYIN_COUNT)[0]\n",
    "    combine = w1 + w2\n",
    "    if combine in PINYIN_COUNT_2_GRAM:\n",
    "        return (PINYIN_COUNT_2_GRAM[combine] + 1) / total / prob(w1, penalty)\n",
    "    else:\n",
    "        corrected, edit_dist = correct(combine, PINYIN_COUNT_2_GRAM)\n",
    "        if corrected in PINYIN_COUNT_2_GRAM:\n",
    "            return penalty[edit_dist] * (PINYIN_COUNT_2_GRAM[corrected] + 1) / total / prob(w1, penalty)\n",
    "        return 1 / total"
   ]
  },
  {
   "cell_type": "code",
   "execution_count": 240,
   "metadata": {},
   "outputs": [],
   "source": [
    "# 对编辑距离纠正施加惩罚，对应编辑距离为0，1, 2的情况，以及超过2的情况\n",
    "penalty=[1,1e-5,1e-7,1e-9]"
   ]
  },
  {
   "cell_type": "code",
   "execution_count": 241,
   "metadata": {},
   "outputs": [],
   "source": [
    "cut_points = {}"
   ]
  },
  {
   "cell_type": "code",
   "execution_count": 256,
   "metadata": {},
   "outputs": [],
   "source": [
    "@lru_cache(maxsize=2**10)\n",
    "def seperate(text, max_len=7):\n",
    "    # max_len 是单个中文拼音的最大长度+1，如果考虑edits2，可以设为9\n",
    "    candidates = [(prob(text, penalty), 0)]\n",
    "    for i in range(1, max_len):\n",
    "        if i >= len(text):\n",
    "            break\n",
    "        candidates.append((seperate(text[:i], max_len) * seperate(text[i:], max_len), i))\n",
    "    max_prob, cut_point = max(candidates, key=lambda x: x[0])\n",
    "#     print(text, candidates)\n",
    "    cut_points[text] = cut_point\n",
    "    return max_prob\n",
    "\n",
    "def parse_cut_points(text):\n",
    "    i = cut_points[text]\n",
    "    if not i:\n",
    "        return [text]\n",
    "    return parse_cut_points(text[:i]) + parse_cut_points(text[i:])"
   ]
  },
  {
   "cell_type": "code",
   "execution_count": 250,
   "metadata": {},
   "outputs": [],
   "source": [
    "@timer\n",
    "def seperate_correct(text):\n",
    "    seperate(text)\n",
    "    result = \" \".join(parse_cut_points(text))\n",
    "    print(result)\n",
    "    return correct_sequence_pinyin(result)"
   ]
  },
  {
   "cell_type": "code",
   "execution_count": 251,
   "metadata": {},
   "outputs": [
    {
     "name": "stdout",
     "output_type": "stream",
     "text": [
      "zeh sih yi ge ece sho\n",
      "Time cost: 5.333781003952026\n"
     ]
    },
    {
     "data": {
      "text/plain": [
       "'zhe shi yi ge ce shi'"
      ]
     },
     "execution_count": 251,
     "metadata": {},
     "output_type": "execute_result"
    }
   ],
   "source": [
    "penalty=[1,0.1,1e-7,1e-9]\n",
    "seperate_correct(\"zehsihyigeecesho\")"
   ]
  },
  {
   "cell_type": "code",
   "execution_count": 257,
   "metadata": {},
   "outputs": [
    {
     "name": "stdout",
     "output_type": "stream",
     "text": [
      "bei jign min hang\n",
      "Time cost: 3.4814696311950684\n"
     ]
    },
    {
     "data": {
      "text/plain": [
       "'bei jin min hang'"
      ]
     },
     "execution_count": 257,
     "metadata": {},
     "output_type": "execute_result"
    }
   ],
   "source": [
    "penalty=[1,0.1,1e-7,1e-9]\n",
    "seperate_correct(\"beijignminhang\")"
   ]
  },
  {
   "cell_type": "code",
   "execution_count": 255,
   "metadata": {},
   "outputs": [
    {
     "name": "stdout",
     "output_type": "stream",
     "text": [
      "qinng hua da xue\n",
      "Time cost: 2.8271310329437256\n"
     ]
    },
    {
     "data": {
      "text/plain": [
       "'qing hua da xue'"
      ]
     },
     "execution_count": 255,
     "metadata": {},
     "output_type": "execute_result"
    }
   ],
   "source": [
    "penalty=[1,1e-5,1e-7,1e-9]\n",
    "seperate_correct(\"qinnghuadaxue\")"
   ]
  },
  {
   "cell_type": "markdown",
   "metadata": {},
   "source": [
    "切分结果不太好，与对纠正词的惩罚系数关系比较大，不清楚是不是概率计算有问题。。"
   ]
  },
  {
   "cell_type": "markdown",
   "metadata": {},
   "source": [
    "添加2gram"
   ]
  },
  {
   "cell_type": "code",
   "execution_count": 51,
   "metadata": {},
   "outputs": [],
   "source": [
    "# TODO\n",
    "def seperate_2_gram(text, penalty, max_len=7):\n",
    "    candidates = []\n",
    "    for i in range(1, max_len):\n",
    "        if i >= len(text):\n",
    "            break\n",
    "        for j in range(i, i + max_len):\n",
    "            if j >= len(text):\n",
    "                break\n",
    "            candidates.append((prob_2(text[:i], text[i:j], penalty), i, j))\n",
    "    if not candidates:\n",
    "        return [text[pre:]]\n",
    "    candidates.append((prob(text, penalty), 0, -1))\n",
    "    max_prob, cut_point_1, cut_point_2 = max(candidates, key=lambda x: x[0])\n",
    "    result = [text[:cut_point_1]]\n",
    "    if cut_point_2 > 0:\n",
    "        result = result + [text[cut_point_1:cut_point_2]] + seperate(text[cut_point_2:], penalty, max_len)\n",
    "    return result"
   ]
  },
  {
   "cell_type": "markdown",
   "metadata": {},
   "source": [
    "#### 训练序列标注模型，预测切分点"
   ]
  },
  {
   "cell_type": "code",
   "execution_count": 27,
   "metadata": {},
   "outputs": [],
   "source": [
    "import numpy as np\n",
    "from sklearn.preprocessing import OneHotEncoder\n",
    "from sklearn.model_selection import train_test_split"
   ]
  },
  {
   "cell_type": "code",
   "execution_count": 28,
   "metadata": {},
   "outputs": [],
   "source": [
    "@timer\n",
    "def generate_data(tokens, change_ratio = 0.25):\n",
    "    X = []\n",
    "    y = []\n",
    "    for token in tokens:\n",
    "        sep_flag = True\n",
    "        change = np.random.random() < change_ratio\n",
    "        if change:\n",
    "            token = np.random.choice(list(edits1(token)))\n",
    "        for w in token:\n",
    "            if sep_flag:\n",
    "                y.append(1)\n",
    "                sep_flag = False\n",
    "            else:\n",
    "                y.append(0)\n",
    "            X.append(w)\n",
    "    return X, y"
   ]
  },
  {
   "cell_type": "code",
   "execution_count": 29,
   "metadata": {},
   "outputs": [
    {
     "data": {
      "text/plain": [
       "31266106"
      ]
     },
     "execution_count": 29,
     "metadata": {},
     "output_type": "execute_result"
    }
   ],
   "source": [
    "len(CHINESE_PINYIN_TOKENS)"
   ]
  },
  {
   "cell_type": "code",
   "execution_count": null,
   "metadata": {
    "scrolled": true
   },
   "outputs": [],
   "source": [
    "X, y = generate_data(CHINESE_PINYIN_TOKENS[:1000000])"
   ]
  },
  {
   "cell_type": "code",
   "execution_count": 51,
   "metadata": {},
   "outputs": [
    {
     "data": {
      "text/plain": [
       "98107944"
      ]
     },
     "execution_count": 51,
     "metadata": {},
     "output_type": "execute_result"
    }
   ],
   "source": [
    "len(y)"
   ]
  },
  {
   "cell_type": "code",
   "execution_count": 52,
   "metadata": {},
   "outputs": [],
   "source": [
    "X = np.array(X)[:98103456]"
   ]
  },
  {
   "cell_type": "code",
   "execution_count": 53,
   "metadata": {},
   "outputs": [],
   "source": [
    "y = y[:98103456]"
   ]
  },
  {
   "cell_type": "code",
   "execution_count": 54,
   "metadata": {},
   "outputs": [],
   "source": [
    "X = X.reshape(-1, 1)"
   ]
  },
  {
   "cell_type": "code",
   "execution_count": null,
   "metadata": {},
   "outputs": [],
   "source": [
    "encoder = OneHotEncoder(sparse=False)\n",
    "X = encoder.fit_transform(X) "
   ]
  },
  {
   "cell_type": "code",
   "execution_count": null,
   "metadata": {
    "scrolled": true
   },
   "outputs": [],
   "source": [
    "X_train, X_test, y_train, y_test = train_test_split(X, y, test_size = 0.01, shuffle=False)"
   ]
  },
  {
   "cell_type": "code",
   "execution_count": 43,
   "metadata": {},
   "outputs": [],
   "source": [
    "import tensorflow as tf\n",
    "from tensorflow.keras import layers, Sequential\n",
    "from tensorflow.keras.losses import BinaryCrossentropy\n",
    "from tensorflow.keras.optimizers import Adam"
   ]
  },
  {
   "cell_type": "code",
   "execution_count": null,
   "metadata": {},
   "outputs": [],
   "source": [
    "model = Sequential([\n",
    "    layers.Bidirectional(layers.GRU(64, return_sequences=True), input_shape=(32,26)),\n",
    "    layers.Dense(64, activation='relu'),\n",
    "    layers.Dense(1)\n",
    "])"
   ]
  },
  {
   "cell_type": "code",
   "execution_count": null,
   "metadata": {},
   "outputs": [],
   "source": [
    "model.compile(loss=BinaryCrossentropy(from_logits=True),\n",
    "              optimizer=Adam(1e-4),\n",
    "              metrics=['accuracy'])"
   ]
  },
  {
   "cell_type": "code",
   "execution_count": null,
   "metadata": {},
   "outputs": [],
   "source": [
    "# 模型结构\n",
    "model.summary()"
   ]
  },
  {
   "cell_type": "code",
   "execution_count": null,
   "metadata": {},
   "outputs": [],
   "source": [
    "# 模型训练，50个epoch\n",
    "history = model.fit(X_train,\n",
    "                    y_train,\n",
    "                    batch_size=100,\n",
    "                    epochs=50)"
   ]
  },
  {
   "cell_type": "code",
   "execution_count": null,
   "metadata": {},
   "outputs": [],
   "source": [
    "# 获取模型在测试集上的评价指标\n",
    "loss, accuracy = model.evaluate(X_test, y_test)"
   ]
  },
  {
   "cell_type": "code",
   "execution_count": null,
   "metadata": {},
   "outputs": [],
   "source": [
    "# 保存模型结构和参数，文件较大，下次可以直接load_model继续训练\n",
    "model.save(\"./output/model_epoch_50.h5\")"
   ]
  },
  {
   "cell_type": "code",
   "execution_count": null,
   "metadata": {},
   "outputs": [],
   "source": [
    "# 重新加载模型和参数\n",
    "model = tf.keras.models.load_model(\"./output/model_epoch_50.h5\")"
   ]
  }
 ],
 "metadata": {
  "kernelspec": {
   "display_name": "Python 3",
   "language": "python",
   "name": "python3"
  },
  "language_info": {
   "codemirror_mode": {
    "name": "ipython",
    "version": 3
   },
   "file_extension": ".py",
   "mimetype": "text/x-python",
   "name": "python",
   "nbconvert_exporter": "python",
   "pygments_lexer": "ipython3",
   "version": "3.7.3"
  },
  "toc": {
   "base_numbering": 1,
   "nav_menu": {},
   "number_sections": false,
   "sideBar": true,
   "skip_h1_title": false,
   "title_cell": "Table of Contents",
   "title_sidebar": "Contents",
   "toc_cell": false,
   "toc_position": {},
   "toc_section_display": true,
   "toc_window_display": false
  }
 },
 "nbformat": 4,
 "nbformat_minor": 4
}
